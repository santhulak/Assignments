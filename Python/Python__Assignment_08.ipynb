{
  "nbformat": 4,
  "nbformat_minor": 0,
  "metadata": {
    "colab": {
      "provenance": [],
      "collapsed_sections": []
    },
    "kernelspec": {
      "name": "python3",
      "display_name": "Python 3"
    },
    "language_info": {
      "name": "python"
    }
  },
  "cells": [
    {
      "cell_type": "markdown",
      "source": [
        "1.Is the Python Standard Library included with PyInputPlus?\n",
        "\n",
        "\n",
        "PyInputPlus is not a standard python library. We must install it separately using pip."
      ],
      "metadata": {
        "id": "Av9EEE0tjPCC"
      }
    },
    {
      "cell_type": "markdown",
      "source": [
        "2.Why is PyInputPlus commonly imported with import pyinputplus as pypi?\n",
        "\n",
        "import pyinputplus as pypi\n",
        "\n",
        "\n",
        "pypi is the shorter name for pyinputplus. I can used for calling functions easily with short name."
      ],
      "metadata": {
        "id": "DY5vDD50jT2Q"
      }
    },
    {
      "cell_type": "markdown",
      "source": [
        "3.How do you distinguish between inputInt() and inputFloat()?\n",
        "\n",
        "inputInt() - Accepts integer value and returns int\n",
        "\n",
        "inputFloat()- Accepts Floating point numeric value and returns float"
      ],
      "metadata": {
        "id": "owKzhxjajVOw"
      }
    },
    {
      "cell_type": "markdown",
      "source": [
        "4.Using PyInputPlus, how do you ensure that the user enters a whole number between 0 and 99?\n",
        "\n",
        "\n",
        "\n",
        "```\n",
        "import PyInputPlus as pypi\n",
        "pypi.inputInt(min=0,max=99)\n",
        "```\n",
        "\n"
      ],
      "metadata": {
        "id": "F6VQUNgDjWuT"
      }
    },
    {
      "cell_type": "markdown",
      "source": [
        "5.What is transferred to the keyword arguments allowRegexes and blockRegexes?\n",
        "\n",
        "A list of regex strings that are either explicitly allowed or denied"
      ],
      "metadata": {
        "id": "xviCHE0rjYD_"
      }
    },
    {
      "cell_type": "markdown",
      "source": [
        "6.If a blank input is entered three times, what does inputStr(limit=3) do?\n",
        "\n",
        "inputStr(limit=3) will raise **RetryLimitException**\n"
      ],
      "metadata": {
        "id": "VpMk2RSWjZW_"
      }
    },
    {
      "cell_type": "markdown",
      "source": [
        "7.If blank input is entered three times, what does inputStr(limit=3, default='hello') do?\n",
        "\n",
        "inputStr(limit=3, default='hello') functions returns the value **hello**"
      ],
      "metadata": {
        "id": "IrcDzj22jawT"
      }
    }
  ]
}