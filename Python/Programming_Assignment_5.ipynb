{
  "nbformat": 4,
  "nbformat_minor": 0,
  "metadata": {
    "colab": {
      "provenance": [],
      "collapsed_sections": []
    },
    "kernelspec": {
      "name": "python3",
      "display_name": "Python 3"
    },
    "language_info": {
      "name": "python"
    }
  },
  "cells": [
    {
      "cell_type": "markdown",
      "source": [
        "**Programming Assignment_5**"
      ],
      "metadata": {
        "id": "hj4n8UCrJBc6"
      }
    },
    {
      "cell_type": "markdown",
      "source": [
        "1.Write a Python Program to Find LCM?\n"
      ],
      "metadata": {
        "id": "ZWhT2lCxJzIS"
      }
    },
    {
      "cell_type": "code",
      "execution_count": 3,
      "metadata": {
        "colab": {
          "base_uri": "https://localhost:8080/"
        },
        "id": "gCj88931I9Li",
        "outputId": "610bbc7c-97ef-401e-c11a-fe9f1467fbcf"
      },
      "outputs": [
        {
          "output_type": "stream",
          "name": "stdout",
          "text": [
            "Enter the value 1: 23\n",
            "Enter the value 2: 56\n",
            "L.C.M is :  1288\n"
          ]
        }
      ],
      "source": [
        "x = int(input(\"Enter the value 1: \"))\n",
        "y = int(input(\"Enter the value 2: \"))\n",
        "if x>y:\n",
        "  greater = x\n",
        "else:\n",
        "  greater = y\n",
        "while(True):\n",
        "  if(greater % x == 0 and greater % y == 0):\n",
        "    lcm = greater\n",
        "    break\n",
        "  greater += 1\n",
        "print(\"L.C.M is : \" , lcm)\n",
        "\n"
      ]
    },
    {
      "cell_type": "markdown",
      "source": [
        "2.\tWrite a Python Program to Find HCF?\n"
      ],
      "metadata": {
        "id": "KYZymIEMJ4Hp"
      }
    },
    {
      "cell_type": "code",
      "source": [
        "x = int(input(\"Enter the value 1: \"))\n",
        "y = int(input(\"Enter the value 2: \"))\n",
        "if x>y:\n",
        "  smaller = y\n",
        "else:\n",
        "  smaller = x\n",
        "for i in range(1,smaller+1):\n",
        "  if(x % i == 0 and y % i == 0):\n",
        "    hcf = i  \n",
        "print(\"H.C.F is : \" , hcf)"
      ],
      "metadata": {
        "colab": {
          "base_uri": "https://localhost:8080/"
        },
        "id": "xgijYRdqJ5lt",
        "outputId": "b1576e24-3b6f-4b45-e368-ddec3cc1400a"
      },
      "execution_count": 5,
      "outputs": [
        {
          "output_type": "stream",
          "name": "stdout",
          "text": [
            "Enter the value 1: 8\n",
            "Enter the value 2: 12\n",
            "H.C.F is :  4\n"
          ]
        }
      ]
    },
    {
      "cell_type": "markdown",
      "source": [
        "3.\tWrite a Python Program to Convert Decimal to Binary, Octal and Hexadecimal?\n"
      ],
      "metadata": {
        "id": "hm_sPWUyJ58R"
      }
    },
    {
      "cell_type": "code",
      "source": [
        "x = int(input())\n",
        "print(\"Binary Value: \", bin(x))\n",
        "print(\"Octal Value: \", oct(x))\n",
        "print(\"Hexadecimal Value: \", hex(x))"
      ],
      "metadata": {
        "colab": {
          "base_uri": "https://localhost:8080/"
        },
        "id": "oIWctqd-J7dp",
        "outputId": "1db54f06-24fb-410e-e9a1-ea9c3e4abcf1"
      },
      "execution_count": 9,
      "outputs": [
        {
          "output_type": "stream",
          "name": "stdout",
          "text": [
            "45\n",
            "Binary Value:  0b101101\n",
            "Octal Value:  0o55\n",
            "Hexadecimal Value:  0x2d\n"
          ]
        }
      ]
    },
    {
      "cell_type": "markdown",
      "source": [
        "4.\tWrite a Python Program To Find ASCII value of a character?\n"
      ],
      "metadata": {
        "id": "WBwRKOnUJ7uR"
      }
    },
    {
      "cell_type": "code",
      "source": [
        "a = input()\n",
        "asc = ord(a)\n",
        "print(f\"ASCII Value of {a} is {asc}\")"
      ],
      "metadata": {
        "colab": {
          "base_uri": "https://localhost:8080/"
        },
        "id": "MejqF2fwJ9N4",
        "outputId": "1b1e42fd-6ebf-45a3-bb73-8bce0586338b"
      },
      "execution_count": 10,
      "outputs": [
        {
          "output_type": "stream",
          "name": "stdout",
          "text": [
            "f\n",
            "ASCII Value of f is 102\n"
          ]
        }
      ]
    },
    {
      "cell_type": "markdown",
      "source": [
        "5.\tWrite a Python Program to Make a Simple Calculator with 4 basic mathematical operations?"
      ],
      "metadata": {
        "id": "IdrI_mcCJ9qp"
      }
    },
    {
      "cell_type": "code",
      "source": [
        "def add(a,b):\n",
        "  return a + b\n",
        "def sub(a,b):\n",
        "  return a - b\n",
        "def mul(a,b):\n",
        "  return a * b\n",
        "def div(a,b):\n",
        "  return a / b\n",
        "\n",
        "print(\"Enter the Operation: \")\n",
        "print(\"1.Add\")\n",
        "print(\"2.Subtraction\") \n",
        "print(\"3.Multiplication\")\n",
        "print(\"4.Division\")\n",
        "\n",
        "choice = input(\"Enter your choice (1/2/3/4) : \")\n",
        "\n",
        "x = int(input(\"Enter the first number : \"))\n",
        "y = int(input(\"Enter the second number : \"))\n",
        "\n",
        "if choice == '1':\n",
        "  print(f\"Sum of {x} and {y} : {add(x,y)}\")\n",
        "elif choice == '2':\n",
        "  print(f\"{y} subtracted from {x} : {sub(x,y)}\")\n",
        "elif choice == '3':\n",
        "  print(f\"{x} multiplied by {y} : {mul(x,y)}\")\n",
        "elif choice == '4':\n",
        "  print(f\"{x} divided by {y} : {div(x,y)}\")\n",
        "else:\n",
        "  print(\"Invalid Input\")"
      ],
      "metadata": {
        "colab": {
          "base_uri": "https://localhost:8080/"
        },
        "id": "HgZwDBCdT7mu",
        "outputId": "93cb948f-7527-4a31-edb4-ba52cae2d510"
      },
      "execution_count": 16,
      "outputs": [
        {
          "output_type": "stream",
          "name": "stdout",
          "text": [
            "Enter the Operation: \n",
            "1.Add\n",
            "2.Subtraction\n",
            "3.Multiplication\n",
            "4.Division\n",
            "Enter your choice (1/2/3/4) : 3\n",
            "Enter the first number : 3\n",
            "Enter the second number : 7\n",
            "3 multiplied by 7 : 21\n"
          ]
        }
      ]
    }
  ]
}