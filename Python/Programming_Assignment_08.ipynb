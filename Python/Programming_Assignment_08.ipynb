{
  "nbformat": 4,
  "nbformat_minor": 0,
  "metadata": {
    "colab": {
      "provenance": [],
      "collapsed_sections": []
    },
    "kernelspec": {
      "name": "python3",
      "display_name": "Python 3"
    },
    "language_info": {
      "name": "python"
    }
  },
  "cells": [
    {
      "cell_type": "markdown",
      "source": [
        "**Programming_Assignment_08**"
      ],
      "metadata": {
        "id": "wL0HQ-4ObEFI"
      }
    },
    {
      "cell_type": "markdown",
      "source": [
        "1.\tWrite a Python Program to Add Two Matrices?\n",
        "\n"
      ],
      "metadata": {
        "id": "7_eLOcgFbBka"
      }
    },
    {
      "cell_type": "code",
      "source": [
        "a = [[1,2,3],[4,5,6],[7,8,9]]\n",
        "b = [[11,12,13],[14,15,16],[17,18,19]]\n",
        "res =[[0,0,0],[0,0,0],[0,0,0]]\n",
        "for i in range(len(a)):\n",
        "  for j in range(len(a[0])):\n",
        "    res[i][j] = a[i][j] + b[i][j]\n",
        "for r in res:\n",
        "  print(r)\n"
      ],
      "metadata": {
        "id": "NzjxAEuHblPQ",
        "colab": {
          "base_uri": "https://localhost:8080/"
        },
        "outputId": "0594e2d4-ad3b-4e48-a1ac-72388a83604d"
      },
      "execution_count": null,
      "outputs": [
        {
          "output_type": "stream",
          "name": "stdout",
          "text": [
            "[12, 14, 16]\n",
            "[18, 20, 22]\n",
            "[24, 26, 28]\n"
          ]
        }
      ]
    },
    {
      "cell_type": "markdown",
      "source": [
        "2.\tWrite a Python Program to Multiply Two Matrices?\n"
      ],
      "metadata": {
        "id": "bmlRbphGbmAA"
      }
    },
    {
      "cell_type": "code",
      "source": [
        "a = [[1,2,3],[4,5,6],[7,8,9]]\n",
        "b = [[11,12,13],[14,15,16],[17,18,19]]\n",
        "res =[[0,0,0],[0,0,0],[0,0,0]]\n",
        "for i in range(len(a)):\n",
        "  for j in range(len(b[0])):\n",
        "    for k in range(len(b)):\n",
        "      res[i][j] += a[i][k] * b[k][j]\n",
        "for r in res:\n",
        "  print(r)"
      ],
      "metadata": {
        "id": "_n3OkRjMbnlX",
        "colab": {
          "base_uri": "https://localhost:8080/"
        },
        "outputId": "a0049ac0-d21f-465c-a126-149f1725cdf3"
      },
      "execution_count": null,
      "outputs": [
        {
          "output_type": "stream",
          "name": "stdout",
          "text": [
            "[90, 96, 102]\n",
            "[216, 231, 246]\n",
            "[342, 366, 390]\n"
          ]
        }
      ]
    },
    {
      "cell_type": "markdown",
      "source": [
        "3.\tWrite a Python Program to Transpose a Matrix?\n"
      ],
      "metadata": {
        "id": "Xp_uEYrWbn3Q"
      }
    },
    {
      "cell_type": "code",
      "source": [
        "X = [[45,89,55],[21,34,23]]\n",
        "\n",
        "res =[[0,0],[0,0],[0,0]]\n",
        "\n",
        "for i in range(len(X)):\n",
        "  for j in range(len(X[0])):\n",
        "    res[j][i] = X[i][j]\n",
        "print(\"Transpose of Matrix: \")\n",
        "for r in res:\n",
        "  \n",
        "  print(r)"
      ],
      "metadata": {
        "id": "YwwEegibbpPI",
        "colab": {
          "base_uri": "https://localhost:8080/"
        },
        "outputId": "568d82c4-f0b0-4caa-8f74-1d918c310763"
      },
      "execution_count": 18,
      "outputs": [
        {
          "output_type": "stream",
          "name": "stdout",
          "text": [
            "Transpose of Matrix: \n",
            "[45, 21]\n",
            "[89, 34]\n",
            "[55, 23]\n"
          ]
        }
      ]
    },
    {
      "cell_type": "markdown",
      "source": [
        "4.\tWrite a Python Program to Sort Words in Alphabetic Order?\n"
      ],
      "metadata": {
        "id": "OXRhNhd0bpu4"
      }
    },
    {
      "cell_type": "code",
      "source": [
        "str =input(\"Enter a sentence: \")\n",
        "str = str.lower()\n",
        "words = str.split()\n",
        "words.sort()\n",
        "print(\"Sorted in Alphabetical Order: \")\n",
        "for word in words:\n",
        "  print(word)\n"
      ],
      "metadata": {
        "id": "FALxztmgbrdQ",
        "colab": {
          "base_uri": "https://localhost:8080/"
        },
        "outputId": "d3e250b9-f5eb-46ec-f2b7-20494b6d5a1c"
      },
      "execution_count": 31,
      "outputs": [
        {
          "output_type": "stream",
          "name": "stdout",
          "text": [
            "Enter a sentence: Welcome To Data Science Boot Camp\n",
            "Sorted in Alphabetical Order: \n",
            "boot\n",
            "camp\n",
            "data\n",
            "science\n",
            "to\n",
            "welcome\n"
          ]
        }
      ]
    },
    {
      "cell_type": "markdown",
      "source": [
        "5.\tWrite a Python Program to Remove Punctuation From a String?"
      ],
      "metadata": {
        "id": "cU2cs4mYbryw"
      }
    },
    {
      "cell_type": "code",
      "source": [
        "punc = \"' , . / \\ | [ ] { } ! @ # $ % ^ & * ( ) : ; ~ `\"\n",
        "\n",
        "no_punc =\" \"\n",
        "str = input(\"Enter a String : \")\n",
        "for i in str:\n",
        "  if i not in punc:\n",
        "    no_punc = no_punc + i\n",
        "print(no_punc)\n"
      ],
      "metadata": {
        "id": "hXAGnVInbsq4",
        "colab": {
          "base_uri": "https://localhost:8080/"
        },
        "outputId": "f1f59890-e3ea-40bc-c8a2-6c29f312343c"
      },
      "execution_count": 33,
      "outputs": [
        {
          "output_type": "stream",
          "name": "stdout",
          "text": [
            "Enter a String : \"{ W}elcome to &%Python % $Progra#m~ming':\" \n",
            " \"WelcometoPythonProgramming\"\n"
          ]
        }
      ]
    }
  ]
}