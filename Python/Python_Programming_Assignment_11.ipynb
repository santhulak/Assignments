{
  "nbformat": 4,
  "nbformat_minor": 0,
  "metadata": {
    "colab": {
      "provenance": [],
      "collapsed_sections": []
    },
    "kernelspec": {
      "name": "python3",
      "display_name": "Python 3"
    },
    "language_info": {
      "name": "python"
    }
  },
  "cells": [
    {
      "cell_type": "markdown",
      "source": [
        "**Python_Programming_Assignment_11**"
      ],
      "metadata": {
        "id": "bMmEFaWO627Q"
      }
    },
    {
      "cell_type": "markdown",
      "source": [
        "1.Write a Python program to find words which are greater than given length k?\n",
        "\n",
        "\n",
        "\n"
      ],
      "metadata": {
        "id": "PGUoz7Q962Dw"
      }
    },
    {
      "cell_type": "code",
      "source": [
        "def len_k(length, str):\n",
        "  word = str.split(\" \")\n",
        "  for i in word:\n",
        "    if len(i)>length:\n",
        "      print(i)\n",
        "\n",
        "len_k(4,\"Welcome to Data Science Boot Camp\")"
      ],
      "metadata": {
        "colab": {
          "base_uri": "https://localhost:8080/"
        },
        "id": "KSLNhCtzq9za",
        "outputId": "06b742d8-3dbc-4c10-c58c-2bd6d5f565ba"
      },
      "execution_count": 1,
      "outputs": [
        {
          "output_type": "stream",
          "name": "stdout",
          "text": [
            "Welcome\n",
            "Science\n"
          ]
        }
      ]
    },
    {
      "cell_type": "markdown",
      "source": [
        "2.Write a Python program for removing i-th character from a string?\n"
      ],
      "metadata": {
        "id": "rkoIspjM6_vI"
      }
    },
    {
      "cell_type": "code",
      "source": [
        "\n",
        "def rem_char(s,i):\n",
        "  for index in range(len(str)):\n",
        "    if index == i:\n",
        "      s = s.replace(s[i],\"\",1)\n",
        "  return s\n",
        "\n",
        "str = input(\"Enter the string: \")\n",
        "i = int(input(\"Enter the index : \"))\n",
        "rem_char(str,i)"
      ],
      "metadata": {
        "colab": {
          "base_uri": "https://localhost:8080/",
          "height": 70
        },
        "id": "tE00HQjLrvWq",
        "outputId": "ff3965a8-3dc5-4544-a43a-c2b45129e12a"
      },
      "execution_count": 14,
      "outputs": [
        {
          "name": "stdout",
          "output_type": "stream",
          "text": [
            "Enter the string: Data Science\n",
            "Enter the index : 5\n"
          ]
        },
        {
          "output_type": "execute_result",
          "data": {
            "text/plain": [
              "'Data cience'"
            ],
            "application/vnd.google.colaboratory.intrinsic+json": {
              "type": "string"
            }
          },
          "metadata": {},
          "execution_count": 14
        }
      ]
    },
    {
      "cell_type": "markdown",
      "source": [
        "3.Write a Python program to split and join a string?\n"
      ],
      "metadata": {
        "id": "Q9LSd-8M7Bcq"
      }
    },
    {
      "cell_type": "code",
      "source": [
        "#split String Function\n",
        "def split_str(s):\n",
        "  sep_str = str.split(\" \")\n",
        "  return sep_str\n",
        "\n",
        "#Joining the string\n",
        "def join_str(sep_str):\n",
        "  mer_str = ' '.join(sep_str)\n",
        "  return mer_str\n",
        "str = input(\"Enter the string: \")\n",
        "\n",
        "sep_str = split_str(str)\n",
        "print(\"After Splitting: \", sep_str)\n",
        "\n",
        "merged = join_str(sep_str)\n",
        "print(\"After Joining: \",merged)\n"
      ],
      "metadata": {
        "colab": {
          "base_uri": "https://localhost:8080/"
        },
        "id": "MpWgMKwWvEoX",
        "outputId": "11126bb1-253b-4f93-c9d1-ea6fee7cb824"
      },
      "execution_count": 20,
      "outputs": [
        {
          "output_type": "stream",
          "name": "stdout",
          "text": [
            "Enter the string: Artificial Intelligence is the future\n",
            "After Splitting:  ['Artificial', 'Intelligence', 'is', 'the', 'future']\n",
            "After Joining:  Artificial Intelligence is the future\n"
          ]
        }
      ]
    },
    {
      "cell_type": "markdown",
      "source": [
        "4.Write a Python to check if a given string is binary string or not?\n"
      ],
      "metadata": {
        "id": "ZzRMqaBO7C1W"
      }
    },
    {
      "cell_type": "code",
      "source": [
        "def check_binary(str):\n",
        "  b = set(str);\n",
        "  s = {'0','1'}\n",
        "  if s == b or b =={'0'} or b == {'1'}:\n",
        "    print(f\"{str} is a binary string\")\n",
        "  else:\n",
        "    print(f\"{str} is not a binary string\")\n",
        "\n",
        "s1 ='03000201'\n",
        "check_binary(s1)\n",
        "s2 = \"01011001001\"\n",
        "check_binary(s2)"
      ],
      "metadata": {
        "colab": {
          "base_uri": "https://localhost:8080/"
        },
        "id": "DkwE-fcHITme",
        "outputId": "3ce10326-3651-4de3-832d-3ea4c75c77ca"
      },
      "execution_count": 23,
      "outputs": [
        {
          "output_type": "stream",
          "name": "stdout",
          "text": [
            "03000201 is not a binary string\n",
            "01011001001 is a binary string\n"
          ]
        }
      ]
    },
    {
      "cell_type": "markdown",
      "source": [
        "5.Write a Python program to find uncommon words from two Strings?\n"
      ],
      "metadata": {
        "id": "SQFxzjr-7ENo"
      }
    },
    {
      "cell_type": "code",
      "source": [
        "s1 = \"Apple is the best fruit\"\n",
        "s2 = \"Mango is better than Apple\"\n",
        "s1 = s1.split()\n",
        "s2 = s2.split()\n",
        "res = set(s1).symmetric_difference(set(s2))\n",
        "print(list(res))"
      ],
      "metadata": {
        "colab": {
          "base_uri": "https://localhost:8080/"
        },
        "id": "6YKiuRApJ7Wg",
        "outputId": "7825488b-caf7-4742-8cb1-ad30d4a3023d"
      },
      "execution_count": 28,
      "outputs": [
        {
          "output_type": "stream",
          "name": "stdout",
          "text": [
            "['Mango', 'fruit', 'than', 'the', 'better', 'best']\n"
          ]
        }
      ]
    },
    {
      "cell_type": "markdown",
      "source": [
        "6.Write a Python to find all duplicate characters in string?\n"
      ],
      "metadata": {
        "id": "15V0vAPP7Fqk"
      }
    },
    {
      "cell_type": "code",
      "source": [
        "str =\"This is my 11th assignment in python programming\"\n",
        "dup = []\n",
        "for char in str:\n",
        "  if str.count(char)> 1 and char not in dup:\n",
        "    dup.append(char)\n",
        "print(dup)\n"
      ],
      "metadata": {
        "colab": {
          "base_uri": "https://localhost:8080/"
        },
        "id": "i1Vicd0DLRgN",
        "outputId": "4f6424ef-c7d0-4b58-a57e-0de6cab49346"
      },
      "execution_count": 33,
      "outputs": [
        {
          "output_type": "stream",
          "name": "stdout",
          "text": [
            "['h', 'i', 's', ' ', 'm', 'y', '1', 't', 'a', 'g', 'n', 'p', 'o', 'r']\n"
          ]
        }
      ]
    }
  ]
}