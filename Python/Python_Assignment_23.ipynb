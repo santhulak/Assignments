{
  "nbformat": 4,
  "nbformat_minor": 0,
  "metadata": {
    "colab": {
      "provenance": [],
      "collapsed_sections": []
    },
    "kernelspec": {
      "name": "python3",
      "display_name": "Python 3"
    },
    "language_info": {
      "name": "python"
    }
  },
  "cells": [
    {
      "cell_type": "markdown",
      "source": [
        "1.What is the result of the code, and why?\n",
        "\n",
        "\n",
        "Output:\n",
        "\n",
        "1 2 8\n",
        "\n",
        "\n",
        "When the function is called the value passed is a=1, b=2, c value is not passed.\n",
        "So c=8 is taken.\n",
        "\n",
        "\n"
      ],
      "metadata": {
        "id": "V_L83yVySGFX"
      }
    },
    {
      "cell_type": "code",
      "source": [
        "def func(a, b=6, c=8):\n",
        "  print(a, b, c)\n",
        "func(1, 2)"
      ],
      "metadata": {
        "colab": {
          "base_uri": "https://localhost:8080/"
        },
        "id": "ALZh-LiUgYe3",
        "outputId": "4467739d-db9e-4e54-8d9b-69cd01bd68c8"
      },
      "execution_count": 1,
      "outputs": [
        {
          "output_type": "stream",
          "name": "stdout",
          "text": [
            "1 2 8\n"
          ]
        }
      ]
    },
    {
      "cell_type": "markdown",
      "source": [
        "2.What is the result of this code, and why?\n",
        "\n",
        "Output:\n",
        "\n",
        "1 2 3\n",
        "\n",
        "During the function call the values passed as a=1, b=2,c=3 returns as an output\n"
      ],
      "metadata": {
        "id": "cTu7p93rSMyE"
      }
    },
    {
      "cell_type": "code",
      "source": [
        "def func(a, b, c=5):\n",
        "  print(a, b, c)\n",
        "  \n",
        "func(1, c=3, b=2)"
      ],
      "metadata": {
        "colab": {
          "base_uri": "https://localhost:8080/"
        },
        "id": "QFRCX-34hK5u",
        "outputId": "bffc00d8-c118-48a5-b2f8-c4901b72a9de"
      },
      "execution_count": 2,
      "outputs": [
        {
          "output_type": "stream",
          "name": "stdout",
          "text": [
            "1 2 3\n"
          ]
        }
      ]
    },
    {
      "cell_type": "markdown",
      "source": [
        "3.How about this code: what is its result, and why?\n",
        "\n",
        "Output:\n",
        "\n",
        "1 (2 3)\n",
        "\n",
        "*pargs means the variable length arguments\n",
        "\n",
        "(2,3) is passed for *pargs and it is returned in the form of tuples.\n",
        "\n",
        "\n"
      ],
      "metadata": {
        "id": "9ymrgehiSN62"
      }
    },
    {
      "cell_type": "code",
      "source": [
        "def func(a, *pargs):\n",
        "  print(a, pargs)\n",
        "  \n",
        "func(1, 2, 3)"
      ],
      "metadata": {
        "colab": {
          "base_uri": "https://localhost:8080/"
        },
        "id": "Ror-DcJthmVR",
        "outputId": "db6c2f1b-4023-4d0b-ac5c-f26edaed96f5"
      },
      "execution_count": 3,
      "outputs": [
        {
          "output_type": "stream",
          "name": "stdout",
          "text": [
            "1 (2, 3)\n"
          ]
        }
      ]
    },
    {
      "cell_type": "markdown",
      "source": [
        "4.What does this code print, and why?\n",
        "\n",
        "\n",
        "Output:\n",
        "\n",
        "1 {'c': 3, 'b': 2}\n",
        "\n",
        "**kargs means variable length keyword arguments. Input is passed in the format of key value pair. Output will be returned in the form of dictionary.\n"
      ],
      "metadata": {
        "id": "dRGvLMlbSSXU"
      }
    },
    {
      "cell_type": "code",
      "source": [
        "def func(a, **kargs):\n",
        "  print(a, kargs)\n",
        "  \n",
        "func(a=1, c=3, b=2)\n"
      ],
      "metadata": {
        "colab": {
          "base_uri": "https://localhost:8080/"
        },
        "id": "1wTUQfPIkTb1",
        "outputId": "d5df76ea-21e2-44fd-dc84-d3f0e671b6d2"
      },
      "execution_count": 4,
      "outputs": [
        {
          "output_type": "stream",
          "name": "stdout",
          "text": [
            "1 {'c': 3, 'b': 2}\n"
          ]
        }
      ]
    },
    {
      "cell_type": "markdown",
      "source": [
        "5.What gets printed by this, and explain?\n",
        "\n",
        "Output:\n",
        "\n",
        "1 5 6 5\n",
        "\n",
        "In this function the value for a is passed as 1, b, c are taken as (5,6) and the value of d is taken from the default assigned value 5."
      ],
      "metadata": {
        "id": "OLi5UwuNST-6"
      }
    },
    {
      "cell_type": "code",
      "source": [
        "def func(a, b, c=8, d=5): \n",
        "  print(a, b, c, d)\n",
        "func(1, *(5, 6))\n"
      ],
      "metadata": {
        "colab": {
          "base_uri": "https://localhost:8080/"
        },
        "id": "2EyWRMKDk7aj",
        "outputId": "9d6c702e-abc6-4358-ecaa-d7775b3b04bd"
      },
      "execution_count": 5,
      "outputs": [
        {
          "output_type": "stream",
          "name": "stdout",
          "text": [
            "1 5 6 5\n"
          ]
        }
      ]
    },
    {
      "cell_type": "markdown",
      "source": [
        "6.what is the result of this, and explain?\n",
        "\n",
        "Output:\n",
        "\n",
        "(1, ['x'], {'a': 'y'})\n",
        "\n",
        "\n",
        "In python , function can be written in single line also. Statements are separated by semicolon(;)\n",
        "\n",
        "l,m,n values given in input is modified and returns the following output\n",
        "\n",
        "l=1, m =['x'] , n = {'a':'y'} in the form of tuple\n",
        "\n"
      ],
      "metadata": {
        "id": "2mOM1N2jSVo2"
      }
    },
    {
      "cell_type": "code",
      "source": [
        "def func(a, b, c):  a = 2; b[0] = 'x'; c['a'] = 'y'\n",
        "l=1; m=[1]; n={'a':0}\n",
        "func(l, m, n)\n",
        "l, m, n"
      ],
      "metadata": {
        "colab": {
          "base_uri": "https://localhost:8080/"
        },
        "id": "S6X4a7lysj-s",
        "outputId": "449e41be-73b5-4556-be7a-29903a1f9339"
      },
      "execution_count": 7,
      "outputs": [
        {
          "output_type": "execute_result",
          "data": {
            "text/plain": [
              "(1, ['x'], {'a': 'y'})"
            ]
          },
          "metadata": {},
          "execution_count": 7
        }
      ]
    }
  ]
}