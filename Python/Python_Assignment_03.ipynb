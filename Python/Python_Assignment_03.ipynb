{
  "nbformat": 4,
  "nbformat_minor": 0,
  "metadata": {
    "colab": {
      "provenance": [],
      "collapsed_sections": []
    },
    "kernelspec": {
      "name": "python3",
      "display_name": "Python 3"
    },
    "language_info": {
      "name": "python"
    }
  },
  "cells": [
    {
      "cell_type": "markdown",
      "source": [
        "**Python_Assignment_03**"
      ],
      "metadata": {
        "id": "Gc5ribRzVS1L"
      }
    },
    {
      "cell_type": "markdown",
      "source": [
        "1. Why are functions advantageous to have in your programs?\n",
        "\n",
        "Functions are set of actions stored separately from the main program. It is reusuable, there is no need to write the same piece of code again and again.\n",
        "\n",
        "\n",
        "\n",
        "\n",
        "\n",
        "\n",
        "\n",
        "\n",
        "\n"
      ],
      "metadata": {
        "id": "QVIxrGW2WkXp"
      }
    },
    {
      "cell_type": "markdown",
      "source": [
        "2. When does the code in a function run: when it's specified or when it's called?\n",
        "\n",
        "\n",
        "Functions return the output only when it is called.\n",
        "\n",
        "eg:\n",
        "```\n",
        "def demo():\n",
        "  print (\"This is  a demo function\")\n",
        "\n",
        "#call the function\n",
        "demo()\n",
        "\n",
        "```"
      ],
      "metadata": {
        "id": "ye9N9Br3Wm4_"
      }
    },
    {
      "cell_type": "markdown",
      "source": [
        "3. What statement creates a function?\n",
        "\n",
        "Function in python is created using 'def' statement\n",
        "\n",
        "eg\n",
        "```\n",
        "def fun1():\n",
        "   pass\n",
        "```\n",
        "\n"
      ],
      "metadata": {
        "id": "S1KkpGodWsrn"
      }
    },
    {
      "cell_type": "markdown",
      "source": [
        "4. What is the difference between a function and a function call?\n",
        "\n",
        "Function is a piece of code stored away from the main program\n",
        "\n",
        "eg\n",
        "\n",
        "\n",
        "```\n",
        "def msg():\n",
        "  print(\"Welcome\")\n",
        "```\n",
        "\n",
        "  \n",
        "Function call : Function needs to be called to execute the return the output in the function\n",
        "\n",
        "```\n",
        "#call the function using function name to print the message \"Welcome\"\n",
        "msg():\n",
        "  \n",
        "```"
      ],
      "metadata": {
        "id": "pN9EjxmDWu8o"
      }
    },
    {
      "cell_type": "markdown",
      "source": [
        "5. How many global scopes are there in a Python program? How many local scopes?\n",
        "\n",
        "\n",
        "In python program there will be only one global scope per program.\n",
        "\n",
        "We can have multiple local scopes.\n",
        "\n"
      ],
      "metadata": {
        "id": "w0VAtuCoW_SX"
      }
    },
    {
      "cell_type": "markdown",
      "source": [
        "6. What happens to variables in a local scope when the function call returns?\n",
        "\n",
        "\n",
        "The local scope of the variable will be destroyed when the function call returns."
      ],
      "metadata": {
        "id": "KyPp1GnCXBSp"
      }
    },
    {
      "cell_type": "markdown",
      "source": [
        "7. What is the concept of a return value? Is it possible to have a return value in an expression?\n",
        "\n",
        "\n",
        "Return is a value which is returned when the function gets executed.\n",
        "\n",
        "Yes . we can return value in an expression"
      ],
      "metadata": {
        "id": "K5gIXshPXC0Q"
      }
    },
    {
      "cell_type": "markdown",
      "source": [
        "8. If a function does not have a return statement, what is the return value of a call to that function?\n",
        "\n",
        "If there is no return value for a function, the result of the function call will be undefined. It returns nothing."
      ],
      "metadata": {
        "id": "x22oPVUzXEZX"
      }
    },
    {
      "cell_type": "code",
      "source": [
        "def add():\n",
        "  c = 10+20"
      ],
      "metadata": {
        "id": "SND-P9bEkJQO"
      },
      "execution_count": 2,
      "outputs": []
    },
    {
      "cell_type": "code",
      "source": [
        "add()"
      ],
      "metadata": {
        "id": "nLTKjw9_kpo9"
      },
      "execution_count": 3,
      "outputs": []
    },
    {
      "cell_type": "markdown",
      "source": [
        "9. How do you make a function variable refer to the global variable?\n",
        "\n",
        "\n",
        "If we create a variable outside the function, that variable is called global variable. To create a global variable inside a function we can use 'global' keyword"
      ],
      "metadata": {
        "id": "kgIhLXNHXF9v"
      }
    },
    {
      "cell_type": "code",
      "source": [
        "x = 100\n",
        "def fun1():\n",
        "   return x + 200\n",
        "\n",
        "fun1()\n"
      ],
      "metadata": {
        "colab": {
          "base_uri": "https://localhost:8080/"
        },
        "id": "2-fO_EFXl6H2",
        "outputId": "c8e9d823-caa8-4a6d-9001-356c8af4466d"
      },
      "execution_count": 8,
      "outputs": [
        {
          "output_type": "execute_result",
          "data": {
            "text/plain": [
              "300"
            ]
          },
          "metadata": {},
          "execution_count": 8
        }
      ]
    },
    {
      "cell_type": "code",
      "source": [
        "def fun2():\n",
        "   global x\n",
        "   x = \"welcome\"\n",
        "   \n",
        "\n",
        "fun2()\n",
        "print(\"Hi\", x)"
      ],
      "metadata": {
        "colab": {
          "base_uri": "https://localhost:8080/"
        },
        "id": "nMK_KbAHluxe",
        "outputId": "46e01562-012f-49c8-8354-127efe46a3b8"
      },
      "execution_count": 6,
      "outputs": [
        {
          "output_type": "stream",
          "name": "stdout",
          "text": [
            "Hi welcome\n"
          ]
        }
      ]
    },
    {
      "cell_type": "markdown",
      "source": [
        "10. What is the data type of None?\n",
        "\n",
        "None is used to define the Null value or Null object in Python.\n"
      ],
      "metadata": {
        "id": "aQAEvE6LXHfg"
      }
    },
    {
      "cell_type": "markdown",
      "source": [
        "11. What does the sentence import areallyourpetsnamederic do?\n",
        "\n",
        "import statement imports the module named areallyourpetsnamederic\n",
        "\n",
        "eg:\n",
        "\n",
        "import areallyourpetsnamederic"
      ],
      "metadata": {
        "id": "WZZ-mAXoXI65"
      }
    },
    {
      "cell_type": "markdown",
      "source": [
        "12. If you had a bacon() feature in a spam module, what would you call it after importing spam?\n",
        "\n",
        "spam.bacon()"
      ],
      "metadata": {
        "id": "DyygETsCXKhP"
      }
    },
    {
      "cell_type": "markdown",
      "source": [
        "13. What can you do to save a programme from crashing if it encounters an error?\n",
        "\n",
        "We can use exception handling statements try and except to handle the error and prevent the programme from crashing."
      ],
      "metadata": {
        "id": "ndO9CJIyXNOY"
      }
    },
    {
      "cell_type": "markdown",
      "source": [
        "14. What is the purpose of the try clause? What is the purpose of the except clause?\n",
        "\n",
        "try block test the block of code for errors\n",
        "\n",
        "except block will handle the error\n"
      ],
      "metadata": {
        "id": "aEd4pxFKXOyg"
      }
    },
    {
      "cell_type": "code",
      "source": [
        "try:\n",
        "  print(10/0)\n",
        "except Exception as e:\n",
        "  print(\"Division by Zero error\")\n"
      ],
      "metadata": {
        "colab": {
          "base_uri": "https://localhost:8080/"
        },
        "id": "oJfdp-4DpBZU",
        "outputId": "ca57c3b7-6309-4330-f245-6898d344c862"
      },
      "execution_count": 10,
      "outputs": [
        {
          "output_type": "stream",
          "name": "stdout",
          "text": [
            "Division by Zero error\n"
          ]
        }
      ]
    },
    {
      "cell_type": "code",
      "source": [],
      "metadata": {
        "id": "hj8JlvZbpInr"
      },
      "execution_count": null,
      "outputs": []
    }
  ]
}