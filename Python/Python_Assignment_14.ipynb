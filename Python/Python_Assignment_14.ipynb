{
  "nbformat": 4,
  "nbformat_minor": 0,
  "metadata": {
    "colab": {
      "provenance": [],
      "collapsed_sections": []
    },
    "kernelspec": {
      "name": "python3",
      "display_name": "Python 3"
    },
    "language_info": {
      "name": "python"
    }
  },
  "cells": [
    {
      "cell_type": "markdown",
      "source": [
        "1.What does RGBA stand for?\n",
        "\n",
        "RGBA stands for Red Green Blue Alpha\n",
        "\n",
        "RGBA color values are extensions of RGB color values with alpha channel which specifies the opacity of the color"
      ],
      "metadata": {
        "id": "40BfnxxuFykQ"
      }
    },
    {
      "cell_type": "markdown",
      "source": [
        "2.From the Pillow module, how do you get the RGBA value of any images?\n",
        "\n",
        "imageobject.getdata() method will give the sequence of red, green,blue, alpha returns as a tuple"
      ],
      "metadata": {
        "id": "XjSHnHOFF9Ku"
      }
    },
    {
      "cell_type": "markdown",
      "source": [
        "3.What is a box tuple, and how does it work?\n",
        "\n",
        "Box Tuple is the cropped section includes the left column and top row of pixels but only goes up to and does not include the right column and bottom row of pixels.\n",
        "\n",
        "crop() method on Image objects takes a box tuple and returns an Image object representing the cropped image. "
      ],
      "metadata": {
        "id": "t6HhrpZ7F-0N"
      }
    },
    {
      "cell_type": "markdown",
      "source": [
        "4.Use your image and load in notebook then, How can you find out the width and height of an Image object?\n",
        "\n",
        "PIL.Image.open() is used to open the image \n",
        "\n",
        ".height and .width property of the image are used to get the height and width of the image.\n",
        "\n",
        "\n",
        "\n",
        "```\n",
        "from PIL import Image\n",
        "f = \"test.png\"\n",
        "img = Image.open(f)\n",
        "print(\"Height of the Image \" , img.height)\n",
        "print(\"Width of the Image \" , img.width)\n",
        "\n",
        "```\n",
        "\n"
      ],
      "metadata": {
        "id": "1ABetZ2HGAl0"
      }
    },
    {
      "cell_type": "markdown",
      "source": [
        "\n",
        "\n",
        "5.What method would you call to get Image object for a 100×100 image, excluding the lower-left quarter of it?\n",
        "\n",
        "\n",
        "Image.new() methods returns the image object\n",
        "\n",
        "crop() method returns the new image object\n",
        "\n",
        "img.crop(0,50,50,50)"
      ],
      "metadata": {
        "id": "qQXw9gQiGCJC"
      }
    },
    {
      "cell_type": "markdown",
      "source": [
        "6.After making changes to an Image object, how could you save it as an image file?\n",
        "\n",
        "\n",
        "imwrite() saves the image file to the specified path."
      ],
      "metadata": {
        "id": "moL9f5d0GDsO"
      }
    },
    {
      "cell_type": "markdown",
      "source": [
        "7.What module contains Pillow’s shape-drawing code?\n",
        "\n",
        " 'ImageDraw' module provides simple 2D graphics support for image object.\n",
        "\n",
        " Using this module, we can draw lines, rectangles, circles , write and format text on an image."
      ],
      "metadata": {
        "id": "XuhIBffkGGAA"
      }
    },
    {
      "cell_type": "markdown",
      "source": [
        "8.Image objects do not have drawing methods. What kind of object does? How do you get this kind of object?\n",
        "\n",
        "ImageDraw objects have shape-drawing methods such as point(), line(), or rectangle().They are returned by passing the Image object to the ImageDraw.Draw() function."
      ],
      "metadata": {
        "id": "_wLtqLctGIWH"
      }
    }
  ]
}