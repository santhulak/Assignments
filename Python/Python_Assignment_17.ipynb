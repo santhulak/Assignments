{
  "nbformat": 4,
  "nbformat_minor": 0,
  "metadata": {
    "colab": {
      "provenance": [],
      "collapsed_sections": []
    },
    "kernelspec": {
      "name": "python3",
      "display_name": "Python 3"
    },
    "language_info": {
      "name": "python"
    }
  },
  "cells": [
    {
      "cell_type": "markdown",
      "source": [
        "1.Assign the value 7 to the variable guess_me. Then, write the conditional tests (if, else, and elif) to print the string 'too low' if guess_me is less than 7, 'too high' if greater than 7, and 'just right' if equal to 7.\n",
        "\n",
        "\n"
      ],
      "metadata": {
        "id": "t3ybYbP7Natb"
      }
    },
    {
      "cell_type": "code",
      "source": [
        "guess_me = 7\n",
        "if guess_me < 7 :\n",
        "  print(\"too low\")\n",
        "elif guess_me > 7 :\n",
        "  print(\"too high\")\n",
        "elif guess_me == 7 :\n",
        "  print(\"just right\")"
      ],
      "metadata": {
        "colab": {
          "base_uri": "https://localhost:8080/"
        },
        "id": "PB8NuZ4ZK75x",
        "outputId": "c1edd53b-2b63-4805-a7d0-29e84937637c"
      },
      "execution_count": 1,
      "outputs": [
        {
          "output_type": "stream",
          "name": "stdout",
          "text": [
            "just right\n"
          ]
        }
      ]
    },
    {
      "cell_type": "markdown",
      "source": [
        "2.Assign the value 7 to the variable guess_me and the value 1 to the variable start. Write a while loop that compares start with guess_me. Print too low if start is less than guess me. If start equals guess_me, print 'found it!' and exit the loop. If start is greater than guess_me, print 'oops' and exit the loop. Increment start at the end of the loop.\n"
      ],
      "metadata": {
        "id": "JybAvyLfNqAZ"
      }
    },
    {
      "cell_type": "code",
      "source": [
        "guess_me = 7\n",
        "start = 1\n",
        "while True:\n",
        "  if start < guess_me :\n",
        "    print(\"too low\")\n",
        "  elif start == guess_me :\n",
        "    print(\"found it\")\n",
        "    break\n",
        "  elif start > guess_me :\n",
        "    print(\"oops\")\n",
        "    break\n",
        "  start += 1"
      ],
      "metadata": {
        "colab": {
          "base_uri": "https://localhost:8080/"
        },
        "id": "SFLdjAKCM3J-",
        "outputId": "f5a1530e-3df6-45e0-c720-2c27ce17526c"
      },
      "execution_count": 14,
      "outputs": [
        {
          "output_type": "stream",
          "name": "stdout",
          "text": [
            "too low\n",
            "too low\n",
            "too low\n",
            "too low\n",
            "too low\n",
            "too low\n",
            "found it\n"
          ]
        }
      ]
    },
    {
      "cell_type": "markdown",
      "source": [
        "3.Print the following values of the list [3, 2, 1, 0] using a for loop.\n"
      ],
      "metadata": {
        "id": "k8PsHOX5NsQn"
      }
    },
    {
      "cell_type": "code",
      "source": [
        "l = [3,2,1,0]\n",
        "for i in l:\n",
        "  print(i)"
      ],
      "metadata": {
        "colab": {
          "base_uri": "https://localhost:8080/"
        },
        "id": "TxfHWxDpSLN6",
        "outputId": "2ea06983-551a-43ef-8ea7-88d437c1af76"
      },
      "execution_count": 15,
      "outputs": [
        {
          "output_type": "stream",
          "name": "stdout",
          "text": [
            "3\n",
            "2\n",
            "1\n",
            "0\n"
          ]
        }
      ]
    },
    {
      "cell_type": "markdown",
      "source": [
        "4.Use a list comprehension to make a list of the even numbers in range(10)\n"
      ],
      "metadata": {
        "id": "6Cow0PeNNuD0"
      }
    },
    {
      "cell_type": "code",
      "source": [
        "[i for i in range(10) if i%2==0 ]\n",
        "  "
      ],
      "metadata": {
        "colab": {
          "base_uri": "https://localhost:8080/"
        },
        "id": "HJynmcSfSSXa",
        "outputId": "800b7ac1-9ff7-4da2-bb4e-6e0532c44ebf"
      },
      "execution_count": 9,
      "outputs": [
        {
          "output_type": "execute_result",
          "data": {
            "text/plain": [
              "[0, 2, 4, 6, 8, 10]"
            ]
          },
          "metadata": {},
          "execution_count": 9
        }
      ]
    },
    {
      "cell_type": "markdown",
      "source": [
        "5.Use a dictionary comprehension to create the dictionary squares. Use range(10) to return the keys, and use the square of each key as its value.\n"
      ],
      "metadata": {
        "id": "rAzx93ymNv4o"
      }
    },
    {
      "cell_type": "code",
      "source": [
        "dict([(i,i**2) for i in range(10)])"
      ],
      "metadata": {
        "colab": {
          "base_uri": "https://localhost:8080/"
        },
        "id": "40HHaFoklD5r",
        "outputId": "a36184b0-142f-4861-d9e0-73ac3ce33fe8"
      },
      "execution_count": 17,
      "outputs": [
        {
          "output_type": "execute_result",
          "data": {
            "text/plain": [
              "{0: 0, 1: 1, 2: 4, 3: 9, 4: 16, 5: 25, 6: 36, 7: 49, 8: 64, 9: 81}"
            ]
          },
          "metadata": {},
          "execution_count": 17
        }
      ]
    },
    {
      "cell_type": "markdown",
      "source": [
        "6.Construct the set odd from the odd numbers in the range using a set comprehension (10).\n"
      ],
      "metadata": {
        "id": "n_uf1A3UNxsF"
      }
    },
    {
      "cell_type": "code",
      "source": [
        "set([i for i in range(10) if i%2==1])"
      ],
      "metadata": {
        "colab": {
          "base_uri": "https://localhost:8080/"
        },
        "id": "BsKjGtO_moH8",
        "outputId": "6e072c8d-3453-4a34-ec71-1acd9f523f97"
      },
      "execution_count": 18,
      "outputs": [
        {
          "output_type": "execute_result",
          "data": {
            "text/plain": [
              "{1, 3, 5, 7, 9}"
            ]
          },
          "metadata": {},
          "execution_count": 18
        }
      ]
    },
    {
      "cell_type": "markdown",
      "source": [
        "7.Use a generator comprehension to return the string 'Got ' and a number for the numbers in range(10). Iterate through this by using a for loop.\n"
      ],
      "metadata": {
        "id": "_A6QficUNzld"
      }
    },
    {
      "cell_type": "code",
      "source": [
        "gen = ('Got ' +str(i) for i in range(10))\n",
        "for x in gen:\n",
        "  print(x,end =\" \")"
      ],
      "metadata": {
        "colab": {
          "base_uri": "https://localhost:8080/"
        },
        "id": "X43Xteqhm-M7",
        "outputId": "57b6fc24-f751-40ee-9b31-5eac8c483cad"
      },
      "execution_count": 24,
      "outputs": [
        {
          "output_type": "stream",
          "name": "stdout",
          "text": [
            "Got 0 Got 1 Got 2 Got 3 Got 4 Got 5 Got 6 Got 7 Got 8 Got 9 "
          ]
        }
      ]
    },
    {
      "cell_type": "markdown",
      "source": [
        "8.Define a function called good that returns the list ['Harry', 'Ron', 'Hermione'].\n"
      ],
      "metadata": {
        "id": "nwC77ugtN1tb"
      }
    },
    {
      "cell_type": "code",
      "source": [
        "def good(a):\n",
        "  return a"
      ],
      "metadata": {
        "id": "JveOMG1gnALx"
      },
      "execution_count": 19,
      "outputs": []
    },
    {
      "cell_type": "code",
      "source": [
        "good(['Harry', 'Ron', 'Hermione'])"
      ],
      "metadata": {
        "colab": {
          "base_uri": "https://localhost:8080/"
        },
        "id": "HF81W5sonIWN",
        "outputId": "13695003-6140-4b6f-f3a0-6ad4578731b6"
      },
      "execution_count": 20,
      "outputs": [
        {
          "output_type": "execute_result",
          "data": {
            "text/plain": [
              "['Harry', 'Ron', 'Hermione']"
            ]
          },
          "metadata": {},
          "execution_count": 20
        }
      ]
    },
    {
      "cell_type": "markdown",
      "source": [
        "9.Define a generator function called get_odds that returns the odd numbers from range(10). Use a for loop to find and print the third value returned.\n"
      ],
      "metadata": {
        "id": "X-WjnHQPN3iG"
      }
    },
    {
      "cell_type": "code",
      "source": [
        "def get_odds():\n",
        "  l = []\n",
        "  for i in range(10):\n",
        "    if i%2 ==1:\n",
        "      l.append(i)\n",
        "  yield l\n",
        "\n",
        "next(get_odds())[2]\n"
      ],
      "metadata": {
        "colab": {
          "base_uri": "https://localhost:8080/"
        },
        "id": "etuUeV_lunub",
        "outputId": "5607821e-c803-47e0-db48-42ff6dbf0968"
      },
      "execution_count": 26,
      "outputs": [
        {
          "output_type": "execute_result",
          "data": {
            "text/plain": [
              "5"
            ]
          },
          "metadata": {},
          "execution_count": 26
        }
      ]
    },
    {
      "cell_type": "markdown",
      "source": [
        "10.Define an exception called OopsException. Raise this exception to see what happens. Then write the code to catch this exception and print 'Caught an oops'.\n"
      ],
      "metadata": {
        "id": "xpGFgqqIN6An"
      }
    },
    {
      "cell_type": "code",
      "source": [
        "class OopsException(Exception):\n",
        "  pass\n",
        "  def test(i):\n",
        "    if i<0:\n",
        "      raise OopsException(a)\n",
        "  try:\n",
        "    test(-2)\n",
        "  except Exception as e:\n",
        "    print(\"Caught in OOPS ->\", e)"
      ],
      "metadata": {
        "colab": {
          "base_uri": "https://localhost:8080/"
        },
        "id": "1XyQdC4DzP7h",
        "outputId": "96d5130d-06cb-4fd5-b903-80b70506dee7"
      },
      "execution_count": 28,
      "outputs": [
        {
          "output_type": "stream",
          "name": "stdout",
          "text": [
            "Caught in OOPS -> name 'a' is not defined\n"
          ]
        }
      ]
    },
    {
      "cell_type": "markdown",
      "source": [
        "11.Use zip() to make a dictionary called movies that pairs these lists: titles = ['Creature of Habit', 'Crewel Fate'] and plots = ['A nun turns into a monster', 'A haunted yarn shop']."
      ],
      "metadata": {
        "id": "k9d3242RN7wt"
      }
    },
    {
      "cell_type": "code",
      "source": [
        "titles =['Creature of Habit', 'Crewel Fate'] \n",
        "plots = ['A nun turns into a monster', 'A haunted yarn shop']\n",
        "res = dict(zip(titles,plots))\n",
        "res"
      ],
      "metadata": {
        "colab": {
          "base_uri": "https://localhost:8080/"
        },
        "id": "9IzXYJBl1KLW",
        "outputId": "b9b16d4e-dbb4-41e1-9ef3-d2b357a14e83"
      },
      "execution_count": 29,
      "outputs": [
        {
          "output_type": "execute_result",
          "data": {
            "text/plain": [
              "{'Creature of Habit': 'A nun turns into a monster',\n",
              " 'Crewel Fate': 'A haunted yarn shop'}"
            ]
          },
          "metadata": {},
          "execution_count": 29
        }
      ]
    }
  ]
}