{
  "nbformat": 4,
  "nbformat_minor": 0,
  "metadata": {
    "colab": {
      "provenance": [],
      "collapsed_sections": []
    },
    "kernelspec": {
      "name": "python3",
      "display_name": "Python 3"
    },
    "language_info": {
      "name": "python"
    }
  },
  "cells": [
    {
      "cell_type": "markdown",
      "source": [
        "**Python_Assignment_04**"
      ],
      "metadata": {
        "id": "q7JM9Pevp8EI"
      }
    },
    {
      "cell_type": "markdown",
      "source": [
        "1. What exactly is []?\n",
        "\n",
        "[] means the empty list with no elements."
      ],
      "metadata": {
        "id": "C7pGSLw3qEoU"
      }
    },
    {
      "cell_type": "markdown",
      "source": [
        "2. In a list of values stored in a variable called spam, how would you assign the value 'hello' as the third value? (Assume [2, 4, 6, 8, 10] are in spam.)\n",
        "\n"
      ],
      "metadata": {
        "id": "y6AtJmRpqEkM"
      }
    },
    {
      "cell_type": "code",
      "source": [
        "spam = [5,10.5,\"hello\",8+7j,100]\n",
        "spam[2]"
      ],
      "metadata": {
        "colab": {
          "base_uri": "https://localhost:8080/",
          "height": 35
        },
        "id": "PxK8GDK5HeM9",
        "outputId": "a944514c-c0f8-4906-83c6-bdf00a47f8d8"
      },
      "execution_count": 1,
      "outputs": [
        {
          "output_type": "execute_result",
          "data": {
            "text/plain": [
              "'hello'"
            ],
            "application/vnd.google.colaboratory.intrinsic+json": {
              "type": "string"
            }
          },
          "metadata": {},
          "execution_count": 1
        }
      ]
    },
    {
      "cell_type": "markdown",
      "source": [
        "Let's pretend the spam includes the list ['a', 'b', 'c', 'd'] for the next three queries."
      ],
      "metadata": {
        "id": "Kk2XR2X_HbHA"
      }
    },
    {
      "cell_type": "code",
      "source": [
        "spam =['a','b','c','d']"
      ],
      "metadata": {
        "id": "M_cYPM9tO-9e"
      },
      "execution_count": 10,
      "outputs": []
    },
    {
      "cell_type": "markdown",
      "source": [
        "3. What is the value of spam[int(int('3' * 2) / 11)]?\n",
        "\n",
        "Output : d"
      ],
      "metadata": {
        "id": "cls_oGNZqEf8"
      }
    },
    {
      "cell_type": "code",
      "source": [
        "spam [int(int('3' * 2)/11)]"
      ],
      "metadata": {
        "colab": {
          "base_uri": "https://localhost:8080/",
          "height": 35
        },
        "id": "O8yyIRXQKRww",
        "outputId": "b229327e-3ee3-49fb-a20f-abbc4b0347e1"
      },
      "execution_count": 11,
      "outputs": [
        {
          "output_type": "execute_result",
          "data": {
            "text/plain": [
              "'d'"
            ],
            "application/vnd.google.colaboratory.intrinsic+json": {
              "type": "string"
            }
          },
          "metadata": {},
          "execution_count": 11
        }
      ]
    },
    {
      "cell_type": "markdown",
      "source": [
        "4. What is the value of spam[-1]?\n",
        "\n",
        "Output : d\n"
      ],
      "metadata": {
        "id": "HJ5K-s2DqEcU"
      }
    },
    {
      "cell_type": "code",
      "source": [
        "spam[-1]"
      ],
      "metadata": {
        "colab": {
          "base_uri": "https://localhost:8080/",
          "height": 35
        },
        "id": "bJeJkHdxPLuu",
        "outputId": "24d19195-e441-4f48-eb80-cc6760c7b00f"
      },
      "execution_count": 12,
      "outputs": [
        {
          "output_type": "execute_result",
          "data": {
            "text/plain": [
              "'d'"
            ],
            "application/vnd.google.colaboratory.intrinsic+json": {
              "type": "string"
            }
          },
          "metadata": {},
          "execution_count": 12
        }
      ]
    },
    {
      "cell_type": "markdown",
      "source": [
        "5. What is the value of spam[:2]?\n",
        "\n",
        "Output : ['a', 'b']\n",
        "\n"
      ],
      "metadata": {
        "id": "j4nykRT0qEYM"
      }
    },
    {
      "cell_type": "code",
      "source": [
        "spam[:2]"
      ],
      "metadata": {
        "colab": {
          "base_uri": "https://localhost:8080/"
        },
        "id": "dZn5C2ioPZYO",
        "outputId": "a9ecac63-635d-4b1a-e1f0-f614c3312c34"
      },
      "execution_count": 13,
      "outputs": [
        {
          "output_type": "execute_result",
          "data": {
            "text/plain": [
              "['a', 'b']"
            ]
          },
          "metadata": {},
          "execution_count": 13
        }
      ]
    },
    {
      "cell_type": "markdown",
      "source": [
        "Let's pretend bacon has the list [3.14, 'cat,' 11, 'cat,' True] for the next three questions."
      ],
      "metadata": {
        "id": "7axG_EtdPV2m"
      }
    },
    {
      "cell_type": "code",
      "source": [
        "bacon = [3.14, 'cat', 11, 'cat',True] "
      ],
      "metadata": {
        "id": "0okEq3d5PheG"
      },
      "execution_count": 16,
      "outputs": []
    },
    {
      "cell_type": "markdown",
      "source": [
        "6. What is the value of bacon.index('cat')?\n",
        "\n",
        "output : 1"
      ],
      "metadata": {
        "id": "Wl0-M5wlqENr"
      }
    },
    {
      "cell_type": "code",
      "source": [
        "bacon.index('cat')"
      ],
      "metadata": {
        "colab": {
          "base_uri": "https://localhost:8080/"
        },
        "id": "_YLICTuwQmef",
        "outputId": "ce2da291-a524-4712-a386-f219f5ffee1a"
      },
      "execution_count": 17,
      "outputs": [
        {
          "output_type": "execute_result",
          "data": {
            "text/plain": [
              "1"
            ]
          },
          "metadata": {},
          "execution_count": 17
        }
      ]
    },
    {
      "cell_type": "markdown",
      "source": [
        "7. How does bacon.append(99) change the look of the list value in bacon?\n",
        "\n",
        "output : [3.14, 'cat', 11, 'cat', True, 99]"
      ],
      "metadata": {
        "id": "kMwNSOS3qD-8"
      }
    },
    {
      "cell_type": "code",
      "source": [
        "bacon.append(99)\n"
      ],
      "metadata": {
        "id": "XKSzR3ciQt-u"
      },
      "execution_count": 18,
      "outputs": []
    },
    {
      "cell_type": "code",
      "source": [
        "bacon"
      ],
      "metadata": {
        "colab": {
          "base_uri": "https://localhost:8080/"
        },
        "id": "Zu0C4B1rQx_3",
        "outputId": "70cbc165-b6a1-4b1e-c919-0e0457666c2f"
      },
      "execution_count": 19,
      "outputs": [
        {
          "output_type": "execute_result",
          "data": {
            "text/plain": [
              "[3.14, 'cat', 11, 'cat', True, 99]"
            ]
          },
          "metadata": {},
          "execution_count": 19
        }
      ]
    },
    {
      "cell_type": "markdown",
      "source": [
        "8. How does bacon.remove('cat') change the look of the list in bacon?\n",
        "\n",
        "output: [3.14, 11, 'cat', True, 99]"
      ],
      "metadata": {
        "id": "7jwIZvE3qZ1c"
      }
    },
    {
      "cell_type": "code",
      "source": [
        "bacon.remove('cat')\n",
        "bacon"
      ],
      "metadata": {
        "colab": {
          "base_uri": "https://localhost:8080/"
        },
        "id": "PDmpqN6mROVu",
        "outputId": "37968a66-433e-4907-cd81-a3a7d3227649"
      },
      "execution_count": 20,
      "outputs": [
        {
          "output_type": "execute_result",
          "data": {
            "text/plain": [
              "[3.14, 11, 'cat', True, 99]"
            ]
          },
          "metadata": {},
          "execution_count": 20
        }
      ]
    },
    {
      "cell_type": "markdown",
      "source": [
        "9. What are the list concatenation and list replication operators?\n",
        "\n",
        "'+' operator is used to concatenate lists\n",
        "\n",
        "\n",
        "'*' operator replicates the elements in the list"
      ],
      "metadata": {
        "id": "fdFdW1-VqblO"
      }
    },
    {
      "cell_type": "code",
      "source": [
        "l1 = [1,2,3,4]\n",
        "l2 = [5,6,7,8]\n",
        "l1+l2"
      ],
      "metadata": {
        "colab": {
          "base_uri": "https://localhost:8080/"
        },
        "id": "3isBiQGbVJ6O",
        "outputId": "a5693c41-a208-41a8-88e6-8b67fa5f7699"
      },
      "execution_count": 21,
      "outputs": [
        {
          "output_type": "execute_result",
          "data": {
            "text/plain": [
              "[1, 2, 3, 4, 5, 6, 7, 8]"
            ]
          },
          "metadata": {},
          "execution_count": 21
        }
      ]
    },
    {
      "cell_type": "code",
      "source": [
        "l1 = [1,2,3,4]\n",
        "l1 * 5"
      ],
      "metadata": {
        "colab": {
          "base_uri": "https://localhost:8080/"
        },
        "id": "YTy_7IVtVU8d",
        "outputId": "455465bb-25e3-43b4-a6ee-3d66366a2e61"
      },
      "execution_count": 23,
      "outputs": [
        {
          "output_type": "execute_result",
          "data": {
            "text/plain": [
              "[1, 2, 3, 4, 1, 2, 3, 4, 1, 2, 3, 4, 1, 2, 3, 4, 1, 2, 3, 4]"
            ]
          },
          "metadata": {},
          "execution_count": 23
        }
      ]
    },
    {
      "cell_type": "markdown",
      "source": [
        "10. What is difference between the list methods append() and insert()?\n",
        "\n",
        "append()- add the element by the end of the list\n",
        "\n",
        "insert() - add the element in the specified index"
      ],
      "metadata": {
        "id": "hW77qdxxqc_1"
      }
    },
    {
      "cell_type": "code",
      "source": [
        "l1 = [3,5,7,8]\n",
        "l1.append(2)\n",
        "l1"
      ],
      "metadata": {
        "colab": {
          "base_uri": "https://localhost:8080/"
        },
        "id": "J-K5htESWWd9",
        "outputId": "b3128929-626f-46a4-c337-7b6362e0e506"
      },
      "execution_count": 26,
      "outputs": [
        {
          "output_type": "execute_result",
          "data": {
            "text/plain": [
              "[3, 5, 7, 8, 2]"
            ]
          },
          "metadata": {},
          "execution_count": 26
        }
      ]
    },
    {
      "cell_type": "code",
      "source": [
        "l2 = [3,9,6,12]\n",
        "#inserts hello in the index position 1\n",
        "l2.insert(1,\"hello\")\n",
        "l2"
      ],
      "metadata": {
        "colab": {
          "base_uri": "https://localhost:8080/"
        },
        "id": "HFrW7qz6WdPN",
        "outputId": "9f5cd61f-11ed-40c0-b696-f1921cbc05e0"
      },
      "execution_count": 28,
      "outputs": [
        {
          "output_type": "execute_result",
          "data": {
            "text/plain": [
              "[3, 'hello', 9, 6, 12]"
            ]
          },
          "metadata": {},
          "execution_count": 28
        }
      ]
    },
    {
      "cell_type": "markdown",
      "source": [
        "11. What are the two methods for removing items from a list?\n",
        "\n",
        "pop() - removes the element mentioned in the specified index\n",
        "\n",
        "syntax:\n",
        "\n",
        "list.pop(index)\n",
        "\n",
        "remove() - removes the specified element from the list\n",
        "\n",
        "syntax:\n",
        "\n",
        "list.remove(element)"
      ],
      "metadata": {
        "id": "pDNEm2ZVqeu8"
      }
    },
    {
      "cell_type": "markdown",
      "source": [
        "12. Describe how list values and string values are identical.\n",
        "\n",
        "Lists are similar to String where ordered collection of characters, \n",
        "\n",
        "Lists can have elements of any data type. String is a sequence of characters."
      ],
      "metadata": {
        "id": "c-IblsxxqgdU"
      }
    },
    {
      "cell_type": "markdown",
      "source": [
        "13. What's the difference between tuples and lists?\n",
        "\n",
        "Lists are sequence of elements of different data types\n",
        "\n",
        "Lists are ordered\n",
        "\n",
        "List is mutable\n",
        "\n",
        "Tuples are sequence of elements of different data types\n",
        "\n",
        "Tuples are ordered\n",
        "\n",
        "Tuples is immutable"
      ],
      "metadata": {
        "id": "OWk1NbSeqh6s"
      }
    },
    {
      "cell_type": "markdown",
      "source": [
        "14. How do you type a tuple value that only contains the integer 42?\n",
        "\n",
        "\n",
        "\n",
        "```\n",
        "t1 = (42,)\n",
        "```\n",
        "\n",
        "\n"
      ],
      "metadata": {
        "id": "tacaWOX9qjdc"
      }
    },
    {
      "cell_type": "markdown",
      "source": [
        "15. How do you get a list value's tuple form? How do you get a tuple value's list form?\n"
      ],
      "metadata": {
        "id": "GlypqegfqlLt"
      }
    },
    {
      "cell_type": "code",
      "source": [
        "# list value's tuple form\n",
        "l1 = [67,89,45,77]\n",
        "tuple(l1)"
      ],
      "metadata": {
        "colab": {
          "base_uri": "https://localhost:8080/"
        },
        "id": "0VLNA9I6uHEr",
        "outputId": "338ebb34-3ff4-4abd-88c6-e5e95e6505a1"
      },
      "execution_count": 1,
      "outputs": [
        {
          "output_type": "execute_result",
          "data": {
            "text/plain": [
              "(67, 89, 45, 77)"
            ]
          },
          "metadata": {},
          "execution_count": 1
        }
      ]
    },
    {
      "cell_type": "code",
      "source": [
        "# tuple value's list form\n",
        "t1 = (6,7,3,4,5,7,7)\n",
        "list(t1)"
      ],
      "metadata": {
        "colab": {
          "base_uri": "https://localhost:8080/"
        },
        "id": "VlkdYHqLuTYF",
        "outputId": "cf0e31de-4fdb-4569-d050-5cee8e56fc27"
      },
      "execution_count": 2,
      "outputs": [
        {
          "output_type": "execute_result",
          "data": {
            "text/plain": [
              "[6, 7, 3, 4, 5, 7, 7]"
            ]
          },
          "metadata": {},
          "execution_count": 2
        }
      ]
    },
    {
      "cell_type": "markdown",
      "source": [
        "16. Variables that \"contain\" list values are not necessarily lists themselves. Instead, what do they contain?\n",
        "\n",
        "\n",
        "Variables that \"contain\" list values are called referenced to a list."
      ],
      "metadata": {
        "id": "ta8L1dZPqmi8"
      }
    },
    {
      "cell_type": "markdown",
      "source": [
        "17. How do you distinguish between copy.copy() and copy.deepcopy()?\n",
        "\n",
        "copy.copy() - shallow copy creates a new object and stores the references of the original element\n",
        "\n",
        "copy.deepcopy() - Deep copy creates a new object and recursively adds the copies of nested objects present in the original elements"
      ],
      "metadata": {
        "id": "95qQvfolqn5c"
      }
    }
  ]
}