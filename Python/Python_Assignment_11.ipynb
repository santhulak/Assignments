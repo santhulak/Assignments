{
  "nbformat": 4,
  "nbformat_minor": 0,
  "metadata": {
    "colab": {
      "provenance": [],
      "collapsed_sections": []
    },
    "kernelspec": {
      "name": "python3",
      "display_name": "Python 3"
    },
    "language_info": {
      "name": "python"
    }
  },
  "cells": [
    {
      "cell_type": "markdown",
      "source": [
        "1.Create an assert statement that throws an AssertionError if the variable spam is a negative integer.\n",
        "\n",
        "**Answer:**\n",
        "\n",
        "assert(spam >= 0 , 'Spam is a negative integer')"
      ],
      "metadata": {
        "id": "scA-cbXlDg1v"
      }
    },
    {
      "cell_type": "markdown",
      "source": [
        "2.Write an assert statement that triggers an AssertionError if the variables eggs and bacon contain strings that are the same as each other, even if their cases are different (that is, 'hello' and 'hello' are considered the same, and 'goodbye' and 'GOODbye' are also considered the same).\n",
        "\n",
        "**Answer:**\n",
        "\n",
        "assert(eggs.lower() != bacon.lower(),'Eggs and Bacon values are same\") or assert(eggs.upper() != bacon.upper(),'Eggs and Bacon values are same\")\n"
      ],
      "metadata": {
        "id": "KU_zrMV4DwI9"
      }
    },
    {
      "cell_type": "markdown",
      "source": [
        "3.Create an assert statement that throws an AssertionError every time.\n",
        "\n",
        "\n",
        "assert False , 'Always triggers assertion error'"
      ],
      "metadata": {
        "id": "xrEvJR8vDyQj"
      }
    },
    {
      "cell_type": "markdown",
      "source": [
        "4.What are the two lines that must be present in your software in order to call logging.debug()?\n",
        "\n",
        "\n",
        "\n",
        "```\n",
        "import logging\n",
        "logging.basicConfig(\n",
        "    filename='test.txt',\n",
        "    level=logging.DEBUG,\n",
        "    format='%(asctime)s - %(levelname)s - %(message)s'\n",
        ")\n",
        "```\n",
        "\n"
      ],
      "metadata": {
        "id": "N9PqJB1HD0PW"
      }
    },
    {
      "cell_type": "markdown",
      "source": [
        "5.What are the two lines that your program must have in order to have logging.debug() send a logging message to a file named programLog.txt?\n",
        "\n",
        "\n",
        "\n",
        "\n",
        "```\n",
        "\n",
        "import logging\n",
        "logging.basicConfig(level=logging.DEBUG, filename='programLog.txt')\n",
        "logging.debug('This is a debug message')\n",
        "\n",
        "```\n",
        "\n"
      ],
      "metadata": {
        "id": "mNkw5h_2D148"
      }
    },
    {
      "cell_type": "markdown",
      "source": [
        "6.What are the five levels of logging?\n",
        "\n",
        "\n",
        "```\n",
        "logging.info()\n",
        "logging.warning()\n",
        "logging.debug()\n",
        "logging.error()\n",
        "logging.critical()\n",
        "```\n",
        "\n",
        "\n",
        "\n"
      ],
      "metadata": {
        "id": "BXxjSZRqD3vS"
      }
    },
    {
      "cell_type": "markdown",
      "source": [
        "7.What line of code would you add to your software to disable all logging messages?\n",
        "\n",
        "\n",
        "\n",
        "```\n",
        "logging.disable(logging.DEBUG)\n",
        "```\n",
        "\n"
      ],
      "metadata": {
        "id": "xUFhHZcoD5aj"
      }
    },
    {
      "cell_type": "markdown",
      "source": [
        "8.Why is using logging messages better than using print() to display the same message?\n",
        "\n",
        "print() method will print it only in the console and mostly comment during production.\n",
        "\n",
        "logging messages are stored in a file and it is available with the information like when the program gets executed."
      ],
      "metadata": {
        "id": "Aez0a5xLD7Nx"
      }
    },
    {
      "cell_type": "markdown",
      "source": [
        "9.What are the differences between the Step Over, Step In, and Step Out buttons in the debugger?\n",
        "\n",
        "\n",
        "\n",
        "```\n",
        "Step over – An action to take in the debugger that will step over a given line. If the line contains a function the function will be executed and the result returned without debugging each line.\n",
        "\n",
        "Step In – An action to take in the debugger. If the line does not contain a function it behaves the same as “step over” but if it does the debugger will enter the called function and continue line-by-line debugging there.\n",
        "\n",
        "Step out – An action to take in the debugger that returns to the line where the current function was called.\n",
        "\n",
        "```\n",
        "\n"
      ],
      "metadata": {
        "id": "B01d7UvMD83W"
      }
    },
    {
      "cell_type": "markdown",
      "source": [
        "10.After you click Continue, when will the debugger stop ?\n",
        "\n",
        "\n",
        "After you click Continue, execution stops only when it reaches the breakpoint\n"
      ],
      "metadata": {
        "id": "HwC-xjEOD-im"
      }
    },
    {
      "cell_type": "markdown",
      "source": [
        "11.What is the concept of a breakpoint?\n",
        "\n",
        "Breakpoint is an intentional pause or stop in the program in place for debugging purpose.\n",
        "\n",
        "\n"
      ],
      "metadata": {
        "id": "4iPifStIEAA8"
      }
    }
  ]
}