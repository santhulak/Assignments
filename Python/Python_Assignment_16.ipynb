{
  "nbformat": 4,
  "nbformat_minor": 0,
  "metadata": {
    "colab": {
      "provenance": [],
      "collapsed_sections": []
    },
    "kernelspec": {
      "name": "python3",
      "display_name": "Python 3"
    },
    "language_info": {
      "name": "python"
    }
  },
  "cells": [
    {
      "cell_type": "markdown",
      "source": [
        "1.Create a list called years_list, starting with the year of your birth, and each year thereafter until the year of your fifth birthday. For example, if you were born in 1980. the list would be years_list = [1980, 1981, 1982, 1983, 1984, 1985].\n",
        "\n",
        "\n",
        "years_list = [1983,1984,1985,1986,1987,1988]"
      ],
      "metadata": {
        "id": "Qcx1GdyhLuT3"
      }
    },
    {
      "cell_type": "markdown",
      "source": [
        "2.In which year in years_list was your third birthday? Remember, you were 0 years of age for your first year.\n",
        "\n",
        "\n",
        "1986 is my third birthday"
      ],
      "metadata": {
        "id": "Jz4eRaKGL7es"
      }
    },
    {
      "cell_type": "markdown",
      "source": [
        "3.In the years list, which year were you the oldest?\n",
        "\n",
        "\n",
        "1985 - I am 5 years old"
      ],
      "metadata": {
        "id": "rXHoCg6DL9Us"
      }
    },
    {
      "cell_type": "markdown",
      "source": [
        "4.Make a list called things with these three strings as elements: \"mozzarella\", \"cinderella\", \"salmonella\".\n",
        "\n",
        "things = [\"mozzarella\", \"cinderella\", \"salmonella\"]"
      ],
      "metadata": {
        "id": "d9_JbRv3L_uG"
      }
    },
    {
      "cell_type": "markdown",
      "source": [
        "5.Capitalize the element in things that refers to a person and then print the list. Did it change the element in the list?\n",
        "\n",
        "\n"
      ],
      "metadata": {
        "id": "BEAMucckMCYm"
      }
    },
    {
      "cell_type": "code",
      "source": [
        "things = [\"mozzarella\", \"cinderella\", \"salmonella\"]\n",
        "for i in range(len(things)):\n",
        "  if things[i] == \"cinderella\":\n",
        "    things[i] = things[i].capitalize()\n",
        "print(things)\n"
      ],
      "metadata": {
        "colab": {
          "base_uri": "https://localhost:8080/"
        },
        "id": "1mWi0IB87htM",
        "outputId": "c4c9f2d3-3697-40c7-a750-083009d0a660"
      },
      "execution_count": 4,
      "outputs": [
        {
          "output_type": "stream",
          "name": "stdout",
          "text": [
            "['mozzarella', 'Cinderella', 'salmonella']\n"
          ]
        }
      ]
    },
    {
      "cell_type": "markdown",
      "source": [
        "6.Make a surprise list with the elements \"Groucho,\" \"Chico,\" and \"Harpo.\"\n",
        "\n",
        "surprise = [\"Groucho\", \"Chico\",\"Harpo\"]"
      ],
      "metadata": {
        "id": "Bt3pgOYyME6J"
      }
    },
    {
      "cell_type": "markdown",
      "source": [
        "7.Lowercase the last element of the surprise list, reverse it, and then capitalize it.\n",
        "\n"
      ],
      "metadata": {
        "id": "CIz40b4sMGtW"
      }
    },
    {
      "cell_type": "code",
      "source": [
        "surprise = [\"Groucho\", \"Chico\",\"Harpo\"]\n",
        "result = surprise[-1].lower()[::-1].capitalize()\n",
        "result\n"
      ],
      "metadata": {
        "colab": {
          "base_uri": "https://localhost:8080/",
          "height": 35
        },
        "id": "H02MVPkW-R9w",
        "outputId": "510d0c46-02ec-457c-ce10-d3e557dabe50"
      },
      "execution_count": 9,
      "outputs": [
        {
          "output_type": "execute_result",
          "data": {
            "text/plain": [
              "'Oprah'"
            ],
            "application/vnd.google.colaboratory.intrinsic+json": {
              "type": "string"
            }
          },
          "metadata": {},
          "execution_count": 9
        }
      ]
    },
    {
      "cell_type": "markdown",
      "source": [
        "8.Make an English-to-French dictionary called e2f and print it. Here are your starter words: dog is chien, cat is chat, and walrus is morse.\n"
      ],
      "metadata": {
        "id": "8vCqFmuxMJG8"
      }
    },
    {
      "cell_type": "code",
      "source": [
        "e2f = {\"dog\":\"chien\",\"cat\":\"chat\",\"walrus\":\"morse\"}\n",
        "e2f"
      ],
      "metadata": {
        "colab": {
          "base_uri": "https://localhost:8080/"
        },
        "id": "HHE8Uzav_XNL",
        "outputId": "5ec84281-fbea-4fac-c7a6-ffe826353995"
      },
      "execution_count": 10,
      "outputs": [
        {
          "output_type": "execute_result",
          "data": {
            "text/plain": [
              "{'dog': 'chien', 'cat': 'chat', 'walrus': 'morse'}"
            ]
          },
          "metadata": {},
          "execution_count": 10
        }
      ]
    },
    {
      "cell_type": "markdown",
      "source": [
        "9.Write the French word for walrus in your three-word dictionary e2f.\n",
        "\n",
        "French word for walrus is morse."
      ],
      "metadata": {
        "id": "U_ycmr8yMLG9"
      }
    },
    {
      "cell_type": "code",
      "source": [
        "e2f[\"walrus\"]"
      ],
      "metadata": {
        "colab": {
          "base_uri": "https://localhost:8080/",
          "height": 35
        },
        "id": "EDZa805f_5TZ",
        "outputId": "f6278bf6-e828-4023-9365-0b023e725ccb"
      },
      "execution_count": 11,
      "outputs": [
        {
          "output_type": "execute_result",
          "data": {
            "text/plain": [
              "'morse'"
            ],
            "application/vnd.google.colaboratory.intrinsic+json": {
              "type": "string"
            }
          },
          "metadata": {},
          "execution_count": 11
        }
      ]
    },
    {
      "cell_type": "markdown",
      "source": [
        "10.Make a French-to-English dictionary called f2e from e2f. Use the items method.\n",
        "\n"
      ],
      "metadata": {
        "id": "i86DWnPLMNwo"
      }
    },
    {
      "cell_type": "code",
      "source": [
        "e2f = {\"dog\":\"chien\",\"cat\":\"chat\",\"walrus\":\"morse\"}\n",
        "f2e = dict(i[::-1] for i in e2f.items())\n",
        "f2e"
      ],
      "metadata": {
        "colab": {
          "base_uri": "https://localhost:8080/"
        },
        "id": "i3UJxq58_-CK",
        "outputId": "773cded5-cad8-4ffd-892e-f1163fad93d3"
      },
      "execution_count": 19,
      "outputs": [
        {
          "output_type": "execute_result",
          "data": {
            "text/plain": [
              "{'chien': 'dog', 'chat': 'cat', 'morse': 'walrus'}"
            ]
          },
          "metadata": {},
          "execution_count": 19
        }
      ]
    },
    {
      "cell_type": "markdown",
      "source": [
        "11.Print the English version of the French word chien using f2e.\n",
        "\n",
        "\n"
      ],
      "metadata": {
        "id": "nlOZfdGaMPoC"
      }
    },
    {
      "cell_type": "code",
      "source": [
        "f2e = {'chien': 'dog', 'chat': 'cat', 'morse': 'walrus'}\n",
        "f2e['chien']"
      ],
      "metadata": {
        "colab": {
          "base_uri": "https://localhost:8080/",
          "height": 35
        },
        "id": "71nZo53iBicp",
        "outputId": "fa795fbb-1271-45df-e45e-1096576ba814"
      },
      "execution_count": 20,
      "outputs": [
        {
          "output_type": "execute_result",
          "data": {
            "text/plain": [
              "'dog'"
            ],
            "application/vnd.google.colaboratory.intrinsic+json": {
              "type": "string"
            }
          },
          "metadata": {},
          "execution_count": 20
        }
      ]
    },
    {
      "cell_type": "markdown",
      "source": [
        "12.Make and print a set of English words from the keys in e2f.\n"
      ],
      "metadata": {
        "id": "fkHjD6HdMSSL"
      }
    },
    {
      "cell_type": "code",
      "source": [
        "e2f = {\"dog\":\"chien\",\"cat\":\"chat\",\"walrus\":\"morse\"}\n",
        "e2f = e2f.keys()\n",
        "set(e2f)"
      ],
      "metadata": {
        "colab": {
          "base_uri": "https://localhost:8080/"
        },
        "id": "guz6OyBlByx3",
        "outputId": "bf33aeb6-0e73-48bc-ddff-c2d6cf13fb69"
      },
      "execution_count": 24,
      "outputs": [
        {
          "output_type": "execute_result",
          "data": {
            "text/plain": [
              "{'cat', 'dog', 'walrus'}"
            ]
          },
          "metadata": {},
          "execution_count": 24
        }
      ]
    },
    {
      "cell_type": "markdown",
      "source": [
        "13.Make a multilevel dictionary called life. Use these strings for the topmost keys: 'animals', 'plants', and 'other'. Make the 'animals' key refer to another dictionary with the keys 'cats', 'octopi', and 'emus'. Make the 'cats' key refer to a list of strings with the values 'Henri', 'Grumpy', and 'Lucy'. Make all the other keys refer to empty dictionaries.\n",
        "\n",
        "\n",
        "\n",
        "\n"
      ],
      "metadata": {
        "id": "Q_DuW3GbNBdY"
      }
    },
    {
      "cell_type": "code",
      "source": [
        "life = {\n",
        "    'animals':{\n",
        "        'cats':{'Henri','Grumpy','Lucy'},\n",
        "        'octopi':{},\n",
        "        'emus':{}\n",
        "    },\n",
        "    'plants':{},\n",
        "    'other':{}\n",
        "}\n",
        "life"
      ],
      "metadata": {
        "colab": {
          "base_uri": "https://localhost:8080/"
        },
        "id": "_aCp-ZB4ILsG",
        "outputId": "f7ce6074-dfdf-4bdf-9360-fbbcebc7284f"
      },
      "execution_count": 27,
      "outputs": [
        {
          "output_type": "execute_result",
          "data": {
            "text/plain": [
              "{'animals': {'cats': {'Grumpy', 'Henri', 'Lucy'}, 'octopi': {}, 'emus': {}},\n",
              " 'plants': {},\n",
              " 'other': {}}"
            ]
          },
          "metadata": {},
          "execution_count": 27
        }
      ]
    },
    {
      "cell_type": "markdown",
      "source": [
        "14.Print the top-level keys of life.\n"
      ],
      "metadata": {
        "id": "pDexJLYFNDqO"
      }
    },
    {
      "cell_type": "code",
      "source": [
        "life = {\n",
        "    'animals':{\n",
        "        'cats':{'Henri','Grumpy','Lucy'},\n",
        "        'octopi':{},\n",
        "        'emus':{}\n",
        "    },\n",
        "    'plants':{},\n",
        "    'other':{}\n",
        "}\n",
        "life.keys()"
      ],
      "metadata": {
        "colab": {
          "base_uri": "https://localhost:8080/"
        },
        "id": "Fgdue62sDPDi",
        "outputId": "fd7f0236-d132-4f99-c0a6-da9514f6741a"
      },
      "execution_count": 28,
      "outputs": [
        {
          "output_type": "execute_result",
          "data": {
            "text/plain": [
              "dict_keys(['animals', 'plants', 'other'])"
            ]
          },
          "metadata": {},
          "execution_count": 28
        }
      ]
    },
    {
      "cell_type": "markdown",
      "source": [
        "15.Print the keys for life['animals'].\n"
      ],
      "metadata": {
        "id": "pdHoP2DaNFbz"
      }
    },
    {
      "cell_type": "code",
      "source": [
        " life['animals'].keys()"
      ],
      "metadata": {
        "colab": {
          "base_uri": "https://localhost:8080/"
        },
        "id": "4Vqj0codIWeE",
        "outputId": "f9363b16-d447-48bf-c509-0cdcd74c24ee"
      },
      "execution_count": 29,
      "outputs": [
        {
          "output_type": "execute_result",
          "data": {
            "text/plain": [
              "dict_keys(['cats', 'octopi', 'emus'])"
            ]
          },
          "metadata": {},
          "execution_count": 29
        }
      ]
    },
    {
      "cell_type": "markdown",
      "source": [
        "16.Print the values for life['animals']['cats']"
      ],
      "metadata": {
        "id": "EwctVhPINGvA"
      }
    },
    {
      "cell_type": "code",
      "source": [
        " life['animals']['cats']"
      ],
      "metadata": {
        "colab": {
          "base_uri": "https://localhost:8080/"
        },
        "id": "73Ucpo4oIcp2",
        "outputId": "7a782322-6593-490a-ce08-833f06b731d6"
      },
      "execution_count": 31,
      "outputs": [
        {
          "output_type": "execute_result",
          "data": {
            "text/plain": [
              "{'Grumpy', 'Henri', 'Lucy'}"
            ]
          },
          "metadata": {},
          "execution_count": 31
        }
      ]
    }
  ]
}