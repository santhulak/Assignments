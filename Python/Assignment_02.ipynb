{
  "nbformat": 4,
  "nbformat_minor": 0,
  "metadata": {
    "colab": {
      "provenance": [],
      "collapsed_sections": []
    },
    "kernelspec": {
      "name": "python3",
      "display_name": "Python 3"
    },
    "language_info": {
      "name": "python"
    }
  },
  "cells": [
    {
      "cell_type": "markdown",
      "source": [
        "**Assignment_02**"
      ],
      "metadata": {
        "id": "o7TNfoTrZG9G"
      }
    },
    {
      "cell_type": "markdown",
      "source": [
        "1.What are the two values of the Boolean data type? How do you write them?\n",
        "\n"
      ],
      "metadata": {
        "id": "e4Ghp11gZI_f"
      }
    },
    {
      "cell_type": "markdown",
      "source": [
        "\n",
        "\n",
        "Boolean Data type returns two values : True and False\n",
        "\n",
        "a = True\n",
        "\n",
        "b = False\n",
        "\n"
      ],
      "metadata": {
        "id": "KLTUhL-nVJIw"
      }
    },
    {
      "cell_type": "markdown",
      "source": [
        "2. What are the three different types of Boolean operators?\n"
      ],
      "metadata": {
        "id": "CXNVObDxZJId"
      }
    },
    {
      "cell_type": "markdown",
      "source": [
        "Boolean Operators in Python are:\n",
        "\n",
        "AND\n",
        "\n",
        "OR\n",
        "\n",
        "NOT\n"
      ],
      "metadata": {
        "id": "vtrIU6ICV1bJ"
      }
    },
    {
      "cell_type": "markdown",
      "source": [
        "3. Make a list of each Boolean operator's truth tables (i.e. every possible combination of Boolean values for the operator and what it evaluate ).\n"
      ],
      "metadata": {
        "id": "3JIGm304ZJSt"
      }
    },
    {
      "cell_type": "markdown",
      "source": [
        "\n",
        "\n",
        "AND - True if both conditions are true\n",
        "eg : a and b\n",
        "\n",
        "\n",
        "\n",
        "```\n",
        "a       operator      b            Output\n",
        "True     and        True            True\n",
        "True     and        False           False\n",
        "False    and        True            False\n",
        "False    and        False           False\n",
        "```\n",
        "\n",
        "\n",
        "\n",
        "OR - True if any one condition is true\n",
        "eg: a or b\n",
        "\n",
        "```\n",
        "a       operator      b             Output\n",
        "True     or          True            True\n",
        "True     or          False           True\n",
        "False    or          True            True\n",
        "False    or          False           False\n",
        "```\n",
        "\n",
        "NOT : True if condition is false\n",
        "eg: not a\n",
        "\n",
        "\n",
        "```\n",
        "operator      a           output\n",
        "  not        True         False\n",
        "  not        False        True\n",
        "```\n",
        "\n",
        "\n",
        "\n",
        "\n",
        "\n"
      ],
      "metadata": {
        "id": "w5CFxlFKWgbH"
      }
    },
    {
      "cell_type": "markdown",
      "source": [
        "4. What are the values of the following expressions?\n",
        "\n"
      ],
      "metadata": {
        "id": "_M3w1dqbZJrO"
      }
    },
    {
      "cell_type": "code",
      "source": [
        "(5 > 4) and (3 == 5) #False"
      ],
      "metadata": {
        "colab": {
          "base_uri": "https://localhost:8080/"
        },
        "id": "EYhmquNhfZF1",
        "outputId": "ef3c1ba2-7bfe-475c-ee31-2d38e7da383b"
      },
      "execution_count": 1,
      "outputs": [
        {
          "output_type": "execute_result",
          "data": {
            "text/plain": [
              "False"
            ]
          },
          "metadata": {},
          "execution_count": 1
        }
      ]
    },
    {
      "cell_type": "code",
      "source": [
        "not (5 > 4)#False\n"
      ],
      "metadata": {
        "colab": {
          "base_uri": "https://localhost:8080/"
        },
        "id": "xnQyaKJOfb0F",
        "outputId": "f9ac0542-8703-433a-afdc-a287d41ce17b"
      },
      "execution_count": 3,
      "outputs": [
        {
          "output_type": "execute_result",
          "data": {
            "text/plain": [
              "False"
            ]
          },
          "metadata": {},
          "execution_count": 3
        }
      ]
    },
    {
      "cell_type": "code",
      "source": [
        "(5 > 4) or (3 == 5) #True"
      ],
      "metadata": {
        "colab": {
          "base_uri": "https://localhost:8080/"
        },
        "id": "NL5P3Ml3hdkW",
        "outputId": "b6ef7435-c1d9-42ea-9d5e-d418c5905c41"
      },
      "execution_count": 4,
      "outputs": [
        {
          "output_type": "execute_result",
          "data": {
            "text/plain": [
              "True"
            ]
          },
          "metadata": {},
          "execution_count": 4
        }
      ]
    },
    {
      "cell_type": "code",
      "source": [
        "not ((5 > 4) or (3 == 5))#False"
      ],
      "metadata": {
        "colab": {
          "base_uri": "https://localhost:8080/"
        },
        "id": "2rK2AjLjheyV",
        "outputId": "72d74e54-a3b5-4552-969b-6c7839bcaca3"
      },
      "execution_count": 5,
      "outputs": [
        {
          "output_type": "execute_result",
          "data": {
            "text/plain": [
              "False"
            ]
          },
          "metadata": {},
          "execution_count": 5
        }
      ]
    },
    {
      "cell_type": "code",
      "source": [
        "(True and True) and (True == False)#False\n"
      ],
      "metadata": {
        "colab": {
          "base_uri": "https://localhost:8080/"
        },
        "id": "VEaIXDsXhfb2",
        "outputId": "e9da46ba-4f6e-4898-cb14-f5469b69be94"
      },
      "execution_count": 6,
      "outputs": [
        {
          "output_type": "execute_result",
          "data": {
            "text/plain": [
              "False"
            ]
          },
          "metadata": {},
          "execution_count": 6
        }
      ]
    },
    {
      "cell_type": "code",
      "source": [
        "(not False) or (not True)#True"
      ],
      "metadata": {
        "colab": {
          "base_uri": "https://localhost:8080/"
        },
        "id": "8HTe3Xsfhg5t",
        "outputId": "c7d6c9ef-dcfa-40d5-911b-29d99c6e01bb"
      },
      "execution_count": 7,
      "outputs": [
        {
          "output_type": "execute_result",
          "data": {
            "text/plain": [
              "True"
            ]
          },
          "metadata": {},
          "execution_count": 7
        }
      ]
    },
    {
      "cell_type": "markdown",
      "source": [
        "5. What are the six comparison operators?\n",
        "\n",
        "\n",
        "\n",
        "```\n",
        " ==   Equal to                   eg: a == b\n",
        " !=   Not equal to               eg : a != b\n",
        " >    Greater than               eg : a > b\n",
        " >=   Greater than equal         eg : a >= b\n",
        " <    Less than                  eg : a < b\n",
        " <=   Less than equal            eg : a <= b\n",
        "```\n",
        "\n",
        "\n"
      ],
      "metadata": {
        "id": "-MF8yjydZemd"
      }
    },
    {
      "cell_type": "markdown",
      "source": [
        "6. How do you tell the difference between the equal to and assignment operators?Describe a condition and when you would use one.\n"
      ],
      "metadata": {
        "id": "ngSwoz-CZg2F"
      }
    },
    {
      "cell_type": "markdown",
      "source": [
        "==   Equal to  operator compares the values in the variable a is exactly eual to the variable b\n",
        "\n",
        "eg : a == b\n",
        "\n",
        "10 == 10  True\n",
        "\n",
        "14 == 178 False\n",
        "\n",
        "= Assignment operator assigns value to the variable in the left side\n",
        "\n",
        "eg: a = 100\n",
        "\n",
        "x = \"hello\"\n",
        "\n"
      ],
      "metadata": {
        "id": "5hb7wDWjjcVd"
      }
    },
    {
      "cell_type": "markdown",
      "source": [
        "7. Identify the three blocks in this code:\n"
      ],
      "metadata": {
        "id": "Mv5ScmpXZjH8"
      }
    },
    {
      "cell_type": "code",
      "source": [
        "spam = 0\n",
        "if spam == 10:\n",
        "  print('eggs')\n",
        "if spam > 5:\n",
        "  print('bacon')\n",
        "else:\n",
        "  print('ham')\n",
        "  print('spam')\n",
        "  print('spam')\n",
        "\n",
        "#output\n",
        "#ham\n",
        "#spam\n",
        "#spam"
      ],
      "metadata": {
        "colab": {
          "base_uri": "https://localhost:8080/"
        },
        "id": "23cWP4OrmL2U",
        "outputId": "c5387c7e-5a63-47dc-89c6-5d98973f3f27"
      },
      "execution_count": 11,
      "outputs": [
        {
          "output_type": "stream",
          "name": "stdout",
          "text": [
            "ham\n",
            "spam\n",
            "spam\n"
          ]
        }
      ]
    },
    {
      "cell_type": "markdown",
      "source": [
        "8. Write code that prints Hello if 1 is stored in spam, prints Howdy if 2 is stored in spam, and prints Greetings! if anything else is stored in spam.\n",
        "\n",
        "\n"
      ],
      "metadata": {
        "id": "rF6Ijk1sZlGt"
      }
    },
    {
      "cell_type": "code",
      "source": [
        "spam = int(input())\n",
        "if spam == 1:\n",
        "  print(\"Hello\")\n",
        "elif spam == 2:\n",
        "  print(\"Howdy\")\n",
        "else:\n",
        "  print(\"Greetings!\")"
      ],
      "metadata": {
        "colab": {
          "base_uri": "https://localhost:8080/"
        },
        "id": "tyEXteQ3m_hM",
        "outputId": "c77c8bd7-981b-466b-8235-23919b91eb1e"
      },
      "execution_count": 14,
      "outputs": [
        {
          "output_type": "stream",
          "name": "stdout",
          "text": [
            "7\n",
            "Greetings!\n"
          ]
        }
      ]
    },
    {
      "cell_type": "markdown",
      "source": [
        "9.If your programme is stuck in an endless loop, what keys you’ll press?\n",
        "\n",
        "\n",
        "press CTRL + C to end the loop"
      ],
      "metadata": {
        "id": "0RQ4T0tUZmq9"
      }
    },
    {
      "cell_type": "markdown",
      "source": [
        "10. How can you tell the difference between break and continue?\n",
        "\n",
        "\n",
        "break - Terminates the current loop and pass the control over the next loop\n",
        "\n",
        "continue - skips the current iteration and moves to the next iteration"
      ],
      "metadata": {
        "id": "5p_yJb0sZoOc"
      }
    },
    {
      "cell_type": "markdown",
      "source": [
        "11. In a for loop, what is the difference between range(10), range(0, 10), and range(0, 10, 1)?\n",
        "\n",
        "range(10), range(0, 10), and range(0, 10, 1) - these three functions are same.\n"
      ],
      "metadata": {
        "id": "UhC9uriPZpvk"
      }
    },
    {
      "cell_type": "code",
      "source": [
        "#range(10)\n",
        "for i in range(10):\n",
        "  print(i)"
      ],
      "metadata": {
        "colab": {
          "base_uri": "https://localhost:8080/"
        },
        "id": "fS6UsQODoubk",
        "outputId": "5c2dcd9d-2bd6-4e2f-e605-547e868bceae"
      },
      "execution_count": 15,
      "outputs": [
        {
          "output_type": "stream",
          "name": "stdout",
          "text": [
            "0\n",
            "1\n",
            "2\n",
            "3\n",
            "4\n",
            "5\n",
            "6\n",
            "7\n",
            "8\n",
            "9\n"
          ]
        }
      ]
    },
    {
      "cell_type": "code",
      "source": [
        "#range(0,10)\n",
        "for i in range(0,10):\n",
        "  print(i)"
      ],
      "metadata": {
        "colab": {
          "base_uri": "https://localhost:8080/"
        },
        "id": "jsr5QKVIo7aL",
        "outputId": "edb9cb57-543a-4ea2-ff70-a9ed919ada25"
      },
      "execution_count": 16,
      "outputs": [
        {
          "output_type": "stream",
          "name": "stdout",
          "text": [
            "0\n",
            "1\n",
            "2\n",
            "3\n",
            "4\n",
            "5\n",
            "6\n",
            "7\n",
            "8\n",
            "9\n"
          ]
        }
      ]
    },
    {
      "cell_type": "code",
      "source": [
        "#range(0,10,1)\n",
        "for i in range(0,10,1):\n",
        "  print(i)"
      ],
      "metadata": {
        "colab": {
          "base_uri": "https://localhost:8080/"
        },
        "id": "HRde4o2uo_dD",
        "outputId": "99be0cf2-53b9-44a5-fda0-13b7755b2b6b"
      },
      "execution_count": 17,
      "outputs": [
        {
          "output_type": "stream",
          "name": "stdout",
          "text": [
            "0\n",
            "1\n",
            "2\n",
            "3\n",
            "4\n",
            "5\n",
            "6\n",
            "7\n",
            "8\n",
            "9\n"
          ]
        }
      ]
    },
    {
      "cell_type": "markdown",
      "source": [
        "12. Write a short program that prints the numbers 1 to 10 using a for loop. Then write an equivalent program that prints the numbers 1 to 10 using a while loop.\n"
      ],
      "metadata": {
        "id": "-f3C2gwBZrZE"
      }
    },
    {
      "cell_type": "code",
      "source": [
        "#prints the numbers 1 to 10 using a for loop\n",
        "a = 10\n",
        "for i in range(1,a+1):\n",
        "  print(i)"
      ],
      "metadata": {
        "colab": {
          "base_uri": "https://localhost:8080/"
        },
        "id": "jh_S8MsMpTws",
        "outputId": "c060eda2-d575-4453-a884-1f1f360a84fa"
      },
      "execution_count": 18,
      "outputs": [
        {
          "output_type": "stream",
          "name": "stdout",
          "text": [
            "1\n",
            "2\n",
            "3\n",
            "4\n",
            "5\n",
            "6\n",
            "7\n",
            "8\n",
            "9\n",
            "10\n"
          ]
        }
      ]
    },
    {
      "cell_type": "code",
      "source": [
        "#prints the numbers 1 to 10 using a while loop\n",
        "i = 1\n",
        "while i<=10:\n",
        "  print(i)\n",
        "  i += 1"
      ],
      "metadata": {
        "colab": {
          "base_uri": "https://localhost:8080/"
        },
        "id": "5O8z5nc7qCN7",
        "outputId": "41b03bf3-d4ba-4c62-eb05-32fe338e542f"
      },
      "execution_count": 19,
      "outputs": [
        {
          "output_type": "stream",
          "name": "stdout",
          "text": [
            "1\n",
            "2\n",
            "3\n",
            "4\n",
            "5\n",
            "6\n",
            "7\n",
            "8\n",
            "9\n",
            "10\n"
          ]
        }
      ]
    },
    {
      "cell_type": "markdown",
      "source": [
        "13. If you had a function named bacon() inside a module named spam, how would you call it after importing spam?\n",
        "\n",
        "module name - spam\n",
        "function name - bacon()\n",
        "\n",
        "module.function\n",
        "\n",
        "spam.bacon()"
      ],
      "metadata": {
        "id": "E4qchVRhZs_d"
      }
    }
  ]
}