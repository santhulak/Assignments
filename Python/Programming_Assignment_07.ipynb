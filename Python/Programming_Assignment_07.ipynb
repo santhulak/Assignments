{
  "nbformat": 4,
  "nbformat_minor": 0,
  "metadata": {
    "colab": {
      "provenance": [],
      "collapsed_sections": []
    },
    "kernelspec": {
      "name": "python3",
      "display_name": "Python 3"
    },
    "language_info": {
      "name": "python"
    }
  },
  "cells": [
    {
      "cell_type": "markdown",
      "source": [
        "**Programming Assignment _07**"
      ],
      "metadata": {
        "id": "tTavbZUnRN3U"
      }
    },
    {
      "cell_type": "markdown",
      "source": [
        "1.\tWrite a Python Program to find sum of array?\n",
        "\n"
      ],
      "metadata": {
        "id": "EfcG_lyHRQR7"
      }
    },
    {
      "cell_type": "code",
      "execution_count": 1,
      "metadata": {
        "colab": {
          "base_uri": "https://localhost:8080/"
        },
        "id": "PMl1qj7yRF1K",
        "outputId": "8226c71e-afef-482f-e917-8e79d6e51456"
      },
      "outputs": [
        {
          "output_type": "stream",
          "name": "stdout",
          "text": [
            "The sum of array : 15\n"
          ]
        }
      ],
      "source": [
        "sum = 0\n",
        "arr = [1,2,3,4,5]\n",
        "for i in arr:\n",
        "  sum = sum + i\n",
        "print(f\"The sum of array : {sum}\")"
      ]
    },
    {
      "cell_type": "markdown",
      "source": [
        "\n",
        "2.\tWrite a Python Program to find largest element in an array?\n"
      ],
      "metadata": {
        "id": "CiYiN1BwRaVz"
      }
    },
    {
      "cell_type": "code",
      "source": [
        "arr = [78,45,32,190,12,3,124]\n",
        "\n",
        "max = arr[0]\n",
        "\n",
        "for i in arr:\n",
        "  if i>max:\n",
        "    max = i\n",
        "print(max)"
      ],
      "metadata": {
        "colab": {
          "base_uri": "https://localhost:8080/"
        },
        "id": "I8RXG18pRbJk",
        "outputId": "b7e5764f-15eb-4f6d-ed9b-7c55e70fc582"
      },
      "execution_count": 3,
      "outputs": [
        {
          "output_type": "stream",
          "name": "stdout",
          "text": [
            "190\n"
          ]
        }
      ]
    },
    {
      "cell_type": "markdown",
      "source": [
        "3.\tWrite a Python Program for array rotation?\n"
      ],
      "metadata": {
        "id": "2ej3GPMNReK7"
      }
    },
    {
      "cell_type": "code",
      "source": [
        "def arrrotate(a,r):\n",
        "   temp = []\n",
        "   n = len(a)\n",
        "   for i in range(r,n):\n",
        "     temp.append(a[i])\n",
        "   i = 0\n",
        "   for i in range(0,r):\n",
        "     temp.append(a[i])\n",
        "   a = temp.copy()\n",
        "   return a\n",
        "arr = [1,2,3,4,5,6,7,8,9,10]\n",
        "print(f\"Array after rotation: {arrrotate(arr,4)} \")\n",
        "\n"
      ],
      "metadata": {
        "colab": {
          "base_uri": "https://localhost:8080/"
        },
        "id": "p67Pg8Y3RgDE",
        "outputId": "ba16deac-a3f4-40b8-9c24-f5ba6958156f"
      },
      "execution_count": 7,
      "outputs": [
        {
          "output_type": "stream",
          "name": "stdout",
          "text": [
            "Array after retation: [5, 6, 7, 8, 9, 10, 1, 2, 3, 4] \n"
          ]
        }
      ]
    },
    {
      "cell_type": "markdown",
      "source": [
        "4.\tWrite a Python Program to Split the array and add the first part to the end?\n"
      ],
      "metadata": {
        "id": "ic7S90f5RgnU"
      }
    },
    {
      "cell_type": "code",
      "source": [
        "def splitarray(arr,n,d):\n",
        "  for i in range(0, d):\n",
        "    x = arr[0]\n",
        "    for j in range(0,n-1):\n",
        "      arr[j] = arr[j+1]\n",
        "    arr[n-1] = x\n",
        "arr = [11,12,13,14,15,16,17]\n",
        "n = len(arr)\n",
        "pos = 2\n",
        "splitarray(arr,n,pos)\n",
        "for i in range(0,n):\n",
        "  print(arr[i], end = ' ')\t\n"
      ],
      "metadata": {
        "colab": {
          "base_uri": "https://localhost:8080/"
        },
        "id": "zt2_jZp3RiQT",
        "outputId": "84ff4a9b-52eb-40fb-84b4-7e84ec011ece"
      },
      "execution_count": 21,
      "outputs": [
        {
          "output_type": "stream",
          "name": "stdout",
          "text": [
            "13 14 15 16 17 11 12 "
          ]
        }
      ]
    },
    {
      "cell_type": "markdown",
      "source": [
        "5.\tWrite a Python Program to check if given array is Monotonic?"
      ],
      "metadata": {
        "id": "IVTonOR4Riqj"
      }
    },
    {
      "cell_type": "code",
      "source": [
        "def monotone(a):\n",
        "  n = len(a)#length of the array\n",
        "  \n",
        "  if n == 1:\n",
        "    return True\n",
        "  else:\n",
        "    if all(a[i] >= a[i+1] for i in range(0,n-1)) or all(a[i] <= a[i+1] for i in range(0,n-1)):\n",
        "      return True\n",
        "    else:\n",
        "      return False\n",
        "\n",
        "print(monotone([9]))\n",
        "print(monotone([9,8,7]))\n",
        "print(monotone([12,13,14]))\n",
        "print(monotone([2,13,4]))"
      ],
      "metadata": {
        "colab": {
          "base_uri": "https://localhost:8080/"
        },
        "id": "ZPGBHCyja_jv",
        "outputId": "fab3ab6e-af8b-4080-c8b2-54892299b1f8"
      },
      "execution_count": 36,
      "outputs": [
        {
          "output_type": "stream",
          "name": "stdout",
          "text": [
            "True\n",
            "True\n",
            "True\n",
            "False\n"
          ]
        }
      ]
    }
  ]
}