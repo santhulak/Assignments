{
  "nbformat": 4,
  "nbformat_minor": 0,
  "metadata": {
    "colab": {
      "provenance": [],
      "collapsed_sections": []
    },
    "kernelspec": {
      "name": "python3",
      "display_name": "Python 3"
    },
    "language_info": {
      "name": "python"
    }
  },
  "cells": [
    {
      "cell_type": "markdown",
      "source": [
        "1.Add the current date to the text file today.txt as a string.\n"
      ],
      "metadata": {
        "id": "rdMIT_RDQdaE"
      }
    },
    {
      "cell_type": "code",
      "source": [
        "import datetime\n",
        "f = open(\"today.txt\",'w')\n",
        "f.write(datetime.datetime.now().strftime(\"%d-%m-%y\"))\n",
        "f.close()"
      ],
      "metadata": {
        "id": "ioFOwcJMbNVu"
      },
      "execution_count": 4,
      "outputs": []
    },
    {
      "cell_type": "markdown",
      "source": [
        "2.Read the text file today.txt into the string today_string\n",
        "\n"
      ],
      "metadata": {
        "id": "kK_Khg0FQp4c"
      }
    },
    {
      "cell_type": "code",
      "source": [
        "import datetime\n",
        "f = open(\"today.txt\",'r')\n",
        "today_string = f.read()\n",
        "print(today_string)\n"
      ],
      "metadata": {
        "colab": {
          "base_uri": "https://localhost:8080/"
        },
        "id": "-XNbS5PNe2FO",
        "outputId": "21695101-7abd-4a4b-fce8-0e61b2cbeff5"
      },
      "execution_count": 6,
      "outputs": [
        {
          "output_type": "stream",
          "name": "stdout",
          "text": [
            "07-11-22\n"
          ]
        }
      ]
    },
    {
      "cell_type": "markdown",
      "source": [
        "3.Parse the date from today_string.\n"
      ],
      "metadata": {
        "id": "unN-D8z4Qre5"
      }
    },
    {
      "cell_type": "code",
      "source": [
        "from datetime import datetime\n",
        "parse_date = datetime.strptime(today_string , \"%d-%m-%y\")\n",
        "print(parse_date)"
      ],
      "metadata": {
        "colab": {
          "base_uri": "https://localhost:8080/"
        },
        "id": "9pmdxBPbflUA",
        "outputId": "374f1f97-2abe-4d93-beeb-1de00e00f4ff"
      },
      "execution_count": 7,
      "outputs": [
        {
          "output_type": "stream",
          "name": "stdout",
          "text": [
            "2022-11-07 00:00:00\n"
          ]
        }
      ]
    },
    {
      "cell_type": "markdown",
      "source": [
        "4.List the files in your current directory\n"
      ],
      "metadata": {
        "id": "jnL1VRmHQtYb"
      }
    },
    {
      "cell_type": "code",
      "source": [
        "import os\n",
        "for folders, subfolders, files in os.walk(os.getcwd()):\n",
        "    for f in files:\n",
        "        print(f)"
      ],
      "metadata": {
        "colab": {
          "base_uri": "https://localhost:8080/"
        },
        "id": "aG1qqb7Df_6b",
        "outputId": "f41e6f8e-716b-4164-967e-56c7395a97eb"
      },
      "execution_count": 9,
      "outputs": [
        {
          "output_type": "stream",
          "name": "stdout",
          "text": [
            "today.txt\n",
            ".last_update_check.json\n",
            ".last_survey_prompt.yaml\n",
            ".last_opt_in_prompt.yaml\n",
            "config_sentinel\n",
            "active_config\n",
            "gce\n",
            "13.36.34.707746.log\n",
            "13.35.53.106765.log\n",
            "13.37.00.362876.log\n",
            "13.37.01.262813.log\n",
            "13.36.19.156679.log\n",
            "13.35.23.262379.log\n",
            "config_default\n",
            "README.md\n",
            "anscombe.json\n",
            "mnist_train_small.csv\n",
            "california_housing_train.csv\n",
            "mnist_test.csv\n",
            "california_housing_test.csv\n"
          ]
        }
      ]
    },
    {
      "cell_type": "markdown",
      "source": [
        "5.Create a list of all of the files in your parent directory (minimum five files should be available).\n"
      ],
      "metadata": {
        "id": "8Z0N1qkgQvAg"
      }
    },
    {
      "cell_type": "code",
      "source": [
        "import os\n",
        "os.listdir(\"sample_data\")"
      ],
      "metadata": {
        "colab": {
          "base_uri": "https://localhost:8080/"
        },
        "id": "ODmBgRhwjDlS",
        "outputId": "237480ee-f533-4746-9d29-c40f6d3f9267"
      },
      "execution_count": 12,
      "outputs": [
        {
          "output_type": "execute_result",
          "data": {
            "text/plain": [
              "['README.md',\n",
              " 'anscombe.json',\n",
              " 'mnist_train_small.csv',\n",
              " 'california_housing_train.csv',\n",
              " 'mnist_test.csv',\n",
              " 'california_housing_test.csv']"
            ]
          },
          "metadata": {},
          "execution_count": 12
        }
      ]
    },
    {
      "cell_type": "markdown",
      "source": [
        "6.Use multiprocessing to create three separate processes. Make each one wait a random number of seconds between one and five, print the current time, and then exit.\n"
      ],
      "metadata": {
        "id": "QtbKt1nOQwvc"
      }
    },
    {
      "cell_type": "code",
      "source": [
        "import multiprocessing\n",
        "import datetime\n",
        "import time\n",
        "import random\n",
        "\n",
        "def process1():\n",
        "  print(f\"Process 1 start time -> {datetime.datetime.now()}\")\n",
        "  time.sleep(random.randint(1,5))\n",
        "  print(f\"Process 1 end time -> {datetime.datetime.now()}\")\n",
        "\n",
        "def process2():\n",
        "  print(f\"Process 2 start time -> {datetime.datetime.now()}\")\n",
        "  time.sleep(random.randint(1,5))\n",
        "  print(f\"Process 2 end time -> {datetime.datetime.now()}\")\n",
        "\n",
        "def process3():\n",
        "  print(f\"Process 3 start time -> {datetime.datetime.now()}\")\n",
        "  time.sleep(random.randint(1,5))\n",
        "  print(f\"Process 3 end time -> {datetime.datetime.now()}\")\n",
        "\n",
        "if __name__ == \"__main__\":\n",
        "  p1 = multiprocessing.Process(target=process1)\n",
        "  p2 = multiprocessing.Process(target=process2)\n",
        "  p3 = multiprocessing.Process(target=process3)\n",
        "\n",
        "p1.start()\n",
        "p2.start()\n",
        "p3.start()\n",
        "\n",
        "p1.join()\n",
        "p2.join()\n",
        "p3.join()"
      ],
      "metadata": {
        "colab": {
          "base_uri": "https://localhost:8080/"
        },
        "id": "KsFyIMsMjtvg",
        "outputId": "e626c112-fd4c-4608-8bff-862696381d09"
      },
      "execution_count": 15,
      "outputs": [
        {
          "output_type": "stream",
          "name": "stdout",
          "text": [
            "Process 1 start time -> 2022-11-07 10:16:54.506748\n",
            "Process 2 start time -> 2022-11-07 10:16:54.521099\n",
            "Process 3 start time -> 2022-11-07 10:16:54.530482\n",
            "Process 1 end time -> 2022-11-07 10:16:55.527030\n",
            "Process 2 end time -> 2022-11-07 10:16:57.541579\n",
            "Process 3 end time -> 2022-11-07 10:16:57.552467\n"
          ]
        }
      ]
    },
    {
      "cell_type": "markdown",
      "source": [
        "7.Create a date object of your day of birth.\n"
      ],
      "metadata": {
        "id": "D9YDglqnQyPT"
      }
    },
    {
      "cell_type": "code",
      "source": [
        "from datetime import datetime\n",
        "my_dob = datetime.strptime('24/07/1983','%d/%m/%Y')\n",
        "print(my_dob)\n",
        "print(type(my_dob))"
      ],
      "metadata": {
        "colab": {
          "base_uri": "https://localhost:8080/"
        },
        "id": "ZQDrBvSamNfs",
        "outputId": "adefe333-d354-4a54-b0d6-5f38135e2d5a"
      },
      "execution_count": 23,
      "outputs": [
        {
          "output_type": "stream",
          "name": "stdout",
          "text": [
            "1983-07-24 00:00:00\n",
            "<class 'datetime.datetime'>\n"
          ]
        }
      ]
    },
    {
      "cell_type": "markdown",
      "source": [
        "8.What day of the week was your day of birth?\n"
      ],
      "metadata": {
        "id": "9ECeZ1FAQz4b"
      }
    },
    {
      "cell_type": "code",
      "source": [
        "from datetime import datetime\n",
        "my_dob = datetime(1983,7,24)\n",
        "my_dob.strftime(\"%A\")"
      ],
      "metadata": {
        "colab": {
          "base_uri": "https://localhost:8080/",
          "height": 35
        },
        "id": "b-ZezGYgnQU6",
        "outputId": "d5567273-113f-48fb-bf4e-63cbea605590"
      },
      "execution_count": 30,
      "outputs": [
        {
          "output_type": "execute_result",
          "data": {
            "text/plain": [
              "'Sunday'"
            ],
            "application/vnd.google.colaboratory.intrinsic+json": {
              "type": "string"
            }
          },
          "metadata": {},
          "execution_count": 30
        }
      ]
    },
    {
      "cell_type": "markdown",
      "source": [
        "9.When will you be (or when were you) 10,000 days old?"
      ],
      "metadata": {
        "id": "DVW2IPCyQ2Ao"
      }
    },
    {
      "cell_type": "code",
      "source": [
        "from datetime import datetime,timedelta\n",
        "my_dob = datetime.strptime('24/07/1983','%d/%m/%Y')\n",
        "future_date = my_dob-timedelta(10000)\n",
        "future_date"
      ],
      "metadata": {
        "colab": {
          "base_uri": "https://localhost:8080/"
        },
        "id": "rCY5RIYOoGpV",
        "outputId": "c83d96d6-fb69-4ae3-e512-a44e91cde041"
      },
      "execution_count": 35,
      "outputs": [
        {
          "output_type": "execute_result",
          "data": {
            "text/plain": [
              "datetime.datetime(1956, 3, 7, 0, 0)"
            ]
          },
          "metadata": {},
          "execution_count": 35
        }
      ]
    }
  ]
}