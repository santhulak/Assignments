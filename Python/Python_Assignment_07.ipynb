{
  "nbformat": 4,
  "nbformat_minor": 0,
  "metadata": {
    "colab": {
      "provenance": [],
      "collapsed_sections": []
    },
    "kernelspec": {
      "name": "python3",
      "display_name": "Python 3"
    },
    "language_info": {
      "name": "python"
    }
  },
  "cells": [
    {
      "cell_type": "markdown",
      "source": [
        "1.What is the name of the feature responsible for generating Regex objects?\n",
        "\n",
        "re,compile() function creates the Regex objects."
      ],
      "metadata": {
        "id": "YayjF_LNimbG"
      }
    },
    {
      "cell_type": "markdown",
      "source": [
        "2.Why do raw strings often appear in Regex objects?\n",
        "\n",
        "Raw strings are often used because backslashes do not need to be escaped."
      ],
      "metadata": {
        "id": "l3IjsXiyirsH"
      }
    },
    {
      "cell_type": "markdown",
      "source": [
        "3.What is the return value of the search() method?\n",
        "\n",
        "Search() method return the first occurence if match found , else it will return None"
      ],
      "metadata": {
        "id": "E2OgJ7-HivXF"
      }
    },
    {
      "cell_type": "markdown",
      "source": [
        "4.From a Match item, how do you get the actual strings that match the pattern?\n",
        "\n",
        "group() method returns the actual strings that match the pattern."
      ],
      "metadata": {
        "id": "VNE78cNojEkQ"
      }
    },
    {
      "cell_type": "markdown",
      "source": [
        "5.In the regex which created from the r'(\\d\\d\\d)-(\\d\\d\\d-\\d\\d\\d\\d)', what does group zero cover? Group 2? Group 1?\n",
        "\n",
        "Group 0 is the exact match\n",
        "\n",
        "Group 1 covers the first set of parentheses\n",
        "\n",
        "Group 2 covers the second set of parentheses"
      ],
      "metadata": {
        "id": "NietlWXW3tKl"
      }
    },
    {
      "cell_type": "markdown",
      "source": [
        "6.In standard expression syntax, parentheses and intervals have distinct meanings. How can you tell a regex that you want it to fit real parentheses and periods?\n",
        "\n",
        "\n",
        "Parentheses and periods can be escaped by the backslash\n",
        "\n",
        "\\.,\\(, and \\)"
      ],
      "metadata": {
        "id": "44eCINUqjKJi"
      }
    },
    {
      "cell_type": "markdown",
      "source": [
        "7.The findall() method returns a string list or a list of string tuples. What causes it to return one of the two options?\n",
        "\n",
        "Returns a list of strings if it has no groups\n",
        "\n",
        "Returns a list of tuples of strings if it is in groups"
      ],
      "metadata": {
        "id": "6Ch5El0LjNYG"
      }
    },
    {
      "cell_type": "markdown",
      "source": [
        "8.In standard expressions, what does the | character mean?\n",
        "\n",
        "Choice operator matches either the expression before or the expression after the operator \n",
        "\n",
        "\"xyz\" | \"ijk\" matches \"xyz\" or \"ijk\"\n",
        "\n",
        "\n"
      ],
      "metadata": {
        "id": "P6fgi-n0jP3U"
      }
    },
    {
      "cell_type": "markdown",
      "source": [
        "9.In regular expressions, what does the character stand for?\n",
        "\n",
        "\n",
        "Character in regular expressions represents the search pattern in the text"
      ],
      "metadata": {
        "id": "V7rERRL9jSEy"
      }
    },
    {
      "cell_type": "markdown",
      "source": [
        "10.In regular expressions, what is the difference between the + and * characters?\n",
        "\n",
        "(+) - This symbol represents that the preceding character can be found **one** or **more number of times**\n",
        "\n",
        "(*) - This symbol represents that the preceding character can be found **zero** or **more number of times**\n",
        "\n"
      ],
      "metadata": {
        "id": "7Wr-xIpFjUCO"
      }
    },
    {
      "cell_type": "markdown",
      "source": [
        "11.What is the difference between {4} and {4,5} in regular expression?\n",
        "\n",
        "{4} - accepts exactly 4 copies of the particular character \n",
        "\n",
        "eg : a{4}b   - \"aaaab\"\n",
        "\n",
        "{4,5} - accepts  4 to 5  copies of the particular character \n",
        "\n",
        "eg : a{4,5}  - \"aaaaa\"  or \"aaaa\""
      ],
      "metadata": {
        "id": "ZfNE3mnbjWF6"
      }
    },
    {
      "cell_type": "markdown",
      "source": [
        "12.What do you mean by the \\d, \\w, and \\s shorthand character classes signify in regular expressions?\n",
        "\n",
        "\\d  - matches any single digit\n",
        "\n",
        "\\w  - represents word character\n",
        " \n",
        "\\s  - indicates a single whitespace character\n"
      ],
      "metadata": {
        "id": "SjPl3sPfjYUM"
      }
    },
    {
      "cell_type": "markdown",
      "source": [
        "13.What do means by \\D, \\W, and \\S shorthand character classes signify in regular expressions?\n",
        "\n",
        "\\D - non digit character\n",
        "\n",
        "\\W - represents non word character\n",
        "\n",
        "\\S - not whitespace character\n",
        "\n"
      ],
      "metadata": {
        "id": "-QiTKDlRjaW2"
      }
    },
    {
      "cell_type": "markdown",
      "source": [
        "14.What is the difference between . * ? and . * ?\n",
        "\n",
        "(.*?) - matches any character (.) number of times (*)as few times as possible with regex match (?)\n",
        "\n",
        "(.*)? - captures as agroup zero or one time(?)"
      ],
      "metadata": {
        "id": "PA8XMvDKjcRM"
      }
    },
    {
      "cell_type": "markdown",
      "source": [
        "15.What is the syntax for matching both numbers and lowercase letters with a character class?\n",
        "\n",
        "\n",
        "Character class [a-z0-9] matches all numbers and lowercase letters"
      ],
      "metadata": {
        "id": "2FfcofITjeaR"
      }
    },
    {
      "cell_type": "markdown",
      "source": [
        "16.What is the procedure for making a normal expression in regax case insensitive?\n",
        "\n",
        "re.IGNORECASE \n",
        "\n",
        "re.I \n",
        "\n",
        "these can be used as a flag to search case insensitivity\n"
      ],
      "metadata": {
        "id": "PQup3RyNjhQT"
      }
    },
    {
      "cell_type": "markdown",
      "source": [
        "17.What does the . character normally match? What does it match if re.DOTALL is passed as 2nd argument in re.compile()?\n",
        "\n",
        ". character matches any character except the newline character\n",
        "\n",
        "re.DOTALL is passed as 2nd argument in re.compile() then the DOT will also match the new line character\n"
      ],
      "metadata": {
        "id": "HnF2b24ujkO3"
      }
    },
    {
      "cell_type": "markdown",
      "source": [
        "18.If numReg = re.compile(r'\\d+'), what will numRegex.sub('X', '11 drummers, 10 pipers, five rings, 4 hen') return?\n",
        "\n",
        "X drummers X pipers five rings X hen"
      ],
      "metadata": {
        "id": "YyGW0Gchjl_t"
      }
    },
    {
      "cell_type": "markdown",
      "source": [
        "19.What does passing re.VERBOSE as the 2nd argument to re.compile() allow to do?\n",
        "\n",
        "Passing re.VERBOSE as the 2nd argument to re.compile() allows to add whitespace and comments to the string"
      ],
      "metadata": {
        "id": "XudNLQjKjoTr"
      }
    },
    {
      "cell_type": "markdown",
      "source": [
        "20. How would you write a regex that match a number with comma for every three digits? It must match the given following:\n",
        "\n",
        "'42'\n",
        "\n",
        "'1,234'\n",
        "\n",
        "'6,368,745'\n",
        "\n",
        "but not the following:\n",
        "\n",
        "'12,34,567' (which has only two digits between the commas)\n",
        "\n",
        "'1234' (which lacks commas)\n",
        "\n",
        "\n",
        "Ans:\n",
        "\n",
        "re.compile(r'^\\d{1,3}(,{3})*$')\n"
      ],
      "metadata": {
        "id": "nTvqae8vjqbE"
      }
    },
    {
      "cell_type": "markdown",
      "source": [
        "21.How would you write a regex that matches the full name of someone whose last name is Watanabe? You can assume that the first name that comes before it will always be one word that begins with a capital letter. The regex must match the following:\n",
        "\n",
        "'Haruto Watanabe'\n",
        "\n",
        "'Alice Watanabe'\n",
        "\n",
        "'RoboCop Watanabe'\n",
        "\n",
        "but not the following:\n",
        "\n",
        "'haruto Watanabe' (where the first name is not capitalized)\n",
        "\n",
        "'Mr. Watanabe' (where the preceding word has a nonletter character)\n",
        "\n",
        "'Watanabe' (which has no first name)\n",
        "\n",
        "'Haruto watanabe' (where Watanabe is not capitalized)\n",
        "\n",
        "Ans:\n",
        "\n",
        "re.compile(r'[A-Z][a-z]*\\sWatanabe')"
      ],
      "metadata": {
        "id": "hlTiFCN8jsnH"
      }
    },
    {
      "cell_type": "markdown",
      "source": [
        "22. How would you write a regex that matches a sentence where the first word is either Alice, Bob, or Carol; the second word is either eats, pets, or throws; the third word is apples, cats, or baseballs; and the sentence ends with a period? This regex should be case-insensitive. It must match the following:\n",
        "\n",
        "'Alice eats apples.'\n",
        "\n",
        "'Bob pets cats.'\n",
        "\n",
        "'Carol throws baseballs.'\n",
        "\n",
        "'Alice throws Apples.'\n",
        "\n",
        "'BOB EATS CATS.'\n",
        "\n",
        "but not the following:\n",
        "\n",
        "'RoboCop eats apples.'\n",
        "\n",
        "'ALICE THROWS FOOTBALLS.'\n",
        "\n",
        "'Carol eats 7 cats.'\n",
        "\n",
        "\n",
        "\n",
        "re.compile(r'(Alice|Bob|Carol)\\s(eats|pets|throws)\\ s(apples|cats|baseballs)\\.', re.IGNORECASE)"
      ],
      "metadata": {
        "id": "n67pt4yRjuyf"
      }
    }
  ]
}