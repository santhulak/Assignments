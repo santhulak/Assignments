{
  "nbformat": 4,
  "nbformat_minor": 0,
  "metadata": {
    "colab": {
      "provenance": [],
      "collapsed_sections": []
    },
    "kernelspec": {
      "name": "python3",
      "display_name": "Python 3"
    },
    "language_info": {
      "name": "python"
    }
  },
  "cells": [
    {
      "cell_type": "markdown",
      "source": [
        "#Python Programming Assignment - 2\n",
        "\n"
      ],
      "metadata": {
        "id": "YkW5PS1hYBBo"
      }
    },
    {
      "cell_type": "markdown",
      "source": [
        "1.Write a Python program to convert kilometers to miles?\n"
      ],
      "metadata": {
        "id": "yrYVIWQrYLYh"
      }
    },
    {
      "cell_type": "code",
      "execution_count": 7,
      "metadata": {
        "colab": {
          "base_uri": "https://localhost:8080/"
        },
        "id": "t5O3i0H-X3DU",
        "outputId": "bd7636ab-ceeb-45d1-8f1d-128b26c6dcff"
      },
      "outputs": [
        {
          "output_type": "stream",
          "name": "stdout",
          "text": [
            "Enter the kilometer: 12\n",
            "12.0 Kilometers is equal to 7.4564520000000005 Miles\n"
          ]
        }
      ],
      "source": [
        "x = float(input(\"Enter the kilometer: \"))\n",
        "miles = x * 0.621371\n",
        "print(f\"{x} Kilometers is equal to {miles} Miles\")"
      ]
    },
    {
      "cell_type": "markdown",
      "source": [
        "2.Write a Python program to convert Celsius to Fahrenheit?\n"
      ],
      "metadata": {
        "id": "6XQPHCG7YT_G"
      }
    },
    {
      "cell_type": "code",
      "source": [
        "C= float(input(\"Enter temperature in celsius: \"))\n",
        "F = (C *  9/5)+32\n",
        "print(f\"{C} degree celsius is equal to {F} farenheit\")"
      ],
      "metadata": {
        "colab": {
          "base_uri": "https://localhost:8080/"
        },
        "id": "lawTjJ7mYVhD",
        "outputId": "befc612c-193f-458d-ce90-eec3d8e7e9a9"
      },
      "execution_count": 10,
      "outputs": [
        {
          "output_type": "stream",
          "name": "stdout",
          "text": [
            "Enter temperature in celsius: 100\n",
            "100.0 degree celsius is equal to 212.0 farenheit\n"
          ]
        }
      ]
    },
    {
      "cell_type": "markdown",
      "source": [
        "3.Write a Python program to display calendar?\n"
      ],
      "metadata": {
        "id": "_IsYudRiYWFg"
      }
    },
    {
      "cell_type": "code",
      "source": [
        "import calendar\n",
        "\n",
        "m =int(input(\"Enter the month in the format mm: \"))\n",
        "y =int(input(\"Enter the month in the format yyyy: \"))\n",
        "print(calendar.month(y,m))"
      ],
      "metadata": {
        "colab": {
          "base_uri": "https://localhost:8080/"
        },
        "id": "Afvq4xI8YXvZ",
        "outputId": "6437415f-8f15-40ed-e188-9dae8efeb277"
      },
      "execution_count": 12,
      "outputs": [
        {
          "output_type": "stream",
          "name": "stdout",
          "text": [
            "Enter the month in the format mm: 02\n",
            "Enter the month in the format yyyy: 2008\n",
            "   February 2008\n",
            "Mo Tu We Th Fr Sa Su\n",
            "             1  2  3\n",
            " 4  5  6  7  8  9 10\n",
            "11 12 13 14 15 16 17\n",
            "18 19 20 21 22 23 24\n",
            "25 26 27 28 29\n",
            "\n"
          ]
        }
      ]
    },
    {
      "cell_type": "markdown",
      "source": [
        "4.Write a Python program to solve quadratic equation?\n"
      ],
      "metadata": {
        "id": "zRHNVukBYYQl"
      }
    },
    {
      "cell_type": "code",
      "source": [
        "import cmath\n",
        "a = float(input(\"Enter the value of a : \"))\n",
        "b = float(input(\"Enter the value of b : \"))\n",
        "c = float(input(\"Enter the value of c : \"))\n",
        "\n",
        "#solve first d = (b*b) - (4*a*c)\n",
        "d = b**2 - 4 * a * c\n",
        "\n",
        "r1 = (-b + cmath.sqrt(d))/(2*a)\n",
        "r2 = (-b - cmath.sqrt(d))/(2*a)\n",
        "print (f\"Output : {r1} and {r2}\")"
      ],
      "metadata": {
        "colab": {
          "base_uri": "https://localhost:8080/"
        },
        "id": "OQaspbpFYZmH",
        "outputId": "52604d1d-3ca2-4637-a292-66c076c709e3"
      },
      "execution_count": 3,
      "outputs": [
        {
          "output_type": "stream",
          "name": "stdout",
          "text": [
            "Enter the value of a : 5\n",
            "Enter the value of b : 6\n",
            "Enter the value of c : 7\n",
            "Output : (-0.6+1.0198039027185568j) and (-0.6-1.0198039027185568j)\n"
          ]
        }
      ]
    },
    {
      "cell_type": "markdown",
      "source": [
        "5.Write a Python program to swap two variables without temp variable?\n",
        "\n",
        "\n",
        "\n"
      ],
      "metadata": {
        "id": "SI95ZEiZYZ2J"
      }
    },
    {
      "cell_type": "code",
      "source": [
        "x = input(\"Enter First name\")\n",
        "y = input(\"Enter Last name\")\n",
        "print(f\"x before swap: {x}\")\n",
        "print(f\"y before swap: {y}\")\n",
        "x,y = y,x\n",
        "print(f\"x after swap: {x}\")\n",
        "print(f\"y after swap: {y}\")\n"
      ],
      "metadata": {
        "colab": {
          "base_uri": "https://localhost:8080/"
        },
        "id": "lHmF4YBwn6ov",
        "outputId": "be1129ba-5fba-4814-cf15-92625dffc506"
      },
      "execution_count": 13,
      "outputs": [
        {
          "output_type": "stream",
          "name": "stdout",
          "text": [
            "Enter First namehello\n",
            "Enter Last namewelcome\n",
            "x before swap: hello\n",
            "y before swap: welcome\n",
            "x after swap: welcome\n",
            "y after swap: hello\n"
          ]
        }
      ]
    },
    {
      "cell_type": "code",
      "source": [],
      "metadata": {
        "id": "M6auC-h6piDL"
      },
      "execution_count": null,
      "outputs": []
    }
  ]
}