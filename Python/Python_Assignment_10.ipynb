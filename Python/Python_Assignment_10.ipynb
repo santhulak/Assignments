{
  "nbformat": 4,
  "nbformat_minor": 0,
  "metadata": {
    "colab": {
      "provenance": []
    },
    "kernelspec": {
      "name": "python3",
      "display_name": "Python 3"
    },
    "language_info": {
      "name": "python"
    }
  },
  "cells": [
    {
      "cell_type": "markdown",
      "source": [
        "1.How do you distinguish between shutil.copy() and shutil.copytree()?\n",
        "\n",
        "shutil.copy() function will Copy the single file\n",
        "\n",
        "shutil.copytree() function will copy the entire folder along with all its contents"
      ],
      "metadata": {
        "id": "ItHc8LP79eul"
      }
    },
    {
      "cell_type": "markdown",
      "source": [
        "2.What function is used to rename files??\n",
        "\n",
        "shutil.move() function is used for renaming the files as well as moving them"
      ],
      "metadata": {
        "id": "o6TVs5TV9rVv"
      }
    },
    {
      "cell_type": "markdown",
      "source": [
        "3.What is the difference between the delete functions in the send2trash and shutil modules?\n",
        "\n",
        "send2trash function will move a file or folder to the recycle bin\n",
        "\n",
        "shutil modules function will permanently delete the files and folders"
      ],
      "metadata": {
        "id": "3pz8A9K79tNh"
      }
    },
    {
      "cell_type": "markdown",
      "source": [
        "4.ZipFile objects have a close() method just like File objects’ close() method. What ZipFile method is equivalent to File objects’ open() method?\n",
        "\n",
        "zipfile.ZipFile(file, mode)\n",
        "\n",
        "zipfile.ZipFile method is equivalent to File objects’ open() method\n",
        "\n",
        "First argument is the filename.\n",
        "\n",
        "Second argument is the mode to open the zip file in read, write or append"
      ],
      "metadata": {
        "id": "Yaf-K4DN9u_h"
      }
    },
    {
      "cell_type": "markdown",
      "source": [
        "5.Create a programme that searches a folder tree for files with a certain file extension (such as .pdf or .jpg). Copy these files from whatever location they are in to a new folder."
      ],
      "metadata": {
        "id": "FHRQtcri9wr8"
      }
    },
    {
      "cell_type": "code",
      "source": [
        "import os, shutil\n",
        "\n",
        "def selectiveCopy(folder, extensions, destFolder):\n",
        "\tfolder = os.path.abspath(folder)\n",
        "\tdestFolder = os.path.abspath(destFolder)\n",
        "\tprint('Looking in', folder, 'for files with extensions of', ', '.join(extensions))\n",
        "\tfor foldername, subfolders, filenames in os.walk(folder):\n",
        "\t\tfor filename in filenames:\n",
        "\t\t\tname, extension = os.path.splitext(filename)\n",
        "\t\t\tif extension in extensions:\n",
        "\t\t\t\tfileAbsPath = foldername + os.path.sep + filename\n",
        "\t\t\t\tprint('Coping', fileAbsPath, 'to', destFolder)\n",
        "\t\t\t\tshutil.copy(fileAbsPath, destFolder)\n",
        "\n",
        "extensions = ['.csv', '.json']\n",
        "folder = 'sample_data'\n",
        "destFolder = 'selectiveFolder'\n",
        "selectiveCopy(folder, extensions, destFolder)"
      ],
      "metadata": {
        "colab": {
          "base_uri": "https://localhost:8080/"
        },
        "id": "5DAQTdacBGPT",
        "outputId": "af64fe79-ccd2-4262-f73e-f9639a8b1d6a"
      },
      "execution_count": 5,
      "outputs": [
        {
          "output_type": "stream",
          "name": "stdout",
          "text": [
            "Looking in /content/sample_data for files with extensions of .csv, .json\n",
            "Coping /content/sample_data/anscombe.json to /content/selectiveFolder\n",
            "Coping /content/sample_data/california_housing_train.csv to /content/selectiveFolder\n",
            "Coping /content/sample_data/mnist_test.csv to /content/selectiveFolder\n",
            "Coping /content/sample_data/california_housing_test.csv to /content/selectiveFolder\n",
            "Coping /content/sample_data/mnist_train_small.csv to /content/selectiveFolder\n"
          ]
        }
      ]
    },
    {
      "cell_type": "code",
      "source": [],
      "metadata": {
        "id": "-V3adop0BWOs"
      },
      "execution_count": null,
      "outputs": []
    }
  ]
}