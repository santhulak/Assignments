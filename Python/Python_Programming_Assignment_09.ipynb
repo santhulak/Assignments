{
  "nbformat": 4,
  "nbformat_minor": 0,
  "metadata": {
    "colab": {
      "provenance": [],
      "collapsed_sections": []
    },
    "kernelspec": {
      "name": "python3",
      "display_name": "Python 3"
    },
    "language_info": {
      "name": "python"
    }
  },
  "cells": [
    {
      "cell_type": "markdown",
      "source": [
        "**Python_Programming_Assignment_09**"
      ],
      "metadata": {
        "id": "lF4ZB6IvnBZr"
      }
    },
    {
      "cell_type": "markdown",
      "source": [
        "1.Write a Python program to check if the given number is a Disarium Number?\n"
      ],
      "metadata": {
        "id": "xU8BZSWUmzAL"
      }
    },
    {
      "cell_type": "code",
      "source": [
        "def disar(n):\n",
        "  temp = 0\n",
        "  for i in range(len(str(n))):\n",
        "    temp += int(str(n)[i])**(i+1)\n",
        "  if temp == n:\n",
        "    print(f\"{temp} is a Disarium Number\")\n",
        "  else:\n",
        "    print(f\"{temp} is a not a Disarium Number\")\n",
        "\n",
        "\n"
      ],
      "metadata": {
        "id": "1KKgjGu4m1et"
      },
      "execution_count": 25,
      "outputs": []
    },
    {
      "cell_type": "code",
      "source": [
        "disar(175)"
      ],
      "metadata": {
        "colab": {
          "base_uri": "https://localhost:8080/"
        },
        "id": "uon5m5TsoDxA",
        "outputId": "f2cf1c92-9817-4ca7-8748-2c6e8b9bd7af"
      },
      "execution_count": 27,
      "outputs": [
        {
          "output_type": "stream",
          "name": "stdout",
          "text": [
            "175 is a Disarium Number\n"
          ]
        }
      ]
    },
    {
      "cell_type": "markdown",
      "source": [
        "2.Write a Python program to print all disarium numbers between 1 to 100?\n"
      ],
      "metadata": {
        "id": "NibhWEMom2KQ"
      }
    },
    {
      "cell_type": "code",
      "source": [
        "def cal_len(n):\n",
        "  length=0\n",
        "  while n!=0:\n",
        "    length = length+1\n",
        "    n = n//10\n",
        "  return length\n",
        "\n",
        "def cal_digits(num):\n",
        "  rem = sum =0\n",
        "  len = cal_len(num)\n",
        "  while num>0:\n",
        "    rem = num%10\n",
        "    sum = sum + (rem**len)\n",
        "    num = num//10\n",
        "    len = len-1\n",
        "  return sum\n",
        "r =100\n",
        "print(\"Discartium Numbers between 1 to 100: \")\n",
        "for i in range(1,(r+1)):\n",
        "  res = cal_digits(i)\n",
        "  if res == i:\n",
        "    print(i)\n",
        "\n",
        "\n",
        "\n",
        "\n"
      ],
      "metadata": {
        "colab": {
          "base_uri": "https://localhost:8080/"
        },
        "id": "B_odOp9im3ly",
        "outputId": "9d62a811-2fef-496d-c3d1-262c986f1ea0"
      },
      "execution_count": 41,
      "outputs": [
        {
          "output_type": "stream",
          "name": "stdout",
          "text": [
            "Discartium Numbers between 1 to 100: \n",
            "1\n",
            "2\n",
            "3\n",
            "4\n",
            "5\n",
            "6\n",
            "7\n",
            "8\n",
            "9\n",
            "89\n"
          ]
        }
      ]
    },
    {
      "cell_type": "code",
      "source": [
        "cal_len(123)"
      ],
      "metadata": {
        "colab": {
          "base_uri": "https://localhost:8080/"
        },
        "id": "Agh3dRZkHog6",
        "outputId": "2a26ebc5-5742-4cd7-fd15-0638d73c1549"
      },
      "execution_count": 40,
      "outputs": [
        {
          "output_type": "execute_result",
          "data": {
            "text/plain": [
              "3"
            ]
          },
          "metadata": {},
          "execution_count": 40
        }
      ]
    },
    {
      "cell_type": "markdown",
      "source": [
        "3.Write a Python program to check if the given number is Happy Number?\n"
      ],
      "metadata": {
        "id": "oV4Vv_WOm4Jf"
      }
    },
    {
      "cell_type": "code",
      "source": [
        "def is_happy(num):\n",
        "  sum = 0\n",
        "  while num > 0:\n",
        "    rem = num % 10\n",
        "    sum = sum+ (rem**2)\n",
        "    num = num // 10\n",
        "  return sum\n",
        "\n",
        "num= int(input(\"Enter a number: \"))\n",
        "r = num\n",
        "while r != 1 and r != 4:\n",
        "  r = is_happy(r)\n",
        "\n",
        "if(r == 1):\n",
        "  print(f\"{num} is a happy number\")\n",
        "elif (r==4):\n",
        "  print(f\"{num} is not a happy number\")\n"
      ],
      "metadata": {
        "colab": {
          "base_uri": "https://localhost:8080/"
        },
        "id": "07kJYhQom6QF",
        "outputId": "0ec976ca-57cb-4978-ec2f-3a0c8861643a"
      },
      "execution_count": 102,
      "outputs": [
        {
          "output_type": "stream",
          "name": "stdout",
          "text": [
            "Enter a number: 82\n",
            "82 is a happy number\n"
          ]
        }
      ]
    },
    {
      "cell_type": "markdown",
      "source": [
        "4.Write a Python program to print all happy numbers between 1 and 100?\n",
        "\n",
        "\n"
      ],
      "metadata": {
        "id": "niU9msbCm6z-"
      }
    },
    {
      "cell_type": "code",
      "source": [
        "def happy_num(num):\n",
        "  rem = sum = 0\n",
        "  while num > 0:\n",
        "    rem = num % 10\n",
        "    sum = sum+ (rem**2)\n",
        "    num = num // 10\n",
        "  return sum\n",
        "\n",
        "print(\"Happy numbers between 1 and 100 \")\n",
        "for i in range(1, 101):\n",
        "  r = i\n",
        "  while r != 1 and r != 4:\n",
        "    r = happy_num(r)\n",
        "\n",
        "  if r == 1:\n",
        "    print(i)\n"
      ],
      "metadata": {
        "colab": {
          "base_uri": "https://localhost:8080/"
        },
        "id": "qU6pa1-Tm8WN",
        "outputId": "62d51031-125d-405c-ed81-9fc864a5844f"
      },
      "execution_count": 110,
      "outputs": [
        {
          "output_type": "stream",
          "name": "stdout",
          "text": [
            "Happy numbers between 1 and 100 \n",
            "1\n",
            "7\n",
            "10\n",
            "13\n",
            "19\n",
            "23\n",
            "28\n",
            "31\n",
            "32\n",
            "44\n",
            "49\n",
            "68\n",
            "70\n",
            "79\n",
            "82\n",
            "86\n",
            "91\n",
            "94\n",
            "97\n",
            "100\n"
          ]
        }
      ]
    },
    {
      "cell_type": "markdown",
      "source": [
        "5.Write a Python program to determine whether the given number is a Harshad Number?\n"
      ],
      "metadata": {
        "id": "z9T8DIbim8pK"
      }
    },
    {
      "cell_type": "code",
      "source": [
        "num = int(input(\"Enter the number : \"))\n",
        "sum = 0\n",
        "temp = num\n",
        "while temp > 0:\n",
        "  rem = temp % 10\n",
        "  sum = sum + rem\n",
        "  temp = temp // 10\n",
        "print(f\"The sum of the digits : {sum}\")\n",
        "if num % sum == 0:\n",
        "  print(f\"{num} is Harshad number\")\n",
        "else:\n",
        "  print(f\"{num} is Harshad number\")\n",
        "\n"
      ],
      "metadata": {
        "colab": {
          "base_uri": "https://localhost:8080/"
        },
        "id": "I09fqQwAm-NU",
        "outputId": "bab320dc-3042-4e0f-f704-ea2b821ba3a2"
      },
      "execution_count": 95,
      "outputs": [
        {
          "output_type": "stream",
          "name": "stdout",
          "text": [
            "Enter the number : 345\n",
            "The sum of the digits : 12\n",
            "345 is sHarshad number\n"
          ]
        }
      ]
    },
    {
      "cell_type": "markdown",
      "source": [
        "6.Write a Python program to print all pronic numbers between 1 and 100?"
      ],
      "metadata": {
        "id": "Peko5iJdm-rT"
      }
    },
    {
      "cell_type": "code",
      "source": [
        "def pronic(num):\n",
        "  f = 0\n",
        "  for i in range(1, num+1):\n",
        "    if (i*(i+1)== num):\n",
        "      f =1\n",
        "      break\n",
        "  return f\n",
        "print(\"Pronic numbers between 1 and 100\")\n",
        "\n",
        "for r in range(1,101):\n",
        "  if(pronic(r)):\n",
        "    print(r, end=\" \")\n",
        "    "
      ],
      "metadata": {
        "colab": {
          "base_uri": "https://localhost:8080/"
        },
        "id": "STuHZoW4m_sA",
        "outputId": "95e0938f-7dfc-4e49-dc3f-5e5bc5f3a57b"
      },
      "execution_count": 81,
      "outputs": [
        {
          "output_type": "stream",
          "name": "stdout",
          "text": [
            "Pronic numbers between 1 and 100\n",
            "2 6 12 20 30 42 56 72 90 "
          ]
        }
      ]
    }
  ]
}