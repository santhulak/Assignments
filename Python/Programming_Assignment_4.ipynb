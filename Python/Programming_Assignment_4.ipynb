{
  "nbformat": 4,
  "nbformat_minor": 0,
  "metadata": {
    "colab": {
      "provenance": [],
      "collapsed_sections": []
    },
    "kernelspec": {
      "name": "python3",
      "display_name": "Python 3"
    },
    "language_info": {
      "name": "python"
    }
  },
  "cells": [
    {
      "cell_type": "markdown",
      "source": [
        "**Python Programming Assignment_4**"
      ],
      "metadata": {
        "id": "b8pCkbFqcsjE"
      }
    },
    {
      "cell_type": "markdown",
      "source": [
        "1.Write a Python Program to Find the Factorial of a Number?\n"
      ],
      "metadata": {
        "id": "co0qYnnwc9k0"
      }
    },
    {
      "cell_type": "code",
      "execution_count": null,
      "metadata": {
        "colab": {
          "base_uri": "https://localhost:8080/"
        },
        "id": "uvbstbHOcg1g",
        "outputId": "b13d83c4-1c64-4060-b8e9-6576ddc54a5e"
      },
      "outputs": [
        {
          "output_type": "stream",
          "name": "stdout",
          "text": [
            "6\n",
            "Factorial of 6 is : 720\n"
          ]
        }
      ],
      "source": [
        "f = 1\n",
        "i = int(input())\n",
        "if i == 0:\n",
        "  print(\"Factorial for zero is One\")\n",
        "elif i<0:\n",
        "  print(\"Factorial is not available for Negative Numbers\")\n",
        "else:\n",
        "  for c in range(1,i+1):\n",
        "    f = f*c\n",
        "  print(f\"Factorial of {i} is : {f}\")"
      ]
    },
    {
      "cell_type": "markdown",
      "source": [
        "2.Write a Python Program to Display the multiplication Table?\n"
      ],
      "metadata": {
        "id": "SEjCODfCdAVr"
      }
    },
    {
      "cell_type": "code",
      "source": [
        "num =int(input(\"Enter the number : \"))\n",
        "times = 12\n",
        "for i in range(1,times+1):\n",
        "  res = i*num\n",
        "  print(f\"{i} multiplied by {num} = {res}\")\n"
      ],
      "metadata": {
        "colab": {
          "base_uri": "https://localhost:8080/"
        },
        "id": "DgzBP-JtfX46",
        "outputId": "8d749d1b-83f4-4a2c-dc81-296f816c9671"
      },
      "execution_count": null,
      "outputs": [
        {
          "output_type": "stream",
          "name": "stdout",
          "text": [
            "Enter the number : 9\n",
            "1 multiplied by 9 = 9\n",
            "2 multiplied by 9 = 18\n",
            "3 multiplied by 9 = 27\n",
            "4 multiplied by 9 = 36\n",
            "5 multiplied by 9 = 45\n",
            "6 multiplied by 9 = 54\n",
            "7 multiplied by 9 = 63\n",
            "8 multiplied by 9 = 72\n",
            "9 multiplied by 9 = 81\n",
            "10 multiplied by 9 = 90\n",
            "11 multiplied by 9 = 99\n",
            "12 multiplied by 9 = 108\n"
          ]
        }
      ]
    },
    {
      "cell_type": "markdown",
      "source": [
        "3.Write a Python Program to Print the Fibonacci sequence?\n"
      ],
      "metadata": {
        "id": "q94EBSL5dCMF"
      }
    },
    {
      "cell_type": "code",
      "source": [
        "a =1\n",
        "b = 1\n",
        "c = int(input())\n",
        "for i in range(1,c+1):\n",
        "  a,b = b,a+b\n",
        "  print(a,b)"
      ],
      "metadata": {
        "colab": {
          "base_uri": "https://localhost:8080/"
        },
        "id": "KxL3gtIIghSn",
        "outputId": "73dcf845-c311-4296-9021-e49965353a8b"
      },
      "execution_count": null,
      "outputs": [
        {
          "output_type": "stream",
          "name": "stdout",
          "text": [
            "10\n",
            "1 2\n",
            "2 3\n",
            "3 5\n",
            "5 8\n",
            "8 13\n",
            "13 21\n",
            "21 34\n",
            "34 55\n",
            "55 89\n",
            "89 144\n"
          ]
        }
      ]
    },
    {
      "cell_type": "markdown",
      "source": [
        "4.Write a Python Program to Check Armstrong Number?\n"
      ],
      "metadata": {
        "id": "rn_JEbNZdFKe"
      }
    },
    {
      "cell_type": "code",
      "source": [
        "num = int(input())\n",
        "x = num\n",
        "sum = 0\n",
        "length = len(str(num))\n",
        "while x!=0:\n",
        "  #y stores the last digit\n",
        "  y = x % 10 \n",
        "  sum = sum+(y**length) \n",
        "  #x stores the quotient \n",
        "  x = x//10\n",
        "if sum == num:\n",
        "  print(f\"{num} is a armstrong number\")\n",
        "else:\n",
        "  print(f\"{num} is not a armstrong number\")"
      ],
      "metadata": {
        "colab": {
          "base_uri": "https://localhost:8080/"
        },
        "id": "27XnucBJi68V",
        "outputId": "8439d098-ad3c-41fc-ea98-3acc32be4dd4"
      },
      "execution_count": 7,
      "outputs": [
        {
          "output_type": "stream",
          "name": "stdout",
          "text": [
            "370\n",
            "370 is a armstrong number\n"
          ]
        }
      ]
    },
    {
      "cell_type": "markdown",
      "source": [
        "5.Write a Python Program to Find Armstrong Number in an Interval?"
      ],
      "metadata": {
        "id": "mkIRG53ndHLm"
      }
    },
    {
      "cell_type": "code",
      "source": [
        "a = int(input())\n",
        "n = int(input())\n",
        "\n",
        "for i in range(a,n+1):\n",
        "  sum = 0\n",
        "  length = len(str(i))\n",
        "  x = i\n",
        "  while x > 0:\n",
        "  #y stores the last digit\n",
        "    y = x % 10 \n",
        "    sum = sum+(y**length) \n",
        "  #x stores the quotient \n",
        "    x = x//10\n",
        "  if sum == i:\n",
        "     print(f\"{i} is a armstrong number\")\n",
        "  else:\n",
        "     print(f\"{i} is not a armstrong number\")"
      ],
      "metadata": {
        "colab": {
          "base_uri": "https://localhost:8080/"
        },
        "id": "s8JdDr6wmR3o",
        "outputId": "32425c75-eb18-4c3f-e503-b511e9fb7f2a"
      },
      "execution_count": 10,
      "outputs": [
        {
          "output_type": "stream",
          "name": "stdout",
          "text": [
            "369\n",
            "380\n",
            "369 is not a armstrong number\n",
            "370 is a armstrong number\n",
            "371 is a armstrong number\n",
            "372 is not a armstrong number\n",
            "373 is not a armstrong number\n",
            "374 is not a armstrong number\n",
            "375 is not a armstrong number\n",
            "376 is not a armstrong number\n",
            "377 is not a armstrong number\n",
            "378 is not a armstrong number\n",
            "379 is not a armstrong number\n",
            "380 is not a armstrong number\n"
          ]
        }
      ]
    },
    {
      "cell_type": "markdown",
      "source": [
        "6.Write a Python Program to Find the Sum of Natural Numbers?"
      ],
      "metadata": {
        "id": "Aqu3TfEtdI5n"
      }
    },
    {
      "cell_type": "code",
      "source": [
        "n = int(input(\"Enter a number: \"))\n",
        "\n",
        "sum = (n*(n+1))/2\n",
        "print(sum)"
      ],
      "metadata": {
        "colab": {
          "base_uri": "https://localhost:8080/"
        },
        "id": "_l6X3SqCqjK0",
        "outputId": "4befc4e5-8f60-44f5-bcba-92de3710f871"
      },
      "execution_count": 17,
      "outputs": [
        {
          "output_type": "stream",
          "name": "stdout",
          "text": [
            "Enter a number: 35\n",
            "630.0\n"
          ]
        }
      ]
    }
  ]
}