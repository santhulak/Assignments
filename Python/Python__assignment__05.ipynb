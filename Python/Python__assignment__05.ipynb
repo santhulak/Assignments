{
  "nbformat": 4,
  "nbformat_minor": 0,
  "metadata": {
    "colab": {
      "provenance": [],
      "collapsed_sections": []
    },
    "kernelspec": {
      "name": "python3",
      "display_name": "Python 3"
    },
    "language_info": {
      "name": "python"
    }
  },
  "cells": [
    {
      "cell_type": "markdown",
      "source": [
        "**Python _assignment _05**"
      ],
      "metadata": {
        "id": "55vOqviVV_I4"
      }
    },
    {
      "cell_type": "markdown",
      "source": [
        "1. What does an empty dictionary's code look like?\n",
        "\n",
        "\n",
        "To create a empty dictionary\n",
        "\n",
        "my_dic = { }\n",
        "\n",
        "\n",
        "\n",
        "\n",
        "\n"
      ],
      "metadata": {
        "id": "nukaxrseXBxu"
      }
    },
    {
      "cell_type": "markdown",
      "source": [
        "2. What is the value of a dictionary value with the key 'foo' and the value 42?\n",
        "\n",
        "my_dic = {key : value}\n",
        "\n",
        "my_dic ={\"foo\" : 42}\n",
        "\n",
        "Key - foo\n",
        "\n",
        "Value - 42\n",
        "\n",
        "Value of a dictionary value with the key 'foo' is **42**"
      ],
      "metadata": {
        "id": "a2u1yn5eXIL7"
      }
    },
    {
      "cell_type": "markdown",
      "source": [
        "3.What is the most significant distinction between a dictionary and a list?\n",
        "\n",
        "Dictionary : Elements in the dictionary are accessed via Keys\n",
        "\n",
        "Lists : Elements in the lists are accessed via indices"
      ],
      "metadata": {
        "id": "E1Ycz_c4XKUw"
      }
    },
    {
      "cell_type": "markdown",
      "source": [
        "4.What happens if you try to access spam['foo'] if spam is {'bar': 100}?\n",
        "\n",
        "\n",
        "If we try to access spam['foo] we get key error."
      ],
      "metadata": {
        "id": "reTAALvnXMAW"
      }
    },
    {
      "cell_type": "code",
      "source": [
        "spam = {'bar' : 100}\n",
        "spam['foo']"
      ],
      "metadata": {
        "colab": {
          "base_uri": "https://localhost:8080/",
          "height": 183
        },
        "id": "KlIByEedadnP",
        "outputId": "30f7a60f-bff8-4264-aa44-5f59d7a76705"
      },
      "execution_count": 1,
      "outputs": [
        {
          "output_type": "error",
          "ename": "KeyError",
          "evalue": "ignored",
          "traceback": [
            "\u001b[0;31m---------------------------------------------------------------------------\u001b[0m",
            "\u001b[0;31mKeyError\u001b[0m                                  Traceback (most recent call last)",
            "\u001b[0;32m<ipython-input-1-4094ed60376e>\u001b[0m in \u001b[0;36m<module>\u001b[0;34m\u001b[0m\n\u001b[1;32m      1\u001b[0m \u001b[0mspam\u001b[0m \u001b[0;34m=\u001b[0m \u001b[0;34m{\u001b[0m\u001b[0;34m'bar'\u001b[0m \u001b[0;34m:\u001b[0m \u001b[0;36m100\u001b[0m\u001b[0;34m}\u001b[0m\u001b[0;34m\u001b[0m\u001b[0;34m\u001b[0m\u001b[0m\n\u001b[0;32m----> 2\u001b[0;31m \u001b[0mspam\u001b[0m\u001b[0;34m[\u001b[0m\u001b[0;34m'foo'\u001b[0m\u001b[0;34m]\u001b[0m\u001b[0;34m\u001b[0m\u001b[0;34m\u001b[0m\u001b[0m\n\u001b[0m",
            "\u001b[0;31mKeyError\u001b[0m: 'foo'"
          ]
        }
      ]
    },
    {
      "cell_type": "markdown",
      "source": [
        "5.If a dictionary is stored in spam, what is the difference between the expressions 'cat' in spam and 'cat' in spam.keys()?\n",
        "\n",
        "Both the expressions are same\n",
        "\n",
        "'cat' in spam checks whether there is key named 'cat' is available and returns True if available\n",
        "\n",
        "'cat' in spam.keys() checks whether there is key named 'cat' is available and returns True if available"
      ],
      "metadata": {
        "id": "1c7m3ZWwXOqt"
      }
    },
    {
      "cell_type": "code",
      "source": [
        "spam = {'dog':5,'cat':10,'rabbit':8}\n"
      ],
      "metadata": {
        "colab": {
          "base_uri": "https://localhost:8080/"
        },
        "id": "gVwIk3k2bpUH",
        "outputId": "f0bd6705-dbd7-4199-ea61-6ea8699c774b"
      },
      "execution_count": 2,
      "outputs": [
        {
          "output_type": "execute_result",
          "data": {
            "text/plain": [
              "10"
            ]
          },
          "metadata": {},
          "execution_count": 2
        }
      ]
    },
    {
      "cell_type": "code",
      "source": [
        "'cat' in spam"
      ],
      "metadata": {
        "colab": {
          "base_uri": "https://localhost:8080/"
        },
        "id": "BGZ315RMdigo",
        "outputId": "9c0d8b94-22f8-454e-c70c-f50b8df417c3"
      },
      "execution_count": 8,
      "outputs": [
        {
          "output_type": "execute_result",
          "data": {
            "text/plain": [
              "True"
            ]
          },
          "metadata": {},
          "execution_count": 8
        }
      ]
    },
    {
      "cell_type": "code",
      "source": [
        "'cat' in spam.keys()"
      ],
      "metadata": {
        "colab": {
          "base_uri": "https://localhost:8080/"
        },
        "id": "3mjhuOIXa7nw",
        "outputId": "e94df103-0c9c-4ae1-ca82-b928a9b9a69f"
      },
      "execution_count": 7,
      "outputs": [
        {
          "output_type": "execute_result",
          "data": {
            "text/plain": [
              "True"
            ]
          },
          "metadata": {},
          "execution_count": 7
        }
      ]
    },
    {
      "cell_type": "markdown",
      "source": [
        "6.If a dictionary is stored in spam, what is the difference between the expressions 'cat' in spam and 'cat' in spam.values()?\n",
        "\n",
        "\n",
        "'cat' in spam checks whether there is key named 'cat' is available and returns True if available\n",
        "\n",
        "'cat' in spam.keys() checks whether there is value named 'cat' is available and returns True if available"
      ],
      "metadata": {
        "id": "E4Q0YgmLXRAO"
      }
    },
    {
      "cell_type": "code",
      "source": [
        "spam = {'dog':5,'cat':10,'rabbit':8}\n"
      ],
      "metadata": {
        "id": "MVgawCJceKIA"
      },
      "execution_count": 9,
      "outputs": []
    },
    {
      "cell_type": "code",
      "source": [
        "'cat' in spam"
      ],
      "metadata": {
        "colab": {
          "base_uri": "https://localhost:8080/"
        },
        "id": "ETduJLhSeMwj",
        "outputId": "3514a295-5166-4ce0-8ee8-cced8bf06fb4"
      },
      "execution_count": 10,
      "outputs": [
        {
          "output_type": "execute_result",
          "data": {
            "text/plain": [
              "True"
            ]
          },
          "metadata": {},
          "execution_count": 10
        }
      ]
    },
    {
      "cell_type": "code",
      "source": [
        "'cat' in spam.values()"
      ],
      "metadata": {
        "colab": {
          "base_uri": "https://localhost:8080/"
        },
        "id": "biLwURxQeRvF",
        "outputId": "1f8821d8-bf72-4705-f8d8-a36ff0637373"
      },
      "execution_count": 11,
      "outputs": [
        {
          "output_type": "execute_result",
          "data": {
            "text/plain": [
              "False"
            ]
          },
          "metadata": {},
          "execution_count": 11
        }
      ]
    },
    {
      "cell_type": "markdown",
      "source": [
        "7.What is a shortcut for the following code?\n",
        "\n",
        "\n",
        "\n",
        "```\n",
        "if 'color' not in spam:\n",
        "spam['color'] = 'black'\n",
        "```\n",
        "\n",
        "\n",
        "Shortcut:\n",
        "\n",
        "spam.setdefault('color','black')\n",
        "\n"
      ],
      "metadata": {
        "id": "GD0KFt7kXTRY"
      }
    },
    {
      "cell_type": "code",
      "source": [
        "spam.setdefault('color','black')"
      ],
      "metadata": {
        "colab": {
          "base_uri": "https://localhost:8080/",
          "height": 35
        },
        "id": "S8aqL_R_eBTm",
        "outputId": "2eeb5f4f-0d93-46dc-eba5-da91c4c748d3"
      },
      "execution_count": 14,
      "outputs": [
        {
          "output_type": "execute_result",
          "data": {
            "text/plain": [
              "'black'"
            ],
            "application/vnd.google.colaboratory.intrinsic+json": {
              "type": "string"
            }
          },
          "metadata": {},
          "execution_count": 14
        }
      ]
    },
    {
      "cell_type": "markdown",
      "source": [
        "8.How do you \"pretty print\" dictionary values using which module and function?\n",
        "\n",
        "Tp pretty print dictionary values:\n",
        "\n",
        "Module name - pprint\n",
        "\n",
        "function - pprint()"
      ],
      "metadata": {
        "id": "DqpIlg6oXVb4"
      }
    },
    {
      "cell_type": "code",
      "source": [
        "import pprint\n",
        "\n",
        "my_dict = {\"Author\" : \"Michael Crichton\",\"Genre\" : \"Science Fiction\",\"Book\":{\"Next\",\"congo\",\"prey\",\"Timeline\"}}\n",
        "pprint.pprint(my_dict)"
      ],
      "metadata": {
        "colab": {
          "base_uri": "https://localhost:8080/"
        },
        "id": "KgwECblAgF1C",
        "outputId": "7f9596b5-fa32-49ff-ebf5-58319f4c14dc"
      },
      "execution_count": 17,
      "outputs": [
        {
          "output_type": "stream",
          "name": "stdout",
          "text": [
            "{'Author': 'Michael Crichton',\n",
            " 'Book': {'Timeline', 'Next', 'congo', 'prey'},\n",
            " 'Genre': 'Science Fiction'}\n"
          ]
        }
      ]
    }
  ]
}