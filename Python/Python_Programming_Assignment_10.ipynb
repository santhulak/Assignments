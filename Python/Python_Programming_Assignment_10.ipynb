{
  "nbformat": 4,
  "nbformat_minor": 0,
  "metadata": {
    "colab": {
      "provenance": [],
      "collapsed_sections": []
    },
    "kernelspec": {
      "name": "python3",
      "display_name": "Python 3"
    },
    "language_info": {
      "name": "python"
    }
  },
  "cells": [
    {
      "cell_type": "markdown",
      "source": [
        "**Python_Programming_Assignment_10**"
      ],
      "metadata": {
        "id": "zpEMrPVMqPBy"
      }
    },
    {
      "cell_type": "markdown",
      "source": [
        "1.Write a Python program to find sum of elements in list?\n"
      ],
      "metadata": {
        "id": "ZVGXGd_rqMbD"
      }
    },
    {
      "cell_type": "code",
      "execution_count": 10,
      "metadata": {
        "id": "eaHnZmX-mPmM"
      },
      "outputs": [],
      "source": [
        "def list_sum(l):\n",
        "  sum = 0\n",
        "  for i in l:\n",
        "    sum += i\n",
        "  print(f\"Sum of elements in the list: {sum}\")"
      ]
    },
    {
      "cell_type": "code",
      "source": [
        "list_sum([3,5,7,9])"
      ],
      "metadata": {
        "colab": {
          "base_uri": "https://localhost:8080/"
        },
        "id": "4exWXo5Hrjfa",
        "outputId": "553f77e9-9410-4029-d5af-b200d5f5f9ef"
      },
      "execution_count": 11,
      "outputs": [
        {
          "output_type": "stream",
          "name": "stdout",
          "text": [
            "Sum of elements in the list: 24\n"
          ]
        }
      ]
    },
    {
      "cell_type": "markdown",
      "source": [
        "2.Write a Python program to  Multiply all numbers in the list?\n"
      ],
      "metadata": {
        "id": "xJEj7FbRqTaz"
      }
    },
    {
      "cell_type": "code",
      "source": [
        "def mul_list(l):\n",
        "  total =1\n",
        "  for i in l:\n",
        "    total  = total * i\n",
        "  print(f\"Multiplied values in the list: {total}\")"
      ],
      "metadata": {
        "id": "jo3NU6Cnr7ov"
      },
      "execution_count": 16,
      "outputs": []
    },
    {
      "cell_type": "code",
      "source": [
        "mul_list([5,5,5,5])"
      ],
      "metadata": {
        "colab": {
          "base_uri": "https://localhost:8080/"
        },
        "id": "IeYWCjULsI5T",
        "outputId": "c1f59936-6ba7-4132-b375-98b38a69c07c"
      },
      "execution_count": 17,
      "outputs": [
        {
          "output_type": "stream",
          "name": "stdout",
          "text": [
            "Multiplied values in the list: 625\n"
          ]
        }
      ]
    },
    {
      "cell_type": "markdown",
      "source": [
        "3.Write a Python program to find smallest number in a list?\n"
      ],
      "metadata": {
        "id": "BHXFvME-qU-8"
      }
    },
    {
      "cell_type": "code",
      "source": [
        "def small_num(l):\n",
        "  min = l[0]\n",
        "  for i in l:\n",
        "    if i <min:\n",
        "      min = i\n",
        "  return min\n",
        "  "
      ],
      "metadata": {
        "id": "6AKijTK3suAi"
      },
      "execution_count": 19,
      "outputs": []
    },
    {
      "cell_type": "code",
      "source": [
        "small_num([78,45,23,10])"
      ],
      "metadata": {
        "colab": {
          "base_uri": "https://localhost:8080/"
        },
        "id": "NTQD9CBduqzg",
        "outputId": "783173eb-a689-4635-a60e-1b834ff18d7f"
      },
      "execution_count": 20,
      "outputs": [
        {
          "output_type": "execute_result",
          "data": {
            "text/plain": [
              "10"
            ]
          },
          "metadata": {},
          "execution_count": 20
        }
      ]
    },
    {
      "cell_type": "markdown",
      "source": [
        "4.Write a Python program to find largest number in a list?\n"
      ],
      "metadata": {
        "id": "dlnN4OoxqV3-"
      }
    },
    {
      "cell_type": "code",
      "source": [
        "def max_num(l):\n",
        "  max = l[0]\n",
        "  for i in l:\n",
        "    if i > max:\n",
        "      max = i\n",
        "  return max"
      ],
      "metadata": {
        "id": "ncXhGfLnu4HT"
      },
      "execution_count": 22,
      "outputs": []
    },
    {
      "cell_type": "code",
      "source": [
        "max_num([123,89,670,45,54])"
      ],
      "metadata": {
        "colab": {
          "base_uri": "https://localhost:8080/"
        },
        "id": "0AVaeLEvvAfn",
        "outputId": "c5aa40f7-f913-4738-f19a-ce595f5c8cf1"
      },
      "execution_count": 23,
      "outputs": [
        {
          "output_type": "execute_result",
          "data": {
            "text/plain": [
              "670"
            ]
          },
          "metadata": {},
          "execution_count": 23
        }
      ]
    },
    {
      "cell_type": "markdown",
      "source": [
        "5.Write a Python program to find second largest number in a list?\n"
      ],
      "metadata": {
        "id": "4Pg6RuvWqZNC"
      }
    },
    {
      "cell_type": "code",
      "source": [
        "l1= [11,23,8,5,154,90]\n",
        "l1.sort()\n",
        "print(f\"The second largest number in the list : {l1[-2]}\")"
      ],
      "metadata": {
        "colab": {
          "base_uri": "https://localhost:8080/"
        },
        "id": "Fb4Nk4QwvtyO",
        "outputId": "b3bc74db-3a5c-4d26-ba29-005858749b16"
      },
      "execution_count": 27,
      "outputs": [
        {
          "output_type": "stream",
          "name": "stdout",
          "text": [
            "The second largest number in the list : 90\n"
          ]
        }
      ]
    },
    {
      "cell_type": "markdown",
      "source": [
        "7.Write a Python program to find N largest elements from a list?\n"
      ],
      "metadata": {
        "id": "9ig1TBWoqaj0"
      }
    },
    {
      "cell_type": "code",
      "source": [
        "my_list = [31,23,45,11,77,39,8,67]\n",
        "n = int(input(\"Enter the n value: \"))\n",
        "my_list.sort()\n",
        "print(f\"{n} largest elements from the list: {my_list[-n:]}\")"
      ],
      "metadata": {
        "colab": {
          "base_uri": "https://localhost:8080/"
        },
        "id": "bJ86M03-ycwP",
        "outputId": "4cc2bca7-aca0-479e-dbd6-7c28c0aa0b83"
      },
      "execution_count": 32,
      "outputs": [
        {
          "output_type": "stream",
          "name": "stdout",
          "text": [
            "Enter the n value: 3\n",
            "3 largest elements from the list: [45, 67, 77]\n"
          ]
        }
      ]
    },
    {
      "cell_type": "markdown",
      "source": [
        "7.Write a Python program to print even numbers in a list?\n"
      ],
      "metadata": {
        "id": "QTH8Ryo9qb_s"
      }
    },
    {
      "cell_type": "code",
      "source": [
        "def even(l):\n",
        "  for i in l:\n",
        "    if i%2 == 0:\n",
        "      print(i, end = \" \")"
      ],
      "metadata": {
        "id": "Gv0IpVNHzst-"
      },
      "execution_count": 33,
      "outputs": []
    },
    {
      "cell_type": "code",
      "source": [
        "even([3,6,12,34,23,77])"
      ],
      "metadata": {
        "colab": {
          "base_uri": "https://localhost:8080/"
        },
        "id": "j6Qef3r90T1b",
        "outputId": "4679629d-c87b-4e6d-c0b7-c22b039de0a5"
      },
      "execution_count": 34,
      "outputs": [
        {
          "output_type": "stream",
          "name": "stdout",
          "text": [
            "6 12 34 "
          ]
        }
      ]
    },
    {
      "cell_type": "markdown",
      "source": [
        "8.Write a Python program to print odd numbers in a List?\n"
      ],
      "metadata": {
        "id": "nO-CAe_sqdU0"
      }
    },
    {
      "cell_type": "code",
      "source": [
        "def odd(l):\n",
        "  for i in l:\n",
        "    if i%2 == 1:\n",
        "      print(i, end = \" \")"
      ],
      "metadata": {
        "id": "ljf3Khk_0e9O"
      },
      "execution_count": 35,
      "outputs": []
    },
    {
      "cell_type": "code",
      "source": [
        "odd([1,2,3,4,5,6,7,8,9])"
      ],
      "metadata": {
        "colab": {
          "base_uri": "https://localhost:8080/"
        },
        "id": "QepWe9_r0npA",
        "outputId": "540a1430-5b27-4b58-d9d2-839b6600fc6e"
      },
      "execution_count": 36,
      "outputs": [
        {
          "output_type": "stream",
          "name": "stdout",
          "text": [
            "1 3 5 7 9 "
          ]
        }
      ]
    },
    {
      "cell_type": "markdown",
      "source": [
        "9.Write a Python program to Remove empty List from List?\n"
      ],
      "metadata": {
        "id": "Ao7Fwatsqejb"
      }
    },
    {
      "cell_type": "code",
      "source": [
        "my_list = [12,[],56,[],[],[],89,[]]\n",
        "print(f\"Before removing empty list : {my_list}\")\n",
        "my_list = list(filter(None, my_list))\n",
        "print(f\"After removing empty list : {my_list}\")"
      ],
      "metadata": {
        "colab": {
          "base_uri": "https://localhost:8080/"
        },
        "id": "BMdC6KJ51S_d",
        "outputId": "d6eb9daf-1e41-4353-dc22-d7f1c9a53f81"
      },
      "execution_count": 40,
      "outputs": [
        {
          "output_type": "stream",
          "name": "stdout",
          "text": [
            "Before removing empty list : [12, [], 56, [], [], [], 89, []]\n",
            "After removing empty list : [12, 56, 89]\n"
          ]
        }
      ]
    },
    {
      "cell_type": "markdown",
      "source": [
        "10.Write a Python program to Cloning or Copying a list?\n"
      ],
      "metadata": {
        "id": "tgxPPrvCqf1F"
      }
    },
    {
      "cell_type": "code",
      "source": [
        "l1 = [ 11,12,13,\"hello\",89.5, 7+4j]\n",
        "l2 = l1.copy()\n",
        "print(f\"Original list: {l1}\")\n",
        "print(f\"Cloned list: {l2}\")"
      ],
      "metadata": {
        "colab": {
          "base_uri": "https://localhost:8080/"
        },
        "id": "sSD43DYM2FQR",
        "outputId": "3b1c8d23-2120-4b09-b9e5-56b536a1115d"
      },
      "execution_count": 41,
      "outputs": [
        {
          "output_type": "stream",
          "name": "stdout",
          "text": [
            "Original list: [11, 12, 13, 'hello', 89.5, (7+4j)]\n",
            "Cloned list: [11, 12, 13, 'hello', 89.5, (7+4j)]\n"
          ]
        }
      ]
    },
    {
      "cell_type": "markdown",
      "source": [
        "11.Write a Python program to Count occurrences of an element in a list?"
      ],
      "metadata": {
        "id": "qWJlfMmVqg_P"
      }
    },
    {
      "cell_type": "code",
      "source": [
        "my_list = [3,9,6,3,8,5,3,8,\"hello\"]\n",
        "print(f\"{n} occurred {my_list.count(3)} times in the list\")"
      ],
      "metadata": {
        "colab": {
          "base_uri": "https://localhost:8080/"
        },
        "id": "cUPLuDBv265e",
        "outputId": "8096e924-78d8-48c8-e198-ee58fa9a92f0"
      },
      "execution_count": 47,
      "outputs": [
        {
          "output_type": "stream",
          "name": "stdout",
          "text": [
            "hello occurred 3 times in the list\n"
          ]
        }
      ]
    }
  ]
}