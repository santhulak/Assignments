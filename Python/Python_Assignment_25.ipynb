{
  "nbformat": 4,
  "nbformat_minor": 0,
  "metadata": {
    "colab": {
      "provenance": [],
      "collapsed_sections": []
    },
    "kernelspec": {
      "name": "python3",
      "display_name": "Python 3"
    },
    "language_info": {
      "name": "python"
    }
  },
  "cells": [
    {
      "cell_type": "markdown",
      "source": [
        "1)What is the difference between enclosing a list comprehension in square brackets and parentheses?\n",
        "\n",
        "Enclosing a list comprehension in square bracket returns list\n",
        "\n",
        "Enclosing a list comprehension in parenthese returns generator object"
      ],
      "metadata": {
        "id": "XA2EaV0JULGE"
      }
    },
    {
      "cell_type": "code",
      "source": [
        "li = [l for l in range(10)]\n",
        "gen = (l for l in range(10))\n",
        "\n",
        "print(li,type(li))\n",
        "print(gen,type(gen))"
      ],
      "metadata": {
        "colab": {
          "base_uri": "https://localhost:8080/"
        },
        "id": "Uzdlj0qNrwyi",
        "outputId": "ecd29586-c413-4d37-8a7b-59fdd223d52c"
      },
      "execution_count": 4,
      "outputs": [
        {
          "output_type": "stream",
          "name": "stdout",
          "text": [
            "[0, 1, 2, 3, 4, 5, 6, 7, 8, 9] <class 'list'>\n",
            "<generator object <genexpr> at 0x7f80b999ca50> <class 'generator'>\n"
          ]
        }
      ]
    },
    {
      "cell_type": "markdown",
      "source": [
        "2)What is the relationship between generators and iterators?\n",
        "\n",
        "Generator\n",
        "\n",
        "Generators are mostly used in loops to generate an iterator by returning all the values in the loop without affecting the iteration of the loop.By using next() function we can iterate the output of generator function\n",
        "\n",
        "Iterator\t\n",
        "\n",
        "Iterators are used mostly to iterate or convert other objects to an iterator using iter() function.\tnext() keyword is used to call the next element in the iterable object."
      ],
      "metadata": {
        "id": "Ge1nR6byURPB"
      }
    },
    {
      "cell_type": "code",
      "source": [
        "# Example of Generator\n",
        "def my_gen(a):\n",
        "    for i in range(a+1):\n",
        "        yield i**3\n",
        "\n",
        "obj1 = my_gen(4)\n",
        "print(next(obj1))\n",
        "print(next(obj1))\n",
        "print(next(obj1))\n",
        "print(next(obj1))\n",
        "print(next(obj1))"
      ],
      "metadata": {
        "colab": {
          "base_uri": "https://localhost:8080/"
        },
        "id": "_AOxPbL-thil",
        "outputId": "deb64dbf-b72a-4a8a-fee1-143c875b0000"
      },
      "execution_count": 7,
      "outputs": [
        {
          "output_type": "stream",
          "name": "stdout",
          "text": [
            "0\n",
            "1\n",
            "8\n",
            "27\n",
            "64\n"
          ]
        }
      ]
    },
    {
      "cell_type": "code",
      "source": [
        "# iterator\n",
        "my_iter = iter(['apple', 'orange', 'mango'])\n",
        "print(next(my_iter))\n",
        "print(next(my_iter))\n",
        "print(next(my_iter))"
      ],
      "metadata": {
        "colab": {
          "base_uri": "https://localhost:8080/"
        },
        "id": "5IJzKQWNso6i",
        "outputId": "88fcc0b3-a355-4633-90bb-56006d6034b4"
      },
      "execution_count": 5,
      "outputs": [
        {
          "output_type": "stream",
          "name": "stdout",
          "text": [
            "apple\n",
            "orange\n",
            "mango\n"
          ]
        }
      ]
    },
    {
      "cell_type": "markdown",
      "source": [
        "3)What are the signs that a function is a generator function?\n",
        "\n",
        "\n",
        "A generator function uses a yield statement instead of a return statement.\n",
        "\n",
        "A generator function will always return a iterable object called generator. where as a normal function can return a string/list/tuple/dict/NoneType etc"
      ],
      "metadata": {
        "id": "btrt0YcMUSly"
      }
    },
    {
      "cell_type": "markdown",
      "source": [
        "4)What is the purpose of a yield statement?\n",
        "\n",
        "The yield keyword is used to create a generator function. Generator functions act as iterators which can be looped through with a foreach loop.\n",
        "\n",
        "The value given by the yield keyword is used as a value in one of the iterations of the loop."
      ],
      "metadata": {
        "id": "ufQaFbKjUT2Z"
      }
    },
    {
      "cell_type": "markdown",
      "source": [
        "5)What is the relationship between map calls and list comprehensions? Make a comparison and contrast between the two.\n",
        "\n",
        "\n",
        "List comprehension returns a list, whereas the map function returns an object of Iterable. \n",
        "\n",
        "List comprehension allows filtering, whereas map function does not allow filtering\n",
        "\n",
        "List comprehension execution is faster than that of map function when the formula expression is huge and complex.\n",
        "\n",
        "Map function is faster than list comprehension when the formula is already defined as a function earlier."
      ],
      "metadata": {
        "id": "MgqIJrvjUVE-"
      }
    }
  ]
}