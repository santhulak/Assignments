{
  "nbformat": 4,
  "nbformat_minor": 0,
  "metadata": {
    "colab": {
      "provenance": [],
      "collapsed_sections": []
    },
    "kernelspec": {
      "name": "python3",
      "display_name": "Python 3"
    },
    "language_info": {
      "name": "python"
    }
  },
  "cells": [
    {
      "cell_type": "markdown",
      "source": [
        "1.What is the result of the code, and explain?\n",
        "\n",
        "\n",
        "The result is 'iNeuron'. As there is no local variable X inside the function, the value of X which is a global variable outside the function got printed.\n",
        "\n",
        "\n",
        "\n",
        "\n",
        "\n",
        "\n",
        "\n",
        "\n"
      ],
      "metadata": {
        "id": "r5B2Gm2tRXLL"
      }
    },
    {
      "cell_type": "code",
      "source": [
        "X = 'iNeuron'\n",
        "def func():\n",
        "  print(X)\n",
        "\n",
        "\n",
        "func()"
      ],
      "metadata": {
        "colab": {
          "base_uri": "https://localhost:8080/"
        },
        "id": "ePA1oWvApg98",
        "outputId": "fac09eb9-6ccf-45d1-a564-197926b21b26"
      },
      "execution_count": 2,
      "outputs": [
        {
          "output_type": "stream",
          "name": "stdout",
          "text": [
            "iNeuron\n"
          ]
        }
      ]
    },
    {
      "cell_type": "markdown",
      "source": [
        "2.What is the result of the code, and explain?\n",
        "\n",
        "The result is 'iNeuron'. Local variable can be accessed only within the function. It can't be accessed outside the function. so print(X) returns 'iNeuron' which is declared as global variable.\n",
        "\n"
      ],
      "metadata": {
        "id": "r5qf60XWRn3J"
      }
    },
    {
      "cell_type": "code",
      "source": [
        "X = 'iNeuron'\n",
        "def func():\n",
        "  X = 'NI!'\n",
        "\n",
        "\n",
        "func()\n",
        "print(X)"
      ],
      "metadata": {
        "colab": {
          "base_uri": "https://localhost:8080/"
        },
        "id": "o9FTQ9C6pjKy",
        "outputId": "5d1c6cba-9742-478f-ec6f-7942789a5019"
      },
      "execution_count": 3,
      "outputs": [
        {
          "output_type": "stream",
          "name": "stdout",
          "text": [
            "iNeuron\n"
          ]
        }
      ]
    },
    {
      "cell_type": "markdown",
      "source": [
        "\n",
        "3.What does this code print, and why?\n",
        "\n",
        "\n",
        "The result is 'NI' and 'iNeuron'. First print(X) inside the function return the value of the local variable 'NI'. Second print(X) outside the function return the value of the global variable 'iNeuron'\n"
      ],
      "metadata": {
        "id": "PdQQIFFmRtIe"
      }
    },
    {
      "cell_type": "code",
      "source": [
        "X = 'iNeuron'\n",
        "def func():\n",
        "  X = 'NI'\n",
        "  print(X)\n",
        "\n",
        "\n",
        "func()\n",
        "print(X)\n"
      ],
      "metadata": {
        "colab": {
          "base_uri": "https://localhost:8080/"
        },
        "id": "_ycA-wvhplgm",
        "outputId": "da08d250-3074-4cb1-9aff-222db027b2e0"
      },
      "execution_count": 4,
      "outputs": [
        {
          "output_type": "stream",
          "name": "stdout",
          "text": [
            "NI\n",
            "iNeuron\n"
          ]
        }
      ]
    },
    {
      "cell_type": "markdown",
      "source": [
        "\n",
        "4.What output does this code produce? Why?\n",
        "\n",
        "The result is 'NI' because we have declared the global keyword inside the function, so the value of X is changed to 'NI' which is accessible outside the function.\n"
      ],
      "metadata": {
        "id": "k3SZfw57Rw1R"
      }
    },
    {
      "cell_type": "code",
      "source": [
        "\n",
        "X = 'iNeuron'\n",
        "def func():\n",
        "  global X\n",
        "  X = 'NI'\n",
        "\n",
        "\n",
        "func()\n",
        "print(X)\n"
      ],
      "metadata": {
        "colab": {
          "base_uri": "https://localhost:8080/"
        },
        "id": "BxBgnzwVpnMl",
        "outputId": "6e339707-598a-46d5-8e57-4b205bee4a6d"
      },
      "execution_count": 5,
      "outputs": [
        {
          "output_type": "stream",
          "name": "stdout",
          "text": [
            "NI\n"
          ]
        }
      ]
    },
    {
      "cell_type": "markdown",
      "source": [
        "\n",
        "5.What about this code—what’s the output, and why?\n",
        "\n",
        "\n",
        "Result is 'iNeuron'. func() function use local variable X= 'NI' as it is the local variable  X= 'iNeuron'is a global variable which is returned as output.\n",
        "\n"
      ],
      "metadata": {
        "id": "jcjOFfuPR0RQ"
      }
    },
    {
      "cell_type": "code",
      "source": [
        "X = 'iNeuron'\n",
        "def func():\n",
        "  X = 'NI'\n",
        "  def nested():\n",
        "    print(X)\n",
        "  nested()\n",
        "\n",
        "func()\n",
        "X\n"
      ],
      "metadata": {
        "colab": {
          "base_uri": "https://localhost:8080/",
          "height": 53
        },
        "id": "fCxzQVV7pqcF",
        "outputId": "8aba1ae3-6ef3-4f14-cb9f-69d023acf136"
      },
      "execution_count": 7,
      "outputs": [
        {
          "output_type": "stream",
          "name": "stdout",
          "text": [
            "NI\n"
          ]
        },
        {
          "output_type": "execute_result",
          "data": {
            "text/plain": [
              "'iNeuron'"
            ],
            "application/vnd.google.colaboratory.intrinsic+json": {
              "type": "string"
            }
          },
          "metadata": {},
          "execution_count": 7
        }
      ]
    },
    {
      "cell_type": "markdown",
      "source": [
        "\n",
        "6.How about this code: what is its output in Python 3, and explain?\n",
        "\n",
        "\n",
        "Result is spam. X='Spam' is declared as nonlocal variable. func() returns the nonlocal variable value 'Spam' as the output.\n"
      ],
      "metadata": {
        "id": "WXh8f2a6R1tn"
      }
    },
    {
      "cell_type": "code",
      "source": [
        "def func():\n",
        "  X = 'NI'\n",
        "  def nested():\n",
        "    nonlocal X\n",
        "    X = 'Spam'\n",
        "  nested()\n",
        "  print(X)\n",
        "\n",
        "func()"
      ],
      "metadata": {
        "colab": {
          "base_uri": "https://localhost:8080/"
        },
        "id": "sTsC_X5jpsWN",
        "outputId": "5b3ac1f7-6226-4ba9-91e9-3a9a40564efb"
      },
      "execution_count": 8,
      "outputs": [
        {
          "output_type": "stream",
          "name": "stdout",
          "text": [
            "Spam\n"
          ]
        }
      ]
    }
  ]
}