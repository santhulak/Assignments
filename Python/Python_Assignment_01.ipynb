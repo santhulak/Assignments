{
  "nbformat": 4,
  "nbformat_minor": 0,
  "metadata": {
    "colab": {
      "provenance": []
    },
    "kernelspec": {
      "name": "python3",
      "display_name": "Python 3"
    },
    "language_info": {
      "name": "python"
    }
  },
  "cells": [
    {
      "cell_type": "markdown",
      "source": [
        "1. In the below elements which of them are values or an expression? eg:- values can be integer or string and expressions will be mathematical operators\n",
        "\n",
        "    \n",
        "\n",
        "```\n",
        "Ans :       *  -   Expression  \n",
        "          'hello' – Values(String)\n",
        "          -87.8  -  Values (Float)\n",
        "          -      -  Expression\n",
        "          /      -  Expression\n",
        "          +\t     -  Expression\n",
        "           6     - Values(Integer)\n",
        "```\n",
        "\n",
        "\n"
      ],
      "metadata": {
        "id": "VNalkR5manHN"
      }
    },
    {
      "cell_type": "markdown",
      "source": [
        "2. What is the difference between string and variable?\n",
        "String – Stores specific type of information (numbers, characters, float) enclosed without double quotes.\n",
        "\n",
        "```\n",
        "\n",
        "Eg: “welcome”\n",
        "“18987”\n",
        "“san@gmail.com”\n",
        "Variable – container for storing any different types of Data.\n",
        "Eg: A=10;\n",
        " Myname = “Santhana”\n",
        "My_value = 10.9\n",
        "My_exp = True\\\n",
        "\n",
        "```\n",
        "\n",
        "\n"
      ],
      "metadata": {
        "id": "62Op9ZOVal2O"
      }
    },
    {
      "cell_type": "markdown",
      "source": [
        "3. Describe three different data types.\n",
        "\n",
        "\n",
        "```\n",
        "Numeric- stores integer, float and complex data\n",
        "Eg: a= 8+5j\n",
        "String – collection of characters enclosed within quotes\n",
        "Eg: L = “program”\n",
        "Boolean – stores True or False\n",
        "Eg: X=False\n",
        "\n",
        "```\n",
        "\n"
      ],
      "metadata": {
        "id": "oiXZUgsHd8zV"
      }
    },
    {
      "cell_type": "markdown",
      "source": [
        "4. What is an expression made up of? What do all expressions do?\n",
        "\n",
        "\n",
        "```\n",
        "Expression is a combination of Values, Variables, operators and methods.\n",
        "Expression performs some operations and returns result.   \n",
        "\n",
        "```\n",
        "\n"
      ],
      "metadata": {
        "id": "CYkzZhnVexUN"
      }
    },
    {
      "cell_type": "markdown",
      "source": [
        "5. This assignment statements, like spam = 10. What is the difference between an expression and a statement?\n",
        "\n",
        "\n",
        "```\n",
        "Expression evaluates the values and returns resukt as singlr value. \n",
        "eg a//b\n",
        "a%b\n",
        "a+b  \n",
        "Statement is a action or command that does something, but does not return anything\n",
        "eg: = , if , elif,else, loops\n",
        "```\n",
        "\n"
      ],
      "metadata": {
        "id": "CulQoPXXe3EL"
      }
    },
    {
      "cell_type": "markdown",
      "source": [
        "6. After running the following code, what does the variable bacon contain?"
      ],
      "metadata": {
        "id": "gS7Zjes_gfiN"
      }
    },
    {
      "cell_type": "code",
      "source": [
        "# bacon will contain 22 bcos the incremented value is not assigned to the variable bacon.\n",
        "bacon = 22\n",
        "bacon + 1\n"
      ],
      "metadata": {
        "colab": {
          "base_uri": "https://localhost:8080/"
        },
        "id": "5VsXCwl2gmMp",
        "outputId": "fb7c5b92-f5f8-41ca-d15f-0e1155e6bb61"
      },
      "execution_count": 2,
      "outputs": [
        {
          "output_type": "execute_result",
          "data": {
            "text/plain": [
              "23"
            ]
          },
          "metadata": {},
          "execution_count": 2
        }
      ]
    },
    {
      "cell_type": "markdown",
      "source": [
        "7. What should the values of the following two terms be?"
      ],
      "metadata": {
        "id": "hxlDIPr4hOr9"
      }
    },
    {
      "cell_type": "code",
      "source": [
        "print('spam' + 'spamspam')#output=spamspamspam\n",
        "print('spam' * 3)#output=spamspamspam\n",
        "\n",
        "#Both the outputs are same"
      ],
      "metadata": {
        "colab": {
          "base_uri": "https://localhost:8080/"
        },
        "id": "aD1bSuhIhP4N",
        "outputId": "8dcea006-400c-4c61-fffe-494cf054e9f6"
      },
      "execution_count": 5,
      "outputs": [
        {
          "output_type": "stream",
          "name": "stdout",
          "text": [
            "spamspamspam\n",
            "spamspamspam\n"
          ]
        }
      ]
    },
    {
      "cell_type": "markdown",
      "source": [
        "8. Why is eggs a valid variable name while 100 is invalid?\n",
        "\n",
        "\n",
        "```\n",
        "eggs is a valid variable as it starts with characters\n",
        "100 is invalid because variable names should not start with numbers.\n",
        "```\n",
        "\n"
      ],
      "metadata": {
        "id": "7ly2Wty_hyrE"
      }
    },
    {
      "cell_type": "markdown",
      "source": [
        "9. What three functions can be used to get the integer, floating-point number, or string version of a value?\n",
        "\n",
        "\n",
        "\n",
        "```\n",
        "int()\n",
        "float()\n",
        "str()\n",
        "\n",
        "```\n",
        "\n"
      ],
      "metadata": {
        "id": "X94JwNo0ig5c"
      }
    },
    {
      "cell_type": "markdown",
      "source": [
        "10. Why does this expression cause an error? How can you fix it?\n",
        "'I have eaten ' + 99 + ' burritos.'\n",
        "\n",
        "\n",
        "\n",
        "```\n",
        "This expression cause error because 99 is a integer and cannot be concatenated with string\n",
        "Solution : 'I have eaten'+' 99 '+'burritos'\n",
        "            'I have eaten '+str(99)+' burritos'\n",
        "```\n",
        "\n",
        "\n"
      ],
      "metadata": {
        "id": "nZu7R5FQkA4V"
      }
    },
    {
      "cell_type": "code",
      "source": [
        "print('I have eaten'+' 99 '+'burritos')\n",
        "print('I have eaten '+str(99)+' burritos')"
      ],
      "metadata": {
        "colab": {
          "base_uri": "https://localhost:8080/"
        },
        "id": "aRAyQxmGlakV",
        "outputId": "03226f59-765f-410e-d84f-05b5be3a2b08"
      },
      "execution_count": 10,
      "outputs": [
        {
          "output_type": "stream",
          "name": "stdout",
          "text": [
            "I have eaten 99 burritos\n",
            "I have eaten 99 burritos\n"
          ]
        }
      ]
    },
    {
      "cell_type": "code",
      "source": [
        "\n",
        "\n"
      ],
      "metadata": {
        "id": "n09xFXPZhYM8"
      },
      "execution_count": null,
      "outputs": []
    }
  ]
}