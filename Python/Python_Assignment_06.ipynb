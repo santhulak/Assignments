{
  "nbformat": 4,
  "nbformat_minor": 0,
  "metadata": {
    "colab": {
      "provenance": [],
      "collapsed_sections": []
    },
    "kernelspec": {
      "name": "python3",
      "display_name": "Python 3"
    },
    "language_info": {
      "name": "python"
    }
  },
  "cells": [
    {
      "cell_type": "markdown",
      "source": [
        "**Python Assignment 06**"
      ],
      "metadata": {
        "id": "w4kz23VymXj9"
      }
    },
    {
      "cell_type": "markdown",
      "source": [
        "1.What are escape characters, and how do you use them?\n",
        "\n",
        "\n",
        "Escape Characters are used to insert the characters that are illegal in the string.\n",
        "\n",
        "Escape character that can be used in python is backslash .\n",
        "\n",
        "eg :\n",
        "\n",
        "str = \"Welcome to \\\"Data Science\\\" Bootcamp\"\n"
      ],
      "metadata": {
        "id": "LXk3jVkrmbBU"
      }
    },
    {
      "cell_type": "code",
      "execution_count": null,
      "metadata": {
        "colab": {
          "base_uri": "https://localhost:8080/",
          "height": 35
        },
        "id": "bNAuO_qGmRtV",
        "outputId": "4714232e-6085-4072-9f58-6f2a6c8e519c"
      },
      "outputs": [
        {
          "output_type": "execute_result",
          "data": {
            "text/plain": [
              "'Welcome to \"Data Science\" Bootcamp'"
            ],
            "application/vnd.google.colaboratory.intrinsic+json": {
              "type": "string"
            }
          },
          "metadata": {},
          "execution_count": 1
        }
      ],
      "source": [
        "str = \"Welcome to \\\"Data Science\\\" Bootcamp\"\n",
        "str"
      ]
    },
    {
      "cell_type": "markdown",
      "source": [
        "2.What do the escape characters n and t stand for?\n",
        "\n",
        "\\n stands for new line\n",
        "\n",
        "\\t stands for tab\n"
      ],
      "metadata": {
        "id": "EG_f_ZEAmksL"
      }
    },
    {
      "cell_type": "markdown",
      "source": [
        "3.What is the way to include backslash characters in a string?\n",
        "\n",
        "use `\"\\\\\"` within the string literals to return single backslash\n",
        "\n",
        "eg \n",
        "\n",
        "\n",
        "```\n",
        "str = \"test \\\\ data\"\n",
        "\n",
        "```\n",
        "o/p \n",
        "\n"
      ],
      "metadata": {
        "id": "LyABdpLlmmmP"
      }
    },
    {
      "cell_type": "code",
      "source": [
        "str = \"test\\\\data\"\n",
        "print(str)"
      ],
      "metadata": {
        "colab": {
          "base_uri": "https://localhost:8080/"
        },
        "id": "JiaQMQ4G_BPM",
        "outputId": "3c2ed0be-e109-4a63-f07a-133fbb1bc1ac"
      },
      "execution_count": 5,
      "outputs": [
        {
          "output_type": "stream",
          "name": "stdout",
          "text": [
            "test\\data\n"
          ]
        }
      ]
    },
    {
      "cell_type": "markdown",
      "source": [
        "4.The string \"Howl's Moving Castle\" is a correct value. Why isn't the single quote character in the word Howl's not escaped a problem?\n",
        "\n",
        "single quote character in the word Howl's not escaped because the string **Howl's Moving Castle** is enclosed within the double quotes."
      ],
      "metadata": {
        "id": "aVdzIUrumo4N"
      }
    },
    {
      "cell_type": "markdown",
      "source": [
        "5.How do you write a string of newlines if you don't want to use the n character?\n"
      ],
      "metadata": {
        "id": "AlebyCRWmra5"
      }
    },
    {
      "cell_type": "code",
      "source": [
        "print(\"Welcome\",end =\" \")\n",
        "\n",
        "print(\"Home\")"
      ],
      "metadata": {
        "colab": {
          "base_uri": "https://localhost:8080/"
        },
        "id": "HEPH6JvCANwy",
        "outputId": "c890f805-18a5-4386-ea69-1372de91ca6f"
      },
      "execution_count": 11,
      "outputs": [
        {
          "output_type": "stream",
          "name": "stdout",
          "text": [
            "Welcome Home\n"
          ]
        }
      ]
    },
    {
      "cell_type": "markdown",
      "source": [
        "6.What are the values of the given expressions?\n",
        "\n",
        "'Hello, world!'[1]\n",
        "\n",
        "'Hello, world!'[0:5]\n",
        "\n",
        "'Hello, world!'[:5]\n",
        "\n",
        "'Hello, world!'[3:]\n",
        "\n",
        "\n"
      ],
      "metadata": {
        "id": "O59gmF6gmtap"
      }
    },
    {
      "cell_type": "code",
      "source": [
        "print('Hello, world!'[1])\n",
        "print('Hello, world!'[0:5])\n",
        "print('Hello, world!'[:5])\n",
        "print('Hello, world!'[3:])"
      ],
      "metadata": {
        "colab": {
          "base_uri": "https://localhost:8080/"
        },
        "id": "iNXj0wjbBU86",
        "outputId": "76b22ac4-ba47-43ea-e463-5d47ee24df3b"
      },
      "execution_count": 17,
      "outputs": [
        {
          "output_type": "stream",
          "name": "stdout",
          "text": [
            "e\n",
            "Hello\n",
            "Hello\n",
            "lo, world!\n"
          ]
        }
      ]
    },
    {
      "cell_type": "markdown",
      "source": [
        "7.What are the values of the following expressions?\n",
        "\n",
        "'Hello'.upper()\n",
        "\n",
        "'Hello'.upper().isupper()\n",
        "\n",
        "'Hello'.upper().lower()\n"
      ],
      "metadata": {
        "id": "kQltW7kCmvEN"
      }
    },
    {
      "cell_type": "code",
      "source": [
        "print('Hello'.upper())\n",
        "\n",
        "print('Hello'.upper().isupper())\n",
        "\n",
        "print('Hello'.upper().lower())"
      ],
      "metadata": {
        "colab": {
          "base_uri": "https://localhost:8080/"
        },
        "id": "rU02rc1MB1mb",
        "outputId": "459f4582-5ecf-4641-cc7c-9342e6674648"
      },
      "execution_count": 18,
      "outputs": [
        {
          "output_type": "stream",
          "name": "stdout",
          "text": [
            "HELLO\n",
            "True\n",
            "hello\n"
          ]
        }
      ]
    },
    {
      "cell_type": "markdown",
      "source": [
        "8.What are the values of the following expressions?\n",
        "'Remember, remember, the fifth of July.'.split()\n",
        "'-'.join('There can only one.'.split())\n"
      ],
      "metadata": {
        "id": "Nx3Lg7Sgmxcy"
      }
    },
    {
      "cell_type": "code",
      "source": [
        "print('Remember, remember, the fifth of July.'.split())\n",
        "print('-'.join('There can only one.'.split()))\n"
      ],
      "metadata": {
        "colab": {
          "base_uri": "https://localhost:8080/"
        },
        "id": "peZynVnrCF3y",
        "outputId": "104f5e80-ec7f-4e11-b86b-fc32826ee6e4"
      },
      "execution_count": 20,
      "outputs": [
        {
          "output_type": "stream",
          "name": "stdout",
          "text": [
            "['Remember,', 'remember,', 'the', 'fifth', 'of', 'July.']\n",
            "There-can-only-one.\n"
          ]
        }
      ]
    },
    {
      "cell_type": "markdown",
      "source": [
        "9.What are the methods for right-justifying, left-justifying, and centering a string?\n",
        "\n",
        "right-justifying  method - rjust(length, character)\n",
        "\n",
        "left-justifying  method - ljust(length, character)\n",
        "\n",
        "centering - center(length, character)"
      ],
      "metadata": {
        "id": "ExuMyuFSmzgy"
      }
    },
    {
      "cell_type": "code",
      "source": [
        "str = \"welcome\"\n",
        "# right-justify\n",
        "r_justify = str.rjust(10,'#')\n",
        "print(r_justify)\n",
        "\n",
        "# left-justify\n",
        "l_justify = str.rjust(15,'$')\n",
        "print(l_justify)\n",
        "\n",
        "#center\n",
        "c = str.center(25,\"*\")\n",
        "print(c)"
      ],
      "metadata": {
        "colab": {
          "base_uri": "https://localhost:8080/"
        },
        "id": "0R9lfoBZDWir",
        "outputId": "e5daeceb-7065-41b1-8c80-dd7e3d138a8e"
      },
      "execution_count": 23,
      "outputs": [
        {
          "output_type": "stream",
          "name": "stdout",
          "text": [
            "###welcome\n",
            "$$$$$$$$welcome\n",
            "*********welcome*********\n"
          ]
        }
      ]
    },
    {
      "cell_type": "markdown",
      "source": [
        "10.What is the best way to remove whitespace characters from the start or end?\n",
        "\n",
        "strip - removes the whitespace in the beginning and end of the string\n",
        "\n",
        "lstrip - removes the whitespace in the beginning of the string\n",
        "\n",
        "rstrip - removes the whitespace in the end of the string"
      ],
      "metadata": {
        "id": "ZfvL0Fovm1FO"
      }
    },
    {
      "cell_type": "code",
      "source": [
        "str =\"  welcome  \"\n",
        "str.strip()"
      ],
      "metadata": {
        "colab": {
          "base_uri": "https://localhost:8080/",
          "height": 35
        },
        "id": "-5SOBfJkEsDS",
        "outputId": "aa9dcd76-a853-48e3-fa6c-f9aeaf90a6dc"
      },
      "execution_count": 24,
      "outputs": [
        {
          "output_type": "execute_result",
          "data": {
            "text/plain": [
              "'welcome'"
            ],
            "application/vnd.google.colaboratory.intrinsic+json": {
              "type": "string"
            }
          },
          "metadata": {},
          "execution_count": 24
        }
      ]
    },
    {
      "cell_type": "code",
      "source": [
        "str = \"  welcome  \"\n",
        "str.lstrip()"
      ],
      "metadata": {
        "colab": {
          "base_uri": "https://localhost:8080/",
          "height": 35
        },
        "id": "UxOvOoFVExt8",
        "outputId": "5f4b99fa-9d8d-4249-a7ef-76653cc96b42"
      },
      "execution_count": 25,
      "outputs": [
        {
          "output_type": "execute_result",
          "data": {
            "text/plain": [
              "'welcome  '"
            ],
            "application/vnd.google.colaboratory.intrinsic+json": {
              "type": "string"
            }
          },
          "metadata": {},
          "execution_count": 25
        }
      ]
    },
    {
      "cell_type": "code",
      "source": [
        "str = \"  welcome to programming  \"\n",
        "str.rstrip()"
      ],
      "metadata": {
        "colab": {
          "base_uri": "https://localhost:8080/",
          "height": 35
        },
        "id": "Xkuz5wMoFBYR",
        "outputId": "4dc5b93e-4fd3-42e9-cd7d-93a5d7c96218"
      },
      "execution_count": 28,
      "outputs": [
        {
          "output_type": "execute_result",
          "data": {
            "text/plain": [
              "'  welcome to programming'"
            ],
            "application/vnd.google.colaboratory.intrinsic+json": {
              "type": "string"
            }
          },
          "metadata": {},
          "execution_count": 28
        }
      ]
    }
  ]
}