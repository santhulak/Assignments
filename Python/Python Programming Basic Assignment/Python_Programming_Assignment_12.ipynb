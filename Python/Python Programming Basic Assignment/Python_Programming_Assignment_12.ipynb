{
  "nbformat": 4,
  "nbformat_minor": 0,
  "metadata": {
    "colab": {
      "provenance": [],
      "collapsed_sections": []
    },
    "kernelspec": {
      "name": "python3",
      "display_name": "Python 3"
    },
    "language_info": {
      "name": "python"
    }
  },
  "cells": [
    {
      "cell_type": "markdown",
      "source": [
        "1.Write a Python program to Extract Unique values dictionary values?\n"
      ],
      "metadata": {
        "id": "kEWDMLQNKVOS"
      }
    },
    {
      "cell_type": "code",
      "execution_count": 2,
      "metadata": {
        "colab": {
          "base_uri": "https://localhost:8080/"
        },
        "id": "4eVyMSxrJ0BT",
        "outputId": "8d30ae89-4de5-4be9-d062-6aa4535dd00f"
      },
      "outputs": [
        {
          "output_type": "stream",
          "name": "stdout",
          "text": [
            "Original Dictionary Values : dict_values(['apple', 'orange', 'grapes', 'orange', 'berries', 'apple', 'orange', 'kiwi', 'berries', 'berry'])\n",
            "Unique values are : {'kiwi', 'berries', 'grapes', 'apple', 'berry', 'orange'}\n"
          ]
        }
      ],
      "source": [
        "my_dic ={1:\"apple\",2:\"orange\",3:\"grapes\",4:\"orange\",5:\"berries\",6:\"apple\",7:\"orange\",8:\"kiwi\",9:\"berries\",10:\"berry\"}\n",
        "print(f\"Original Dictionary Values : {my_dic.values()}\")\n",
        "print(f\"Unique values are : {set(my_dic.values())}\")"
      ]
    },
    {
      "cell_type": "markdown",
      "source": [
        "2.Write a Python program to find the sum of all items in a dictionary?\n"
      ],
      "metadata": {
        "id": "AYw3XlWUKaHr"
      }
    },
    {
      "cell_type": "code",
      "source": [
        "my_dic ={\"apple\":100,\"orange\":50,\"berries\":20,\"kiwi\":9,\"berry\":10}\n",
        "print(f\"Sum of all items in dictionary : {sum(my_dic.values())}\")"
      ],
      "metadata": {
        "colab": {
          "base_uri": "https://localhost:8080/"
        },
        "id": "IFO82nl3PWJo",
        "outputId": "a6ea2cf0-036e-419e-ca13-04b777569523"
      },
      "execution_count": 4,
      "outputs": [
        {
          "output_type": "stream",
          "name": "stdout",
          "text": [
            "Sum of all items in dictionary : 189\n"
          ]
        }
      ]
    },
    {
      "cell_type": "markdown",
      "source": [
        "3.Write a Python program to Merging two Dictionaries?\n"
      ],
      "metadata": {
        "id": "Z_HWcjrRKbvT"
      }
    },
    {
      "cell_type": "code",
      "source": [
        "my_dict = {\"author\": \"michael crichton\"}\n",
        "\n",
        "my_dict1 = {\"Books\":[\"Binary\",\"Jurassic Park\",\"Airframe\"]}\n",
        "\n",
        "my_dict.update(my_dict1)\n",
        "my_dict"
      ],
      "metadata": {
        "colab": {
          "base_uri": "https://localhost:8080/"
        },
        "id": "PRVwzra5dxgL",
        "outputId": "ed74ca61-8f9f-4d46-c2ee-afe8872b264b"
      },
      "execution_count": 7,
      "outputs": [
        {
          "output_type": "execute_result",
          "data": {
            "text/plain": [
              "{'author': 'michael crichton',\n",
              " 'Books': ['Binary', 'Jurassic Park', 'Airframe']}"
            ]
          },
          "metadata": {},
          "execution_count": 7
        }
      ]
    },
    {
      "cell_type": "markdown",
      "source": [
        "4.Write a Python program to convert key-values list to flat dictionary?\n"
      ],
      "metadata": {
        "id": "si4IzO5aKdRn"
      }
    },
    {
      "cell_type": "code",
      "source": [
        "li= [(\"name\",\"lak\"),(\"age\",30),(\"course\",\"Datascience\")]\n",
        "dict(li)"
      ],
      "metadata": {
        "colab": {
          "base_uri": "https://localhost:8080/"
        },
        "id": "JdlKkJCne4Sl",
        "outputId": "4d7a7f50-b203-4066-b1d9-3af5ba3cf8a7"
      },
      "execution_count": 9,
      "outputs": [
        {
          "output_type": "execute_result",
          "data": {
            "text/plain": [
              "{'name': 'lak', 'age': 30, 'course': 'Datascience'}"
            ]
          },
          "metadata": {},
          "execution_count": 9
        }
      ]
    },
    {
      "cell_type": "markdown",
      "source": [
        "5.Write a Python program to insertion at the beginning in OrderedDict?\n"
      ],
      "metadata": {
        "id": "iKjDP4OGKezr"
      }
    },
    {
      "cell_type": "code",
      "source": [
        "from collections import OrderedDict\n",
        "dic1 = OrderedDict([(\"A\",11),(\"B\",12),(\"C\",13)])\n",
        "dic2 = OrderedDict([(\"D\",14)])\n",
        "res = OrderedDict(list(dic2.items()) + list(dic1.items()))\n",
        "res\n"
      ],
      "metadata": {
        "colab": {
          "base_uri": "https://localhost:8080/"
        },
        "id": "d7oGOlG8KkDX",
        "outputId": "de72247e-36df-425d-d9fd-a263cb4512d9"
      },
      "execution_count": 13,
      "outputs": [
        {
          "output_type": "execute_result",
          "data": {
            "text/plain": [
              "OrderedDict([('D', 14), ('A', 11), ('B', 12), ('C', 13)])"
            ]
          },
          "metadata": {},
          "execution_count": 13
        }
      ]
    },
    {
      "cell_type": "markdown",
      "source": [
        "6.Write a Python program to check order of character in string using OrderedDict()?\n"
      ],
      "metadata": {
        "id": "dEqHSsheKged"
      }
    },
    {
      "cell_type": "code",
      "source": [
        "from collections import OrderedDict\n",
        "my_dic ={1:\"apple\",12:\"orange\",3:\"grapes\",4:\"orange\",15:\"berries\",6:\"apple\",17:\"orange\",8:\"kiwi\",19:\"berries\",10:\"berry\"}\n",
        "OrderedDict(dict(sorted(my_dic.items())))"
      ],
      "metadata": {
        "colab": {
          "base_uri": "https://localhost:8080/"
        },
        "id": "gTJOqJLfKjbz",
        "outputId": "9f741701-30b0-4e22-fe32-e8a666f87303"
      },
      "execution_count": 18,
      "outputs": [
        {
          "output_type": "execute_result",
          "data": {
            "text/plain": [
              "OrderedDict([(1, 'apple'),\n",
              "             (3, 'grapes'),\n",
              "             (4, 'orange'),\n",
              "             (6, 'apple'),\n",
              "             (8, 'kiwi'),\n",
              "             (10, 'berry'),\n",
              "             (12, 'orange'),\n",
              "             (15, 'berries'),\n",
              "             (17, 'orange'),\n",
              "             (19, 'berries')])"
            ]
          },
          "metadata": {},
          "execution_count": 18
        }
      ]
    },
    {
      "cell_type": "markdown",
      "source": [
        "7.Write a Python program to sort Python Dictionaries by Key or Value?"
      ],
      "metadata": {
        "id": "wicz3CKXKh3z"
      }
    },
    {
      "cell_type": "code",
      "source": [
        "my_dic ={1:\"apple\",12:\"orange\",3:\"grapes\",4:\"orange\",15:\"berries\",6:\"apple\",17:\"orange\",8:\"kiwi\",19:\"berries\",10:\"berry\"}\n",
        "\n",
        "def sort_dict(a,b):\n",
        "  if b == 'key':\n",
        "    print(dict(sorted(a.items(),key = lambda x:x[0], reverse=False)))\n",
        "  else:\n",
        "    print(dict(sorted(a.items(),key = lambda x:x[1], reverse=False)))\n",
        "\n",
        "sort_dict(my_dic,'key')\n",
        "sort_dict(my_dic,'value')"
      ],
      "metadata": {
        "colab": {
          "base_uri": "https://localhost:8080/"
        },
        "id": "8drHeg7dKi0K",
        "outputId": "3d037bac-913d-4447-ba97-13d5d2a60be8"
      },
      "execution_count": 21,
      "outputs": [
        {
          "output_type": "stream",
          "name": "stdout",
          "text": [
            "{1: 'apple', 3: 'grapes', 4: 'orange', 6: 'apple', 8: 'kiwi', 10: 'berry', 12: 'orange', 15: 'berries', 17: 'orange', 19: 'berries'}\n",
            "{1: 'apple', 6: 'apple', 15: 'berries', 19: 'berries', 10: 'berry', 3: 'grapes', 8: 'kiwi', 12: 'orange', 4: 'orange', 17: 'orange'}\n"
          ]
        }
      ]
    }
  ]
}