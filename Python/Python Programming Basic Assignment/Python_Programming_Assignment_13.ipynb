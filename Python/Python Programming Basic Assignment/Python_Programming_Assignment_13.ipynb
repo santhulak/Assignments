{
  "nbformat": 4,
  "nbformat_minor": 0,
  "metadata": {
    "colab": {
      "provenance": [],
      "collapsed_sections": []
    },
    "kernelspec": {
      "name": "python3",
      "display_name": "Python 3"
    },
    "language_info": {
      "name": "python"
    }
  },
  "cells": [
    {
      "cell_type": "markdown",
      "source": [
        "1.Write a program that calculates and prints the value according to the given formula:\n",
        "\n",
        "Q = Square root of [(2 * C * D)/H]\n",
        "\n",
        "Following are the fixed values of C and H:\n",
        "\n",
        "C is 50. H is 30.\n",
        "\n",
        "D is the variable whose values should be input to your program in a comma-separated sequence.\n",
        "\n",
        "Example\n",
        "\n",
        "Let us assume the following comma separated input sequence is given to the program:\n",
        "\n",
        "100,150,180\n",
        "\n",
        "The output of the program should be:\n",
        "\n",
        "18,22,24\n"
      ],
      "metadata": {
        "id": "iqTwn4c_tlBh"
      }
    },
    {
      "cell_type": "code",
      "execution_count": null,
      "metadata": {
        "colab": {
          "base_uri": "https://localhost:8080/"
        },
        "id": "Uszk5uY5tkOd",
        "outputId": "ba87715c-3e1a-42f6-b074-ee0b5582b005"
      },
      "outputs": [
        {
          "output_type": "stream",
          "name": "stdout",
          "text": [
            "Enter the value for D: 100,200,300\n",
            "[3, 5, 6]\n"
          ]
        }
      ],
      "source": [
        "import math\n",
        "C = 50\n",
        "H = 30\n",
        "D = input(\"Enter the value for D: \")\n",
        "D = D.split(',')\n",
        "li = []\n",
        "for i in D:\n",
        "  Q = round(math.sqrt(2*C*int(i))/H)\n",
        "  li.append(Q)\n",
        "print(li)\n"
      ]
    },
    {
      "cell_type": "markdown",
      "source": [
        "2.Write a program which takes 2 digits, X,Y as input and generates a 2-dimensional array. The element value in the i-th row and j-th column of the array should be i*j.\n",
        "\n",
        "Note: i=0,1.., X-1; j=0,1,¡\u001fY-1.\n",
        "\n",
        "Example\n",
        "\n",
        "Suppose the following inputs are given to the program:\n",
        "\n",
        "3,5\n",
        "\n",
        "Then, the output of the program should be:\n",
        "\n",
        "[[0, 0, 0, 0, 0], [0, 1, 2, 3, 4], [0, 2, 4, 6, 8]] "
      ],
      "metadata": {
        "id": "7mUwVggu1a-E"
      }
    },
    {
      "cell_type": "code",
      "source": [
        "row_num = int(input(\"Enter number of rows: \"))\n",
        "col_num = int(input(\"Enter number of rows: \"))\n",
        "multi_li = [[0 for col in range(col_num)] for row in range(row_num)]\n",
        "multi_li\n",
        "for row in range(row_num):\n",
        "  for col in range(col_num):\n",
        "    multi_li[row][col] = row*col\n",
        "print(multi_li)\n"
      ],
      "metadata": {
        "id": "xyk0uLk7xjU0",
        "colab": {
          "base_uri": "https://localhost:8080/"
        },
        "outputId": "2f64a3e6-b500-46ed-a14a-8855cd7e6bdc"
      },
      "execution_count": 5,
      "outputs": [
        {
          "output_type": "stream",
          "name": "stdout",
          "text": [
            "Enter number of rows: 4\n",
            "Enter number of rows: 5\n",
            "[[0, 0, 0, 0, 0], [0, 1, 2, 3, 4], [0, 2, 4, 6, 8], [0, 3, 6, 9, 12]]\n"
          ]
        }
      ]
    },
    {
      "cell_type": "code",
      "source": [],
      "metadata": {
        "id": "1ND9xarw8K9X"
      },
      "execution_count": null,
      "outputs": []
    },
    {
      "cell_type": "markdown",
      "source": [
        "3.Write a program that accepts a comma separated sequence of words as input and prints the words in a comma-separated sequence after sorting them alphabetically.\n",
        "\n",
        "Suppose the following input is supplied to the program:\n",
        "\n",
        "without,hello,bag,world\n",
        "\n",
        "Then, the output should be:\n",
        "\n",
        "bag,hello,without,world"
      ],
      "metadata": {
        "id": "y5AXly6N1jHl"
      }
    },
    {
      "cell_type": "code",
      "source": [
        "def sort_word():\n",
        "  in_word = input()\n",
        "  out_word =','. join(sorted(in_word.split(',')))\n",
        "  return out_word\n",
        "\n",
        "sort_word()\n"
      ],
      "metadata": {
        "id": "wJNgfnll1n-S",
        "colab": {
          "base_uri": "https://localhost:8080/",
          "height": 53
        },
        "outputId": "fdeb98e6-a6ab-4b80-b7ea-2e02bbdb61e0"
      },
      "execution_count": 8,
      "outputs": [
        {
          "name": "stdout",
          "output_type": "stream",
          "text": [
            "without,hello,bag,world\n"
          ]
        },
        {
          "output_type": "execute_result",
          "data": {
            "text/plain": [
              "'bag,hello,without,world'"
            ],
            "application/vnd.google.colaboratory.intrinsic+json": {
              "type": "string"
            }
          },
          "metadata": {},
          "execution_count": 8
        }
      ]
    },
    {
      "cell_type": "markdown",
      "source": [
        "4.Write a program that accepts a sequence of whitespace separated words as input and prints the words after removing all duplicate words and sorting them alphanumerically.\n",
        "\n",
        "Suppose the following input is supplied to the program:\n",
        "\n",
        "hello world and practice makes perfect and hello world again\n",
        "\n",
        "Then, the output should be:\n",
        "\n",
        "again and hello makes perfect practice world"
      ],
      "metadata": {
        "id": "jb6uxzdP1odc"
      }
    },
    {
      "cell_type": "code",
      "source": [
        "in_sent = input()\n",
        "out_sent = ' ' . join(sorted(sorted((set(in_sent.split(' '))))))\n",
        "print(f\"Output : {out_sent}\")"
      ],
      "metadata": {
        "id": "_ltnrU5K1tWq",
        "colab": {
          "base_uri": "https://localhost:8080/"
        },
        "outputId": "ec2f224c-d671-4ab4-8db5-16ea4d49c0f0"
      },
      "execution_count": 15,
      "outputs": [
        {
          "output_type": "stream",
          "name": "stdout",
          "text": [
            "hello world and practice makes perfect and hello world again\n",
            "Output : again and hello makes perfect practice world\n"
          ]
        }
      ]
    },
    {
      "cell_type": "markdown",
      "source": [
        "5.Write a program that accepts a sentence and calculate the number of letters and digits.\n",
        "\n",
        "Suppose the following input is supplied to the program:\n",
        "\n",
        "hello world! 123\n",
        "\n",
        "Then, the output should be:\n",
        "\n",
        "LETTERS 10\n",
        "\n",
        "DIGITS 3"
      ],
      "metadata": {
        "id": "cZsK0l0R1tvm"
      }
    },
    {
      "cell_type": "code",
      "source": [
        "str = input(\"Enter the String: \")\n",
        "digits=letters=0\n",
        "for i in str:\n",
        "  if i.isdigit():\n",
        "    digits = digits+1\n",
        "  elif i.isalpha():\n",
        "    letters = letters+1\n",
        "  else:\n",
        "    pass\n",
        "\n",
        "print(f\"Number of Letters: {letters}\")\n",
        "print(f\"Number of Digits: {digits}\")\n"
      ],
      "metadata": {
        "id": "tX9p39MR1ygQ",
        "colab": {
          "base_uri": "https://localhost:8080/"
        },
        "outputId": "b7142d21-9c6b-4e61-de3c-f4c5ced9dd59"
      },
      "execution_count": 18,
      "outputs": [
        {
          "output_type": "stream",
          "name": "stdout",
          "text": [
            "Enter the String: hello world! 123\n",
            "Number of Letters: 10\n",
            "Number of Digits: 3\n"
          ]
        }
      ]
    },
    {
      "cell_type": "markdown",
      "source": [
        "6.A website requires the users to input username and password to register. Write a program to check the validity of password input by users.\n",
        "\n",
        "Following are the criteria for checking the password:\n",
        "\n",
        "1. At least 1 letter between [a-z]\n",
        "\n",
        "2. At least 1 number between [0-9]\n",
        "\n",
        "1. At least 1 letter between [A-Z]\n",
        "\n",
        "3. At least 1 character from [$#@]\n",
        "\n",
        "4. Minimum length of transaction password: 6\n",
        "\n",
        "5. Maximum length of transaction password: 12\n",
        "\n",
        "Your program should accept a sequence of comma separated passwords and will check them according to the above criteria. Passwords that match the criteria are to be printed, each separated by a comma.\n",
        "\n",
        "Example\n",
        "\n",
        "If the following passwords are given as input to the program:\n",
        "\n",
        "ABd1234@1,a F1#,2w3E*,2We3345\n",
        "\n",
        "Then, the output of the program should be:\n",
        "\n",
        "ABd1234@1"
      ],
      "metadata": {
        "id": "I1UaeNgi1yyI"
      }
    },
    {
      "cell_type": "code",
      "source": [
        "str = input(\"Enter the Password : \")\n",
        "lower_alpa = \"abcdefghijklmnopqrstuvwxyz\"\n",
        "upper_alpa = \"ABCDEFGHIJKLMNOPQRSTUVWXYZ\"\n",
        "num =\"0123456789\"\n",
        "special_char = \"@$#*!%^&*\"\n",
        "for i in str.split(','):\n",
        "  if len(i)>=6 and len(i)<=12:\n",
        "    if any(j.isupper() for j in i):\n",
        "      if any(j.islower() for j in i):\n",
        "        if any(j for j in i if j in special_char):\n",
        "          print(i)"
      ],
      "metadata": {
        "id": "K5ih048c16RM",
        "colab": {
          "base_uri": "https://localhost:8080/"
        },
        "outputId": "cfe38a3a-1942-4cb4-f900-442764569a7b"
      },
      "execution_count": 20,
      "outputs": [
        {
          "output_type": "stream",
          "name": "stdout",
          "text": [
            "Enter the Password : ABd1234@1,a F1#,2w3E*,2We3345\n",
            "ABd1234@1\n"
          ]
        }
      ]
    }
  ]
}