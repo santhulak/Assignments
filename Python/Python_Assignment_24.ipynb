{
  "nbformat": 4,
  "nbformat_minor": 0,
  "metadata": {
    "colab": {
      "provenance": [],
      "collapsed_sections": []
    },
    "kernelspec": {
      "name": "python3",
      "display_name": "Python 3"
    },
    "language_info": {
      "name": "python"
    }
  },
  "cells": [
    {
      "cell_type": "markdown",
      "source": [
        "1.What is the relationship between def statements and lambda expressions ?\n",
        "\n",
        "def statement is to define a function. def is normal function which is defined using 'def' keyword before the function name. Function returns only when it is called. We can pass as many arguments as required.\n",
        "\n",
        "Lambda expressions is an anonymous function or function without name. lambda keyword is used to define this anonymous function. It does not include return statement.A lambda function can have any number of parameters, but the function body can only contain one expression."
      ],
      "metadata": {
        "id": "HZta5zqhTAB3"
      }
    },
    {
      "cell_type": "markdown",
      "source": [
        "2.What is the benefit of lambda?\n",
        "\n",
        "Lambda is a simple anonymous expression as a function. It is written in a single line. Lambda expressions can be assigned to a variable and can be called easily.\n"
      ],
      "metadata": {
        "id": "ruSA8q09TSjl"
      }
    },
    {
      "cell_type": "markdown",
      "source": [
        "3.Compare and contrast map, filter, and reduce.\n",
        "\n",
        "\n",
        "The map() function executes a specified function for each item in an iterable. \n",
        "The item is sent as parameter to the function.\n",
        "\n",
        "syntax:\n",
        "\n",
        "*map(function, iterables)*\n",
        "\n",
        "The filter() function returns an iterator were the items are filtered through a function to test if the item is accepted or not.\n",
        "\n",
        "syntax:\n",
        "\n",
        "*filter(function, iterables)*\n",
        "\n",
        "reduce() works differently than map() and filter() . It does not return a new list based on the function and iterable we've passed. Instead, it returns a single value. \n",
        "\n",
        "Syntax:\n",
        "\n",
        "*reduce(function, sequence[, initial]) -> value*\n",
        "\n"
      ],
      "metadata": {
        "id": "X5_JLWbVTUIG"
      }
    },
    {
      "cell_type": "markdown",
      "source": [
        "4.What are function annotations, and how are they used?\n",
        "\n",
        "\n",
        "Function annotations allows us to add arbitary metadata to function parameters and return value. It is a standard way to link metadata to function parameters\n",
        "\n",
        "Annotations of simple parameters:\n",
        "```\n",
        "def func1(a:expression,y:expression=20)\n",
        "```\n",
        "\n",
        "Annotations of excess parameters:\n",
        "\n",
        "\n",
        "\n",
        "```\n",
        "def func1(**a:expression , **y:expression=20)\n",
        "```\n",
        "\n"
      ],
      "metadata": {
        "id": "oY-nz91pTVqX"
      }
    },
    {
      "cell_type": "markdown",
      "source": [
        "5.What are recursive functions, and how are they used?\n",
        "\n",
        "Recursion is a technique by creating a function that calls itself until your program achieves the desired result.\n",
        "\n",
        "\n",
        "\n",
        "\n",
        "```\n",
        "def function():\n",
        "    x = 10\n",
        "function()\n",
        "```\n",
        "Whenever the function is called new namescape is created and value of 10 gets assigned. Each namespace is identical\n",
        "\n"
      ],
      "metadata": {
        "id": "nlA-XD-ETXYi"
      }
    },
    {
      "cell_type": "markdown",
      "source": [
        "6.What are some general design guidelines for coding functions?\n",
        "\n",
        "General design guidelines for coding functions are :\n",
        "\n",
        " \n",
        "\n",
        "Use blank lines for logic separation of functionality within functions/methods\n",
        "\n",
        "Move function arguments to a new line with an indentation, if they do not fit into the specified line length wherever it is justified.\n",
        "\n",
        "Use 4 spaces instead of tabs\n",
        "\n",
        "2 blank lines between classes and functions\n",
        "\n",
        "Use snake_case for modules, variables, attributes, functions, and method names, not CamelCase\n",
        "\n",
        "Use CamelCase for class names\n",
        "\n",
        "\n",
        "\n",
        "\n",
        "\n"
      ],
      "metadata": {
        "id": "rSPZnvfQTY61"
      }
    },
    {
      "cell_type": "markdown",
      "source": [
        "7.Name three or more ways that functions can communicate results to a caller.\n",
        "\n",
        "return\n",
        "\n",
        "print\n",
        "\n",
        "yield\n",
        "\n"
      ],
      "metadata": {
        "id": "G4RXJkUcTaeS"
      }
    }
  ]
}