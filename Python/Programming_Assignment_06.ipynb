{
  "nbformat": 4,
  "nbformat_minor": 0,
  "metadata": {
    "colab": {
      "provenance": [],
      "collapsed_sections": []
    },
    "kernelspec": {
      "name": "python3",
      "display_name": "Python 3"
    },
    "language_info": {
      "name": "python"
    }
  },
  "cells": [
    {
      "cell_type": "markdown",
      "source": [
        "1.\tWrite a Python Program to Display Fibonacci Sequence Using Recursion?\n",
        "\n"
      ],
      "metadata": {
        "id": "y3SvRqFEd4HN"
      }
    },
    {
      "cell_type": "code",
      "execution_count": 3,
      "metadata": {
        "id": "Jxd5U7f0dzKx",
        "colab": {
          "base_uri": "https://localhost:8080/"
        },
        "outputId": "53e54b07-75b2-485a-a93b-30c59e87ef72"
      },
      "outputs": [
        {
          "output_type": "stream",
          "name": "stdout",
          "text": [
            "Enter the number of terms: 10\n",
            "Fibonacci Sequence : \n",
            "0\n",
            "1\n",
            "1\n",
            "2\n",
            "3\n",
            "5\n",
            "8\n",
            "13\n",
            "21\n",
            "34\n"
          ]
        }
      ],
      "source": [
        "def recur_fibo(n):\n",
        "  if n<=1:\n",
        "    return n\n",
        "  else:\n",
        "    return recur_fibo(n-1)+ recur_fibo(n-2)\n",
        "\n",
        "no_terms = int(input(\"Enter the number of terms: \"))\n",
        "if no_terms <=0:\n",
        "  print(\"Enter a valid integer\")\n",
        "else:\n",
        "  print(\"Fibonacci Sequence : \")\n",
        "  for i in range(no_terms):\n",
        "    print(recur_fibo(i))\n"
      ]
    },
    {
      "cell_type": "markdown",
      "source": [
        "2.\tWrite a Python Program to Find Factorial of Number Using Recursion?\n"
      ],
      "metadata": {
        "id": "AEMZVZI_d6ob"
      }
    },
    {
      "cell_type": "code",
      "source": [
        "def recur_fact(n):\n",
        "  if n == 1:\n",
        "    return n\n",
        "  else:\n",
        "    return n * recur_fact(n-1)\n",
        "\n",
        "num = int(input(\"Enter the number : \"))\n",
        "\n",
        "if num == 0:\n",
        "  print(\"Factorial of 0 is 1\")\n",
        "elif num < 0:\n",
        "  print(\"Factorial is not available for negative numbers\")\n",
        "else:\n",
        "  print(f\"Factorial of {num} is {recur_fact(num)}\")"
      ],
      "metadata": {
        "id": "GjdNtZaEd8Yg",
        "colab": {
          "base_uri": "https://localhost:8080/"
        },
        "outputId": "7f3453ba-ebd5-4f2c-b8c6-1d3bd621d1fc"
      },
      "execution_count": 5,
      "outputs": [
        {
          "output_type": "stream",
          "name": "stdout",
          "text": [
            "Enter the number : 5\n",
            "Factorial of 5 is 120\n"
          ]
        }
      ]
    },
    {
      "cell_type": "markdown",
      "source": [
        "3.\tWrite a Python Program to calculate your Body Mass Index?\n"
      ],
      "metadata": {
        "id": "J9zv3fkxd80r"
      }
    },
    {
      "cell_type": "code",
      "source": [
        "#calculate the BMI \n",
        "weight = float(input(\"Enter the weight in kg: \"))\n",
        "height =  float(input(\"Enter the height in cms: \"))\n",
        "#BMI Formula\n",
        "BMI = weight/(height/100)**2\n",
        "print(f\"Your Body Mass Index is : {BMI}\")\n",
        "\n",
        "if BMI <= 18.5:\n",
        "  print(\"You are underweight\")\n",
        "elif BMI <= 24.9:\n",
        "  print(\"You are Normal\")\n",
        "elif BMI <= 29.9:\n",
        "  print(\"You are Overweight\")\n",
        "else:\n",
        "  print(\"You are Obese\")\n"
      ],
      "metadata": {
        "colab": {
          "base_uri": "https://localhost:8080/"
        },
        "id": "9N2s7kLKqEs3",
        "outputId": "9f7559b0-9866-44e4-d7f4-4ca8e52c0376"
      },
      "execution_count": 8,
      "outputs": [
        {
          "output_type": "stream",
          "name": "stdout",
          "text": [
            "Enter the weight in kg: 62\n",
            "Enter the height in cms: 164\n",
            "Your Body Mass Index is : 23.051754907792983\n",
            "You are Normal\n"
          ]
        }
      ]
    },
    {
      "cell_type": "markdown",
      "source": [
        "4.\tWrite a Python Program to calculate the natural logarithm of any number?\n"
      ],
      "metadata": {
        "id": "SP9AuKwbd-_j"
      }
    },
    {
      "cell_type": "code",
      "source": [
        "import math\n",
        "num = float(input(\"Enter the number: \"))\n",
        "\n",
        "print(f\"Logarithm of {num} is {math.log(num)}\")\n"
      ],
      "metadata": {
        "id": "GSCnh30keA3k",
        "colab": {
          "base_uri": "https://localhost:8080/"
        },
        "outputId": "b118e9c5-f377-420e-8167-ebc40abf1de5"
      },
      "execution_count": 10,
      "outputs": [
        {
          "output_type": "stream",
          "name": "stdout",
          "text": [
            "Enter the number13.8\n",
            "Logarithm of 13.8 is 2.624668592163159\n"
          ]
        }
      ]
    },
    {
      "cell_type": "markdown",
      "source": [
        "5.\tWrite a Python Program for cube sum of first n natural numbers?"
      ],
      "metadata": {
        "id": "z8UgKnIveBPL"
      }
    },
    {
      "cell_type": "code",
      "source": [
        "\n",
        "n = int(input(\"Enter the number: \"))\n",
        "sum = 0\n",
        "\n",
        "for i in range(1, n+1):\n",
        "  sum = sum + i**3\n",
        "print(f\"Cube sum of first {n} natural numbers are : {sum} \")\n"
      ],
      "metadata": {
        "id": "OmQjlkH3eCA8",
        "colab": {
          "base_uri": "https://localhost:8080/"
        },
        "outputId": "d332728a-81f2-4baa-b589-10c68089b101"
      },
      "execution_count": 12,
      "outputs": [
        {
          "output_type": "stream",
          "name": "stdout",
          "text": [
            "Enter the number5\n",
            "Cube sum of first 5 natural numbers are : 225 \n"
          ]
        }
      ]
    }
  ]
}