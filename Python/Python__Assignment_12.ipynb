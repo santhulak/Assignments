{
  "nbformat": 4,
  "nbformat_minor": 0,
  "metadata": {
    "colab": {
      "provenance": [],
      "collapsed_sections": []
    },
    "kernelspec": {
      "name": "python3",
      "display_name": "Python 3"
    },
    "language_info": {
      "name": "python"
    }
  },
  "cells": [
    {
      "cell_type": "markdown",
      "source": [
        "1.In what modes should the PdfFileReader() and PdfFileWriter() File objects will be opened?\n",
        "\n",
        "\n",
        "\n",
        "```\n",
        "PdfFileReader() needs to be opened in read-binary mode by passing 'rb' as the\n",
        "second argument to open() function\n",
        "\n",
        "PdfFileWriter() needs to be opened in write-binary mode by passing 'wb' as the\n",
        "second argument to open() function\n",
        "```\n",
        "\n"
      ],
      "metadata": {
        "id": "yf5oO-kUELA-"
      }
    },
    {
      "cell_type": "markdown",
      "source": [
        "2.From a PdfFileReader object, how do you get a Page object for page 5?\n",
        "\n",
        "Get the Page object by calling the getPage(pagenumber) function\n",
        "\n",
        "eg: getPage(5)"
      ],
      "metadata": {
        "id": "EXcKmU6mEXYy"
      }
    },
    {
      "cell_type": "markdown",
      "source": [
        "3.What PdfFileReader variable stores the number of pages in the PDF document?\n",
        "\n",
        "numPages attribute of a PdfFileReader object stores the number of pages in the pdf document."
      ],
      "metadata": {
        "id": "RXN9BDKFEZcO"
      }
    },
    {
      "cell_type": "markdown",
      "source": [
        "4.If a PdfFileReader object’s PDF is encrypted with the password swordfish, what must you do before you can obtain Page objects from it?\n",
        "\n",
        "Calling  decrypt('swordfish') function decrypts the PdfFileReader object"
      ],
      "metadata": {
        "id": "-EXzHkQxEbik"
      }
    },
    {
      "cell_type": "markdown",
      "source": [
        "5.What methods do you use to rotate a page?\n",
        "\n",
        "rotateClockwise(180) method is used to rotate a page\n"
      ],
      "metadata": {
        "id": "mrPXFFqPEdUN"
      }
    },
    {
      "cell_type": "markdown",
      "source": [
        "6.What is the difference between a Run object and a Paragraph object?\n",
        "\n",
        "Paragraph also has run object that is a list of Run objects.\n",
        "\n",
        "Run object also has text attribute containing the text in that particular Run \n"
      ],
      "metadata": {
        "id": "YqkUUENcEe9w"
      }
    },
    {
      "cell_type": "markdown",
      "source": [
        "7.How do you obtain a list of Paragraph objects for a Document object that’s stored in a variable named doc?\n",
        "\n",
        "\n",
        "\n",
        "```\n",
        "#!pip install python-docx\n",
        "import docx\n",
        "doc = docx.Document('abc.docx')\n",
        "doc.paragraphs\n",
        "```\n",
        "\n"
      ],
      "metadata": {
        "id": "ds7qhQ11Egqj"
      }
    },
    {
      "cell_type": "markdown",
      "source": [
        "8.What type of object has bold, underline, italic, strike, and outline variables?\n",
        "\n",
        "A Run object has bold, underline, italic, strike, and outline variables"
      ],
      "metadata": {
        "id": "RcFCyTqsEiQ-"
      }
    },
    {
      "cell_type": "markdown",
      "source": [
        "9.What is the difference between False, True, and None for the bold variable?\n",
        "\n",
        "Runs can be styled using text attributes\n",
        "\n",
        "True - the attribute is always enabled.True always makes the Run object bolded\n",
        "\n",
        "False - the attribute is always disabled. False makes it always not bolded\n",
        "\n",
        "None - defaults to whatever the run’s style is set. None will make the Run object just use the style’s bold setting"
      ],
      "metadata": {
        "id": "q6pyil2tEkHX"
      }
    },
    {
      "cell_type": "markdown",
      "source": [
        "10.How do you create a Document object for a new Word document?\n",
        "\n",
        "you create a Document object by calling **docx.Document()** function\n"
      ],
      "metadata": {
        "id": "rZ1Rvv6OElw-"
      }
    },
    {
      "cell_type": "markdown",
      "source": [
        "11.How do you add a paragraph with the text 'Hello, there!' to a Document object stored in a variable named doc?\n",
        "\n",
        "\n",
        "\n",
        "```\n",
        "import docx\n",
        "doc = docx.Document()\n",
        "doc.add_paragraph('Hello, there!')\n",
        "doc.save('test.docx')\n",
        "```\n",
        "\n"
      ],
      "metadata": {
        "id": "lWbV_zKsEnqk"
      }
    },
    {
      "cell_type": "markdown",
      "source": [
        "12.What integers represent the levels of headings available in Word documents?\n",
        "\n",
        "Integer 0 makes the heading the Title style\n",
        "\n",
        "Integers 1 to 4 are for various heading levels:\n",
        "\n",
        "Integer 1 being the main heading\n",
        "\n",
        "Integer 4 being the lowest sub-heading"
      ],
      "metadata": {
        "id": "Tf13bJnjEpyk"
      }
    }
  ]
}