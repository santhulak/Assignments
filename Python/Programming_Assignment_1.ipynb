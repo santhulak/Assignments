{
  "nbformat": 4,
  "nbformat_minor": 0,
  "metadata": {
    "colab": {
      "provenance": [],
      "collapsed_sections": []
    },
    "kernelspec": {
      "name": "python3",
      "display_name": "Python 3"
    },
    "language_info": {
      "name": "python"
    }
  },
  "cells": [
    {
      "cell_type": "markdown",
      "source": [
        "**Programming Assignment_1**"
      ],
      "metadata": {
        "id": "rNaHLDBAOskS"
      }
    },
    {
      "cell_type": "markdown",
      "source": [
        "1.Write a Python program to print \"Hello Python\"?"
      ],
      "metadata": {
        "id": "w3CPHmPWO1JO"
      }
    },
    {
      "cell_type": "code",
      "source": [
        "print(\"Hello Python\")"
      ],
      "metadata": {
        "colab": {
          "base_uri": "https://localhost:8080/"
        },
        "id": "HRrR-LtbO4eS",
        "outputId": "ca6cbb45-9b6c-4246-fcff-3b87648e6b21"
      },
      "execution_count": 1,
      "outputs": [
        {
          "output_type": "stream",
          "name": "stdout",
          "text": [
            "Hello Python\n"
          ]
        }
      ]
    },
    {
      "cell_type": "markdown",
      "source": [
        "2.Write a Python program to do arithmetical operations addition and division.?"
      ],
      "metadata": {
        "id": "EO0oYVVHPDN1"
      }
    },
    {
      "cell_type": "code",
      "source": [
        "a = 100\n",
        "b = 200\n",
        "c = a + b\n",
        "d = b//a\n",
        "print(f\"Sum of {a} and {b} is : {c}\")\n",
        "print(f\"Reminder of {b} divided by {a} is : {d}\")"
      ],
      "metadata": {
        "colab": {
          "base_uri": "https://localhost:8080/"
        },
        "id": "fbvX8ZiGPEPR",
        "outputId": "8398a1e9-5880-4401-807a-0abc58cac9d3"
      },
      "execution_count": 4,
      "outputs": [
        {
          "output_type": "stream",
          "name": "stdout",
          "text": [
            "Sum of 100 and 200 is : 300\n",
            "Reminder of 200 divided by 100 is : 2\n"
          ]
        }
      ]
    },
    {
      "cell_type": "markdown",
      "source": [
        "3.Write a Python program to find the area of a triangle?"
      ],
      "metadata": {
        "id": "o_7cFKwIPsyk"
      }
    },
    {
      "cell_type": "code",
      "source": [
        "b = 50\n",
        "h = 6\n",
        "area = b*h/2\n",
        "print(f\"Area of the triangle is : {area}\")"
      ],
      "metadata": {
        "colab": {
          "base_uri": "https://localhost:8080/"
        },
        "id": "7Yy56PLkPvEh",
        "outputId": "05914a6f-5560-40b1-8082-2ddc05ac1439"
      },
      "execution_count": 6,
      "outputs": [
        {
          "output_type": "stream",
          "name": "stdout",
          "text": [
            "Area of the triangle is : 150.0\n"
          ]
        }
      ]
    },
    {
      "cell_type": "markdown",
      "source": [
        "4.Write a Python program to swap two variables?"
      ],
      "metadata": {
        "id": "kUFX9-SLQdSC"
      }
    },
    {
      "cell_type": "code",
      "source": [
        "a = 10\n",
        "b = 20\n",
        "print(f\"The value of a before swapping: {a}\")\n",
        "x = a  #x=10\n",
        "print(f\"The value of b before swapping: {b}\")\n",
        "a = b #a=20\n",
        "b = x #b=20\n",
        "print(f\"The value of a after swapping: {a}\")\n",
        "print(f\"The value of b after swapping: {b}\")"
      ],
      "metadata": {
        "colab": {
          "base_uri": "https://localhost:8080/"
        },
        "id": "DhVgQbajQgLi",
        "outputId": "2bb561d7-6daa-435e-804d-a36e8d0c8f9a"
      },
      "execution_count": 10,
      "outputs": [
        {
          "output_type": "stream",
          "name": "stdout",
          "text": [
            "The value of a before swapping: 10\n",
            "The value of b before swapping: 20\n",
            "The value of a after swapping: 20\n",
            "The value of b after swapping: 10\n"
          ]
        }
      ]
    },
    {
      "cell_type": "markdown",
      "source": [
        "5.Write a Python program to generate a random number?"
      ],
      "metadata": {
        "id": "YieakRyXQoFZ"
      }
    },
    {
      "cell_type": "code",
      "execution_count": 14,
      "metadata": {
        "colab": {
          "base_uri": "https://localhost:8080/"
        },
        "id": "yX4-t923OklY",
        "outputId": "c137b81a-a4c4-492c-ca74-ad0f6a15eb70"
      },
      "outputs": [
        {
          "output_type": "stream",
          "name": "stdout",
          "text": [
            "68\n"
          ]
        }
      ],
      "source": [
        "import random\n",
        "print(random.randint(3,100))"
      ]
    },
    {
      "cell_type": "code",
      "source": [],
      "metadata": {
        "id": "QWpVllZ-Sg_R"
      },
      "execution_count": 12,
      "outputs": []
    }
  ]
}