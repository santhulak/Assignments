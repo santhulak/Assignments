{
  "nbformat": 4,
  "nbformat_minor": 0,
  "metadata": {
    "colab": {
      "provenance": [],
      "collapsed_sections": []
    },
    "kernelspec": {
      "name": "python3",
      "display_name": "Python 3"
    },
    "language_info": {
      "name": "python"
    }
  },
  "cells": [
    {
      "cell_type": "markdown",
      "source": [
        "1.To what does a relative path refer?\n",
        "\n",
        "Relative paths are relative to the current working directory."
      ],
      "metadata": {
        "id": "C61n4eFknlpe"
      }
    },
    {
      "cell_type": "markdown",
      "source": [
        "2.What does an absolute path start with your operating system?\n",
        "\n",
        "Absolute path starts with the root directory as \\ or C:\\"
      ],
      "metadata": {
        "id": "ip9OjLP64stZ"
      }
    },
    {
      "cell_type": "markdown",
      "source": [
        "3.What do the functions os.getcwd() and os.chdir() do?\n",
        "\n",
        "os.getcwd() function returns the current working directory\n",
        "\n",
        "os.chdir() function changes the current working directory\n"
      ],
      "metadata": {
        "id": "dh1QSzcS4ujz"
      }
    },
    {
      "cell_type": "markdown",
      "source": [
        "4.What are the . and .. folders?\n",
        "\n",
        ". folder is the current folder\n",
        "\n",
        ".. folder is the parent folder\n"
      ],
      "metadata": {
        "id": "BE0kBRAU4wjb"
      }
    },
    {
      "cell_type": "markdown",
      "source": [
        "5.In C:\\bacon\\eggs\\spam.txt, which part is the dir name, and which part is the base name?\n",
        "\n",
        "C:\\bacon\\eggs is the directory name\n",
        "\n",
        "spam.txt is the base name"
      ],
      "metadata": {
        "id": "kORipvIS4ycS"
      }
    },
    {
      "cell_type": "markdown",
      "source": [
        "6.What are the three “mode” arguments that can be passed to the open() function?\n",
        "\n",
        "'r' - Read mode\n",
        "\n",
        "'w' - Write mode\n",
        "\n",
        "'a' - Append mode"
      ],
      "metadata": {
        "id": "PczVPS7g40Dy"
      }
    },
    {
      "cell_type": "markdown",
      "source": [
        "7.What happens if an existing file is opened in write mode?\n",
        "\n",
        "Existing file opened in write mode is erased and completely overwritten\n"
      ],
      "metadata": {
        "id": "ZzbWz08O41iM"
      }
    },
    {
      "cell_type": "markdown",
      "source": [
        "8.How do you tell the difference between read() and readlines()?\n",
        "\n",
        "read() - returns the file's entire content as a single string value.\n",
        "\n",
        "readlines() - returns lists of string, where each string is a line from file's contents "
      ],
      "metadata": {
        "id": "g1leQAX543aN"
      }
    },
    {
      "cell_type": "markdown",
      "source": [
        "9.What data structure does a shelf value resemble? \n",
        "\n",
        "Shelf value resembles the dictionary value.\n",
        "\n",
        "It has keys and values along with keys() and values() methods that work similiar to the dictionary methods of the same names."
      ],
      "metadata": {
        "id": "sAEc3tsA45NY"
      }
    }
  ]
}