{
  "nbformat": 4,
  "nbformat_minor": 0,
  "metadata": {
    "colab": {
      "provenance": [],
      "collapsed_sections": []
    },
    "kernelspec": {
      "name": "python3",
      "display_name": "Python 3"
    },
    "language_info": {
      "name": "python"
    }
  },
  "cells": [
    {
      "cell_type": "markdown",
      "source": [
        "1.What advantages do Excel spreadsheets have over CSV spreadsheets?\n",
        "\n",
        "Excel file formats are better for storing complex data. "
      ],
      "metadata": {
        "id": "K-i0_JWAFO9z"
      }
    },
    {
      "cell_type": "markdown",
      "source": [
        "2.What do you pass to csv.reader() and csv.writer() to create reader and writer objects?\n",
        "\n",
        "call open() and pass mode 'r' to open a file in read mode. This will create the object you can then pass to csv.reader()\n",
        "\n",
        "\n",
        "```\n",
        "f = open('test.csv','r')\n",
        "out = csv.reader(f)\n",
        "```\n",
        "\n",
        "\n",
        "call open() and pass mode 'w' to open a file in write mode ❶. This will create the object you can then pass to csv.writer()\n",
        "\n",
        "\n",
        "\n",
        "```\n",
        "f = open('test.csv','w')\n",
        "out = csv.write(f)\n",
        "```\n",
        "\n"
      ],
      "metadata": {
        "id": "zQ2gPyvUFaly"
      }
    },
    {
      "cell_type": "markdown",
      "source": [
        "3.What modes do File objects for reader and writer objects need to be opened in?\n",
        "\n",
        "\n",
        "\n",
        "\n",
        "```\n",
        "r - open a file in read mode\n",
        "w - open a file in write mode. File in write mode creates a new file if the file doesn't exist\n",
        "\n",
        "```\n",
        "\n",
        "\n"
      ],
      "metadata": {
        "id": "AUbfsRY8FcX2"
      }
    },
    {
      "cell_type": "markdown",
      "source": [
        "4.What method takes a list argument and writes it to a CSV file?\n",
        "\n",
        "Method to write data from a list to CSV file is the **writerow()** and **writerows()** method\n",
        "\n"
      ],
      "metadata": {
        "id": "KXRpx4D2FeLl"
      }
    },
    {
      "cell_type": "markdown",
      "source": [
        "5.What do the keyword arguments delimiter and line terminator do?\n",
        "\n",
        "The delimiter is the character that appears between cells on a row. By default, the delimiter for a CSV file is a comma.\n",
        "\n",
        "delimiter='\\t'\n",
        "\n",
        " The line terminator is the character that comes at the end of a row. By default, the line terminator is a newline.\n",
        "\n",
        " lineterminator='\\n\\n'"
      ],
      "metadata": {
        "id": "WTuSCQ7uFgBA"
      }
    },
    {
      "cell_type": "markdown",
      "source": [
        "6.What function takes a string of JSON data and returns a Python data structure?\n",
        "\n",
        "loads() method takes a string of JSON data and returns python data sctructure"
      ],
      "metadata": {
        "id": "-jdfgGQWFhqr"
      }
    },
    {
      "cell_type": "markdown",
      "source": [
        "7.What function takes a Python data structure and returns a string of JSON data?\n",
        "\n",
        "dumps() method takes a Python data structure and returns a string of JSON data"
      ],
      "metadata": {
        "id": "q6gEBwIlFjMV"
      }
    }
  ]
}